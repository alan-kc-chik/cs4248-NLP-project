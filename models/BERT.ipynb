{
 "cells": [
  {
   "cell_type": "code",
   "execution_count": 1,
   "id": "ca4849b4",
   "metadata": {
    "_cell_guid": "b1076dfc-b9ad-4769-8c92-a6c4dae69d19",
    "_uuid": "8f2839f25d086af736a60e9eeb907d3b93b6e0e5",
    "execution": {
     "iopub.execute_input": "2023-03-15T08:09:44.835552Z",
     "iopub.status.busy": "2023-03-15T08:09:44.834870Z",
     "iopub.status.idle": "2023-03-15T08:10:45.953764Z",
     "shell.execute_reply": "2023-03-15T08:10:45.952527Z"
    },
    "papermill": {
     "duration": 61.131125,
     "end_time": "2023-03-15T08:10:45.956466",
     "exception": false,
     "start_time": "2023-03-15T08:09:44.825341",
     "status": "completed"
    },
    "tags": []
   },
   "outputs": [
    {
     "name": "stdout",
     "output_type": "stream",
     "text": [
      "\u001b[31mERROR: pip's dependency resolver does not currently take into account all the packages that are installed. This behaviour is the source of the following dependency conflicts.\r\n",
      "cudf 21.12.2 requires cupy-cuda115, which is not installed.\r\n",
      "tfx-bsl 1.12.0 requires google-api-python-client<2,>=1.7.11, but you have google-api-python-client 2.79.0 which is incompatible.\r\n",
      "tfx-bsl 1.12.0 requires pyarrow<7,>=6, but you have pyarrow 5.0.0 which is incompatible.\r\n",
      "tensorflow-transform 1.12.0 requires pyarrow<7,>=6, but you have pyarrow 5.0.0 which is incompatible.\r\n",
      "onnx 1.13.1 requires protobuf<4,>=3.20.2, but you have protobuf 3.19.6 which is incompatible.\r\n",
      "apache-beam 2.44.0 requires dill<0.3.2,>=0.3.1.1, but you have dill 0.3.6 which is incompatible.\u001b[0m\u001b[31m\r\n",
      "\u001b[0m\u001b[33mWARNING: Running pip as the 'root' user can result in broken permissions and conflicting behaviour with the system package manager. It is recommended to use a virtual environment instead: https://pip.pypa.io/warnings/venv\u001b[0m\u001b[33m\r\n",
      "\u001b[0m\u001b[31mERROR: pip's dependency resolver does not currently take into account all the packages that are installed. This behaviour is the source of the following dependency conflicts.\r\n",
      "dask-cudf 21.12.2 requires cupy-cuda115, which is not installed.\r\n",
      "distributed 2021.11.2 requires dask==2021.11.2, but you have dask 2022.2.0 which is incompatible.\r\n",
      "dask-cudf 21.12.2 requires dask<=2021.11.2,>=2021.11.1, but you have dask 2022.2.0 which is incompatible.\u001b[0m\u001b[31m\r\n",
      "\u001b[0m\u001b[33mWARNING: Running pip as the 'root' user can result in broken permissions and conflicting behaviour with the system package manager. It is recommended to use a virtual environment instead: https://pip.pypa.io/warnings/venv\u001b[0m\u001b[33m\r\n",
      "\u001b[0m"
     ]
    }
   ],
   "source": [
    "!pip install -q tensorflow_text\n",
    "!pip install -q tf-models-official==2.11.0"
   ]
  },
  {
   "cell_type": "code",
   "execution_count": 2,
   "id": "79f3a3e8",
   "metadata": {
    "execution": {
     "iopub.execute_input": "2023-03-15T08:10:45.968525Z",
     "iopub.status.busy": "2023-03-15T08:10:45.967519Z",
     "iopub.status.idle": "2023-03-15T08:10:53.915109Z",
     "shell.execute_reply": "2023-03-15T08:10:53.914009Z"
    },
    "papermill": {
     "duration": 7.956193,
     "end_time": "2023-03-15T08:10:53.917688",
     "exception": false,
     "start_time": "2023-03-15T08:10:45.961495",
     "status": "completed"
    },
    "tags": []
   },
   "outputs": [],
   "source": [
    "import numpy as np\n",
    "import pandas as pd\n",
    "\n",
    "from sklearn import preprocessing\n",
    "from sklearn.model_selection import train_test_split\n",
    "\n",
    "import tensorflow as tf\n",
    "import tensorflow_addons as tfa\n",
    "import tensorflow_hub as hub\n",
    "import tensorflow_text as text  # Registers the ops.\n",
    "from keras.utils import to_categorical\n",
    "from official.nlp import optimization  # to create AdamW optimizer\n",
    "from sklearn.preprocessing import LabelEncoder\n",
    "from sklearn.metrics import classification_report, confusion_matrix\n",
    "\n",
    "# Plots\n",
    "import matplotlib.pyplot as plt\n",
    "import seaborn as sns"
   ]
  },
  {
   "cell_type": "code",
   "execution_count": 3,
   "id": "92546d48",
   "metadata": {
    "execution": {
     "iopub.execute_input": "2023-03-15T08:10:53.929790Z",
     "iopub.status.busy": "2023-03-15T08:10:53.928469Z",
     "iopub.status.idle": "2023-03-15T08:10:57.420387Z",
     "shell.execute_reply": "2023-03-15T08:10:57.419293Z"
    },
    "papermill": {
     "duration": 3.500491,
     "end_time": "2023-03-15T08:10:57.423165",
     "exception": false,
     "start_time": "2023-03-15T08:10:53.922674",
     "status": "completed"
    },
    "tags": []
   },
   "outputs": [],
   "source": [
    "df_train = pd.read_csv('/kaggle/input/labeled-unreliable-news-lun/train.csv', encoding='utf-8')\n",
    "df_test = pd.read_csv('/kaggle/input/labeled-unreliable-news-lun/test.csv', encoding='utf-8')"
   ]
  },
  {
   "cell_type": "code",
   "execution_count": 4,
   "id": "0088c62d",
   "metadata": {
    "execution": {
     "iopub.execute_input": "2023-03-15T08:10:57.436908Z",
     "iopub.status.busy": "2023-03-15T08:10:57.436546Z",
     "iopub.status.idle": "2023-03-15T08:10:57.451600Z",
     "shell.execute_reply": "2023-03-15T08:10:57.450496Z"
    },
    "papermill": {
     "duration": 0.023562,
     "end_time": "2023-03-15T08:10:57.454192",
     "exception": false,
     "start_time": "2023-03-15T08:10:57.430630",
     "status": "completed"
    },
    "tags": []
   },
   "outputs": [
    {
     "data": {
      "text/html": [
       "<div>\n",
       "<style scoped>\n",
       "    .dataframe tbody tr th:only-of-type {\n",
       "        vertical-align: middle;\n",
       "    }\n",
       "\n",
       "    .dataframe tbody tr th {\n",
       "        vertical-align: top;\n",
       "    }\n",
       "\n",
       "    .dataframe thead th {\n",
       "        text-align: right;\n",
       "    }\n",
       "</style>\n",
       "<table border=\"1\" class=\"dataframe\">\n",
       "  <thead>\n",
       "    <tr style=\"text-align: right;\">\n",
       "      <th></th>\n",
       "      <th>label</th>\n",
       "      <th>text</th>\n",
       "    </tr>\n",
       "  </thead>\n",
       "  <tbody>\n",
       "    <tr>\n",
       "      <th>0</th>\n",
       "      <td>0</td>\n",
       "      <td>A little less than a decade ago, hockey fans w...</td>\n",
       "    </tr>\n",
       "    <tr>\n",
       "      <th>1</th>\n",
       "      <td>0</td>\n",
       "      <td>The writers of the HBO series The Sopranos too...</td>\n",
       "    </tr>\n",
       "    <tr>\n",
       "      <th>2</th>\n",
       "      <td>0</td>\n",
       "      <td>Despite claims from the TV news outlet to offe...</td>\n",
       "    </tr>\n",
       "    <tr>\n",
       "      <th>3</th>\n",
       "      <td>0</td>\n",
       "      <td>After receiving 'subpar' service and experienc...</td>\n",
       "    </tr>\n",
       "    <tr>\n",
       "      <th>4</th>\n",
       "      <td>0</td>\n",
       "      <td>After watching his beloved Seattle Mariners pr...</td>\n",
       "    </tr>\n",
       "  </tbody>\n",
       "</table>\n",
       "</div>"
      ],
      "text/plain": [
       "   label                                               text\n",
       "0      0  A little less than a decade ago, hockey fans w...\n",
       "1      0  The writers of the HBO series The Sopranos too...\n",
       "2      0  Despite claims from the TV news outlet to offe...\n",
       "3      0  After receiving 'subpar' service and experienc...\n",
       "4      0  After watching his beloved Seattle Mariners pr..."
      ]
     },
     "execution_count": 4,
     "metadata": {},
     "output_type": "execute_result"
    }
   ],
   "source": [
    "df_train.head()"
   ]
  },
  {
   "cell_type": "code",
   "execution_count": 5,
   "id": "325975d8",
   "metadata": {
    "execution": {
     "iopub.execute_input": "2023-03-15T08:10:57.465112Z",
     "iopub.status.busy": "2023-03-15T08:10:57.464836Z",
     "iopub.status.idle": "2023-03-15T08:10:57.473357Z",
     "shell.execute_reply": "2023-03-15T08:10:57.472392Z"
    },
    "papermill": {
     "duration": 0.01618,
     "end_time": "2023-03-15T08:10:57.475359",
     "exception": false,
     "start_time": "2023-03-15T08:10:57.459179",
     "status": "completed"
    },
    "tags": []
   },
   "outputs": [
    {
     "data": {
      "text/html": [
       "<div>\n",
       "<style scoped>\n",
       "    .dataframe tbody tr th:only-of-type {\n",
       "        vertical-align: middle;\n",
       "    }\n",
       "\n",
       "    .dataframe tbody tr th {\n",
       "        vertical-align: top;\n",
       "    }\n",
       "\n",
       "    .dataframe thead th {\n",
       "        text-align: right;\n",
       "    }\n",
       "</style>\n",
       "<table border=\"1\" class=\"dataframe\">\n",
       "  <thead>\n",
       "    <tr style=\"text-align: right;\">\n",
       "      <th></th>\n",
       "      <th>label</th>\n",
       "      <th>text</th>\n",
       "    </tr>\n",
       "  </thead>\n",
       "  <tbody>\n",
       "    <tr>\n",
       "      <th>0</th>\n",
       "      <td>0</td>\n",
       "      <td>When so many actors seem content to churn out ...</td>\n",
       "    </tr>\n",
       "    <tr>\n",
       "      <th>1</th>\n",
       "      <td>0</td>\n",
       "      <td>In what football insiders are calling an unex...</td>\n",
       "    </tr>\n",
       "    <tr>\n",
       "      <th>2</th>\n",
       "      <td>0</td>\n",
       "      <td>In a freak accident following Game 3 of the N....</td>\n",
       "    </tr>\n",
       "    <tr>\n",
       "      <th>3</th>\n",
       "      <td>0</td>\n",
       "      <td>North Koreas official news agency announced to...</td>\n",
       "    </tr>\n",
       "    <tr>\n",
       "      <th>4</th>\n",
       "      <td>0</td>\n",
       "      <td>The former Alaska Governor Sarah Palin would b...</td>\n",
       "    </tr>\n",
       "  </tbody>\n",
       "</table>\n",
       "</div>"
      ],
      "text/plain": [
       "   label                                               text\n",
       "0      0  When so many actors seem content to churn out ...\n",
       "1      0   In what football insiders are calling an unex...\n",
       "2      0  In a freak accident following Game 3 of the N....\n",
       "3      0  North Koreas official news agency announced to...\n",
       "4      0  The former Alaska Governor Sarah Palin would b..."
      ]
     },
     "execution_count": 5,
     "metadata": {},
     "output_type": "execute_result"
    }
   ],
   "source": [
    "df_test.head()"
   ]
  },
  {
   "cell_type": "code",
   "execution_count": 6,
   "id": "3d00323b",
   "metadata": {
    "execution": {
     "iopub.execute_input": "2023-03-15T08:10:57.486862Z",
     "iopub.status.busy": "2023-03-15T08:10:57.486070Z",
     "iopub.status.idle": "2023-03-15T08:10:57.491485Z",
     "shell.execute_reply": "2023-03-15T08:10:57.490616Z"
    },
    "papermill": {
     "duration": 0.013503,
     "end_time": "2023-03-15T08:10:57.493824",
     "exception": false,
     "start_time": "2023-03-15T08:10:57.480321",
     "status": "completed"
    },
    "tags": []
   },
   "outputs": [],
   "source": [
    "TEXT_LABELS = {0: 'Satire', 1: 'Hoax', 2: 'Propaganda', 3: 'Reliable'}"
   ]
  },
  {
   "cell_type": "code",
   "execution_count": 7,
   "id": "94e91136",
   "metadata": {
    "execution": {
     "iopub.execute_input": "2023-03-15T08:10:57.505084Z",
     "iopub.status.busy": "2023-03-15T08:10:57.504556Z",
     "iopub.status.idle": "2023-03-15T08:10:57.510493Z",
     "shell.execute_reply": "2023-03-15T08:10:57.509628Z"
    },
    "papermill": {
     "duration": 0.013916,
     "end_time": "2023-03-15T08:10:57.512624",
     "exception": false,
     "start_time": "2023-03-15T08:10:57.498708",
     "status": "completed"
    },
    "tags": []
   },
   "outputs": [],
   "source": [
    "DOWNSAMPLE = False\n",
    "DOWNSAMPLE_RATIO = 0.01\n",
    "\n",
    "if DOWNSAMPLE:\n",
    "    df_train, _ = train_test_split(df_train, train_size=DOWNSAMPLE_RATIO, random_state=42, stratify=df_train['label'])\n",
    "    df_test, _ = train_test_split(df_test, train_size=DOWNSAMPLE_RATIO, random_state=42, stratify=df_test['label'])"
   ]
  },
  {
   "cell_type": "code",
   "execution_count": 8,
   "id": "ce9d513d",
   "metadata": {
    "execution": {
     "iopub.execute_input": "2023-03-15T08:10:57.523326Z",
     "iopub.status.busy": "2023-03-15T08:10:57.523070Z",
     "iopub.status.idle": "2023-03-15T08:10:57.528000Z",
     "shell.execute_reply": "2023-03-15T08:10:57.526945Z"
    },
    "papermill": {
     "duration": 0.014411,
     "end_time": "2023-03-15T08:10:57.531810",
     "exception": false,
     "start_time": "2023-03-15T08:10:57.517399",
     "status": "completed"
    },
    "tags": []
   },
   "outputs": [
    {
     "name": "stdout",
     "output_type": "stream",
     "text": [
      "Shape of the training data:  (48854, 2)\n",
      "Shape of the test data:  (3000, 2)\n"
     ]
    }
   ],
   "source": [
    "print('Shape of the training data: ', df_train.shape)\n",
    "print('Shape of the test data: ', df_test.shape)"
   ]
  },
  {
   "cell_type": "code",
   "execution_count": 9,
   "id": "b19eccdf",
   "metadata": {
    "execution": {
     "iopub.execute_input": "2023-03-15T08:10:57.543670Z",
     "iopub.status.busy": "2023-03-15T08:10:57.543378Z",
     "iopub.status.idle": "2023-03-15T08:10:57.568545Z",
     "shell.execute_reply": "2023-03-15T08:10:57.567463Z"
    },
    "papermill": {
     "duration": 0.033111,
     "end_time": "2023-03-15T08:10:57.570836",
     "exception": false,
     "start_time": "2023-03-15T08:10:57.537725",
     "status": "completed"
    },
    "tags": []
   },
   "outputs": [
    {
     "data": {
      "text/html": [
       "<div>\n",
       "<style scoped>\n",
       "    .dataframe tbody tr th:only-of-type {\n",
       "        vertical-align: middle;\n",
       "    }\n",
       "\n",
       "    .dataframe tbody tr th {\n",
       "        vertical-align: top;\n",
       "    }\n",
       "\n",
       "    .dataframe thead th {\n",
       "        text-align: right;\n",
       "    }\n",
       "</style>\n",
       "<table border=\"1\" class=\"dataframe\">\n",
       "  <thead>\n",
       "    <tr style=\"text-align: right;\">\n",
       "      <th></th>\n",
       "      <th>text</th>\n",
       "    </tr>\n",
       "    <tr>\n",
       "      <th>label</th>\n",
       "      <th></th>\n",
       "    </tr>\n",
       "  </thead>\n",
       "  <tbody>\n",
       "    <tr>\n",
       "      <th>0</th>\n",
       "      <td>14047</td>\n",
       "    </tr>\n",
       "    <tr>\n",
       "      <th>1</th>\n",
       "      <td>6942</td>\n",
       "    </tr>\n",
       "    <tr>\n",
       "      <th>2</th>\n",
       "      <td>17870</td>\n",
       "    </tr>\n",
       "    <tr>\n",
       "      <th>3</th>\n",
       "      <td>9995</td>\n",
       "    </tr>\n",
       "  </tbody>\n",
       "</table>\n",
       "</div>"
      ],
      "text/plain": [
       "        text\n",
       "label       \n",
       "0      14047\n",
       "1       6942\n",
       "2      17870\n",
       "3       9995"
      ]
     },
     "execution_count": 9,
     "metadata": {},
     "output_type": "execute_result"
    }
   ],
   "source": [
    "# Check the class distribution\n",
    "df_train.groupby('label').count()"
   ]
  },
  {
   "cell_type": "code",
   "execution_count": 10,
   "id": "854c3674",
   "metadata": {
    "execution": {
     "iopub.execute_input": "2023-03-15T08:10:57.581972Z",
     "iopub.status.busy": "2023-03-15T08:10:57.581717Z",
     "iopub.status.idle": "2023-03-15T08:10:57.591830Z",
     "shell.execute_reply": "2023-03-15T08:10:57.590895Z"
    },
    "papermill": {
     "duration": 0.017958,
     "end_time": "2023-03-15T08:10:57.593823",
     "exception": false,
     "start_time": "2023-03-15T08:10:57.575865",
     "status": "completed"
    },
    "tags": []
   },
   "outputs": [
    {
     "data": {
      "text/html": [
       "<div>\n",
       "<style scoped>\n",
       "    .dataframe tbody tr th:only-of-type {\n",
       "        vertical-align: middle;\n",
       "    }\n",
       "\n",
       "    .dataframe tbody tr th {\n",
       "        vertical-align: top;\n",
       "    }\n",
       "\n",
       "    .dataframe thead th {\n",
       "        text-align: right;\n",
       "    }\n",
       "</style>\n",
       "<table border=\"1\" class=\"dataframe\">\n",
       "  <thead>\n",
       "    <tr style=\"text-align: right;\">\n",
       "      <th></th>\n",
       "      <th>text</th>\n",
       "    </tr>\n",
       "    <tr>\n",
       "      <th>label</th>\n",
       "      <th></th>\n",
       "    </tr>\n",
       "  </thead>\n",
       "  <tbody>\n",
       "    <tr>\n",
       "      <th>0</th>\n",
       "      <td>750</td>\n",
       "    </tr>\n",
       "    <tr>\n",
       "      <th>1</th>\n",
       "      <td>750</td>\n",
       "    </tr>\n",
       "    <tr>\n",
       "      <th>2</th>\n",
       "      <td>750</td>\n",
       "    </tr>\n",
       "    <tr>\n",
       "      <th>3</th>\n",
       "      <td>750</td>\n",
       "    </tr>\n",
       "  </tbody>\n",
       "</table>\n",
       "</div>"
      ],
      "text/plain": [
       "       text\n",
       "label      \n",
       "0       750\n",
       "1       750\n",
       "2       750\n",
       "3       750"
      ]
     },
     "execution_count": 10,
     "metadata": {},
     "output_type": "execute_result"
    }
   ],
   "source": [
    "# Check the class distribution\n",
    "df_test.groupby('label').count()"
   ]
  },
  {
   "cell_type": "markdown",
   "id": "67454a49",
   "metadata": {
    "papermill": {
     "duration": 0.004937,
     "end_time": "2023-03-15T08:10:57.603913",
     "exception": false,
     "start_time": "2023-03-15T08:10:57.598976",
     "status": "completed"
    },
    "tags": []
   },
   "source": [
    "## Encode the classes"
   ]
  },
  {
   "cell_type": "code",
   "execution_count": 11,
   "id": "7d44b9a5",
   "metadata": {
    "execution": {
     "iopub.execute_input": "2023-03-15T08:10:57.615457Z",
     "iopub.status.busy": "2023-03-15T08:10:57.615202Z",
     "iopub.status.idle": "2023-03-15T08:10:57.621885Z",
     "shell.execute_reply": "2023-03-15T08:10:57.621015Z"
    },
    "papermill": {
     "duration": 0.014616,
     "end_time": "2023-03-15T08:10:57.623855",
     "exception": false,
     "start_time": "2023-03-15T08:10:57.609239",
     "status": "completed"
    },
    "tags": []
   },
   "outputs": [],
   "source": [
    "X_train = df_train['text']\n",
    "\n",
    "y_train = df_train['label']\n",
    "y_train = to_categorical(y_train, num_classes=4)\n",
    "\n",
    "\n",
    "X_test = df_test['text']\n",
    "y_test = df_test['label']\n",
    "y_test = to_categorical(y_test, num_classes=4)"
   ]
  },
  {
   "cell_type": "markdown",
   "id": "b439d9aa",
   "metadata": {
    "papermill": {
     "duration": 0.005054,
     "end_time": "2023-03-15T08:10:57.634058",
     "exception": false,
     "start_time": "2023-03-15T08:10:57.629004",
     "status": "completed"
    },
    "tags": []
   },
   "source": [
    "## BERT Model"
   ]
  },
  {
   "cell_type": "code",
   "execution_count": 12,
   "id": "7fa9c945",
   "metadata": {
    "execution": {
     "iopub.execute_input": "2023-03-15T08:10:57.645466Z",
     "iopub.status.busy": "2023-03-15T08:10:57.645199Z",
     "iopub.status.idle": "2023-03-15T08:10:57.657493Z",
     "shell.execute_reply": "2023-03-15T08:10:57.656622Z"
    },
    "papermill": {
     "duration": 0.020549,
     "end_time": "2023-03-15T08:10:57.659780",
     "exception": false,
     "start_time": "2023-03-15T08:10:57.639231",
     "status": "completed"
    },
    "tags": []
   },
   "outputs": [],
   "source": [
    "# Define the optimizer which uses the same leraning rate schedule as BERT pre-training\n",
    "epochs = 3\n",
    "batch_size = 16\n",
    "eval_batch_size = 16\n",
    "\n",
    "train_data_size = df_train.shape[0]\n",
    "steps_per_epoch = int(train_data_size / batch_size)\n",
    "num_train_steps = steps_per_epoch * epochs\n",
    "num_warmup_steps = int(0.1*num_train_steps)\n",
    "\n",
    "init_lr = 3e-5\n",
    "\n",
    "lr_schedule = tf.keras.optimizers.schedules.ExponentialDecay(\n",
    "    initial_learning_rate=3e-5,\n",
    "    decay_steps=10000,\n",
    "    decay_rate=0.9)\n",
    "\n",
    "# optimizer = optimization.create_optimizer(init_lr=init_lr,\n",
    "#                                           num_train_steps=num_train_steps,\n",
    "#                                           num_warmup_steps=num_warmup_steps,\n",
    "#                                           optimizer_type='adamw')\n",
    "optimizer = tfa.optimizers.LAMB(learning_rate=lr_schedule)\n"
   ]
  },
  {
   "cell_type": "code",
   "execution_count": 13,
   "id": "26c35818",
   "metadata": {
    "execution": {
     "iopub.execute_input": "2023-03-15T08:10:57.671687Z",
     "iopub.status.busy": "2023-03-15T08:10:57.671407Z",
     "iopub.status.idle": "2023-03-15T08:10:57.680410Z",
     "shell.execute_reply": "2023-03-15T08:10:57.679541Z"
    },
    "papermill": {
     "duration": 0.017082,
     "end_time": "2023-03-15T08:10:57.682538",
     "exception": false,
     "start_time": "2023-03-15T08:10:57.665456",
     "status": "completed"
    },
    "tags": []
   },
   "outputs": [],
   "source": [
    "def build_model(num_classes, optimizer, max_seq_length=128):\n",
    "    \n",
    "    \n",
    "    preprocessor = hub.load(\n",
    "    \"https://tfhub.dev/tensorflow/bert_en_uncased_preprocess/3\")\n",
    "\n",
    "    # Step 1: tokenize batches of text inputs.\n",
    "    text_inputs = [tf.keras.layers.Input(shape=(), dtype=tf.string)]\n",
    "    tokenize = hub.KerasLayer(preprocessor.tokenize)\n",
    "    tokenized_inputs = [tokenize(segment) for segment in text_inputs]\n",
    "\n",
    "    # Step 2 (optional): modify tokenized inputs.\n",
    "    pass\n",
    "\n",
    "    # Step 3: pack input sequences for the Transformer encoder.\n",
    "    seq_length = max_seq_length\n",
    "    bert_pack_inputs = hub.KerasLayer(\n",
    "        preprocessor.bert_pack_inputs,\n",
    "        arguments=dict(seq_length=seq_length))  # Optional argument.\n",
    "    encoder_inputs = bert_pack_inputs(tokenized_inputs)\n",
    "         \n",
    "    encoder = hub.KerasLayer(\"https://tfhub.dev/tensorflow/bert_en_uncased_L-12_H-768_A-12/4\", trainable=True, name='BERT_encoder')\n",
    "    outputs = encoder(encoder_inputs)\n",
    "    net = outputs['pooled_output']\n",
    "    net = tf.keras.layers.Dropout(0.5)(net)\n",
    "    out = tf.keras.layers.Dense(num_classes, activation='softmax', name='classifier')(net)\n",
    "    \n",
    "    \n",
    "    model = tf.keras.models.Model(text_inputs, out)\n",
    "    model.compile(optimizer, loss='categorical_crossentropy', metrics=['accuracy', tfa.metrics.F1Score(num_classes=num_classes, average='macro')])\n",
    "    \n",
    "    return model"
   ]
  },
  {
   "cell_type": "code",
   "execution_count": 14,
   "id": "d379c727",
   "metadata": {
    "execution": {
     "iopub.execute_input": "2023-03-15T08:10:57.693866Z",
     "iopub.status.busy": "2023-03-15T08:10:57.693601Z",
     "iopub.status.idle": "2023-03-15T08:11:24.397069Z",
     "shell.execute_reply": "2023-03-15T08:11:24.396147Z"
    },
    "papermill": {
     "duration": 26.769154,
     "end_time": "2023-03-15T08:11:24.456837",
     "exception": false,
     "start_time": "2023-03-15T08:10:57.687683",
     "status": "completed"
    },
    "tags": []
   },
   "outputs": [
    {
     "name": "stdout",
     "output_type": "stream",
     "text": [
      "Model: \"model\"\n",
      "__________________________________________________________________________________________________\n",
      " Layer (type)                   Output Shape         Param #     Connected to                     \n",
      "==================================================================================================\n",
      " input_1 (InputLayer)           [(None,)]            0           []                               \n",
      "                                                                                                  \n",
      " keras_layer (KerasLayer)       (None, None, None)   0           ['input_1[0][0]']                \n",
      "                                                                                                  \n",
      " keras_layer_1 (KerasLayer)     {'input_type_ids':   0           ['keras_layer[0][0]']            \n",
      "                                (None, 256),                                                      \n",
      "                                 'input_mask': (Non                                               \n",
      "                                e, 256),                                                          \n",
      "                                 'input_word_ids':                                                \n",
      "                                (None, 256)}                                                      \n",
      "                                                                                                  \n",
      " BERT_encoder (KerasLayer)      {'encoder_outputs':  109482241   ['keras_layer_1[0][0]',          \n",
      "                                 [(None, 256, 768),               'keras_layer_1[0][1]',          \n",
      "                                 (None, 256, 768),                'keras_layer_1[0][2]']          \n",
      "                                 (None, 256, 768),                                                \n",
      "                                 (None, 256, 768),                                                \n",
      "                                 (None, 256, 768),                                                \n",
      "                                 (None, 256, 768),                                                \n",
      "                                 (None, 256, 768),                                                \n",
      "                                 (None, 256, 768),                                                \n",
      "                                 (None, 256, 768),                                                \n",
      "                                 (None, 256, 768),                                                \n",
      "                                 (None, 256, 768),                                                \n",
      "                                 (None, 256, 768)],                                               \n",
      "                                 'pooled_output': (                                               \n",
      "                                None, 768),                                                       \n",
      "                                 'default': (None,                                                \n",
      "                                768),                                                             \n",
      "                                 'sequence_output':                                               \n",
      "                                 (None, 256, 768)}                                                \n",
      "                                                                                                  \n",
      " dropout (Dropout)              (None, 768)          0           ['BERT_encoder[0][13]']          \n",
      "                                                                                                  \n",
      " classifier (Dense)             (None, 4)            3076        ['dropout[0][0]']                \n",
      "                                                                                                  \n",
      "==================================================================================================\n",
      "Total params: 109,485,317\n",
      "Trainable params: 109,485,316\n",
      "Non-trainable params: 1\n",
      "__________________________________________________________________________________________________\n"
     ]
    }
   ],
   "source": [
    "model = build_model(num_classes=len(TEXT_LABELS), optimizer=optimizer, max_seq_length=256)\n",
    "model.summary()"
   ]
  },
  {
   "cell_type": "code",
   "execution_count": 15,
   "id": "f25baa21",
   "metadata": {
    "execution": {
     "iopub.execute_input": "2023-03-15T08:11:24.482772Z",
     "iopub.status.busy": "2023-03-15T08:11:24.482227Z",
     "iopub.status.idle": "2023-03-15T09:43:21.949773Z",
     "shell.execute_reply": "2023-03-15T09:43:21.948717Z"
    },
    "papermill": {
     "duration": 5517.482776,
     "end_time": "2023-03-15T09:43:21.952777",
     "exception": false,
     "start_time": "2023-03-15T08:11:24.470001",
     "status": "completed"
    },
    "tags": []
   },
   "outputs": [
    {
     "name": "stdout",
     "output_type": "stream",
     "text": [
      "Epoch 1/3\n",
      "3054/3054 [==============================] - ETA: 0s - loss: 0.1830 - accuracy: 0.9329 - f1_score: 0.9279\n",
      "Epoch 1: val_accuracy improved from -inf to 0.60933, saving model to best_checkpoint\n",
      "3054/3054 [==============================] - 1852s 594ms/step - loss: 0.1830 - accuracy: 0.9329 - f1_score: 0.9279 - val_loss: 2.1084 - val_accuracy: 0.6093 - val_f1_score: 0.5417\n",
      "Epoch 2/3\n",
      "3054/3054 [==============================] - ETA: 0s - loss: 0.0199 - accuracy: 0.9940 - f1_score: 0.9935\n",
      "Epoch 2: val_accuracy did not improve from 0.60933\n",
      "3054/3054 [==============================] - 1796s 588ms/step - loss: 0.0199 - accuracy: 0.9940 - f1_score: 0.9935 - val_loss: 2.6496 - val_accuracy: 0.5980 - val_f1_score: 0.5194\n",
      "Epoch 3/3\n",
      "3054/3054 [==============================] - ETA: 0s - loss: 0.0100 - accuracy: 0.9967 - f1_score: 0.9964\n",
      "Epoch 3: val_accuracy improved from 0.60933 to 0.61200, saving model to best_checkpoint\n",
      "3054/3054 [==============================] - 1815s 594ms/step - loss: 0.0100 - accuracy: 0.9967 - f1_score: 0.9964 - val_loss: 2.9589 - val_accuracy: 0.6120 - val_f1_score: 0.5646\n"
     ]
    }
   ],
   "source": [
    "checkpoint = tf.keras.callbacks.ModelCheckpoint('best_checkpoint', monitor='val_accuracy', save_best_only=True, save_weights_only=False, verbose=1)\n",
    "early_stopping = tf.keras.callbacks.EarlyStopping(monitor='val_accuracy', patience=5, verbose=1)\n",
    "\n",
    "history = model.fit(x=X_train,\n",
    "          y=y_train,\n",
    "          validation_data=(X_test, y_test),\n",
    "          epochs=epochs, \n",
    "          callbacks=[checkpoint, early_stopping], \n",
    "          batch_size=batch_size,\n",
    "          validation_batch_size=eval_batch_size,\n",
    "          verbose=1)"
   ]
  },
  {
   "cell_type": "code",
   "execution_count": 16,
   "id": "d43be49c",
   "metadata": {
    "execution": {
     "iopub.execute_input": "2023-03-15T09:43:23.003351Z",
     "iopub.status.busy": "2023-03-15T09:43:23.002978Z",
     "iopub.status.idle": "2023-03-15T09:43:23.009559Z",
     "shell.execute_reply": "2023-03-15T09:43:23.008627Z"
    },
    "papermill": {
     "duration": 0.505361,
     "end_time": "2023-03-15T09:43:23.011751",
     "exception": false,
     "start_time": "2023-03-15T09:43:22.506390",
     "status": "completed"
    },
    "tags": []
   },
   "outputs": [],
   "source": [
    "def plot_loss(history):\n",
    "    # plot learning curves\n",
    "    plt.title('Learning Curves')\n",
    "    plt.xlabel('Epoch')\n",
    "    plt.ylabel('Loss')\n",
    "    plt.plot(history.history['loss'], label='train')\n",
    "    plt.plot(history.history['val_loss'], label='val')\n",
    "    plt.legend()\n",
    "    plt.tight_layout()"
   ]
  },
  {
   "cell_type": "code",
   "execution_count": 17,
   "id": "2f3ddad0",
   "metadata": {
    "execution": {
     "iopub.execute_input": "2023-03-15T09:43:24.016227Z",
     "iopub.status.busy": "2023-03-15T09:43:24.015857Z",
     "iopub.status.idle": "2023-03-15T09:43:24.351570Z",
     "shell.execute_reply": "2023-03-15T09:43:24.350370Z"
    },
    "papermill": {
     "duration": 0.840381,
     "end_time": "2023-03-15T09:43:24.353785",
     "exception": false,
     "start_time": "2023-03-15T09:43:23.513404",
     "status": "completed"
    },
    "tags": []
   },
   "outputs": [
    {
     "data": {
      "image/png": "[encoded data removed]",
      "text/plain": [
       "<Figure size 640x480 with 1 Axes>"
      ]
     },
     "metadata": {},
     "output_type": "display_data"
    }
   ],
   "source": [
    "plot_loss(history)"
   ]
  },
  {
   "cell_type": "code",
   "execution_count": 18,
   "id": "67d57e26",
   "metadata": {
    "execution": {
     "iopub.execute_input": "2023-03-15T09:43:25.409802Z",
     "iopub.status.busy": "2023-03-15T09:43:25.408903Z",
     "iopub.status.idle": "2023-03-15T09:44:04.296796Z",
     "shell.execute_reply": "2023-03-15T09:44:04.295706Z"
    },
    "papermill": {
     "duration": 39.393038,
     "end_time": "2023-03-15T09:44:04.299284",
     "exception": false,
     "start_time": "2023-03-15T09:43:24.906246",
     "status": "completed"
    },
    "tags": []
   },
   "outputs": [
    {
     "name": "stdout",
     "output_type": "stream",
     "text": [
      "188/188 [==============================] - 39s 201ms/step\n"
     ]
    }
   ],
   "source": [
    "y_proba = model.predict(X_test, batch_size=eval_batch_size)\n",
    "y_pred = np.argmax(y_proba, axis=1)\n",
    "y_pred_labels = [TEXT_LABELS[x] for x in y_pred]\n",
    "y_true_labels = [TEXT_LABELS[x] for x in df_test['label']]"
   ]
  },
  {
   "cell_type": "code",
   "execution_count": 19,
   "id": "cce47657",
   "metadata": {
    "execution": {
     "iopub.execute_input": "2023-03-15T09:44:05.367611Z",
     "iopub.status.busy": "2023-03-15T09:44:05.367231Z",
     "iopub.status.idle": "2023-03-15T09:44:05.412205Z",
     "shell.execute_reply": "2023-03-15T09:44:05.410941Z"
    },
    "papermill": {
     "duration": 0.554693,
     "end_time": "2023-03-15T09:44:05.414536",
     "exception": false,
     "start_time": "2023-03-15T09:44:04.859843",
     "status": "completed"
    },
    "tags": []
   },
   "outputs": [
    {
     "name": "stdout",
     "output_type": "stream",
     "text": [
      "              precision    recall  f1-score   support\n",
      "\n",
      "        Hoax       0.85      0.69      0.76       750\n",
      "  Propaganda       0.13      0.03      0.05       750\n",
      "    Reliable       0.46      0.99      0.63       750\n",
      "      Satire       0.93      0.73      0.82       750\n",
      "\n",
      "    accuracy                           0.61      3000\n",
      "   macro avg       0.59      0.61      0.56      3000\n",
      "weighted avg       0.59      0.61      0.56      3000\n",
      "\n",
      "[[519 151  65  15]\n",
      " [  2  23 700  25]\n",
      " [  0   1 745   4]\n",
      " [ 92   3 106 549]]\n"
     ]
    }
   ],
   "source": [
    "print(classification_report(y_true=y_true_labels, y_pred=y_pred_labels))\n",
    "print(confusion_matrix(y_true_labels, y_pred_labels))"
   ]
  },
  {
   "cell_type": "code",
   "execution_count": null,
   "id": "73ce8c03",
   "metadata": {
    "papermill": {
     "duration": 0.565221,
     "end_time": "2023-03-15T09:44:06.502932",
     "exception": false,
     "start_time": "2023-03-15T09:44:05.937711",
     "status": "completed"
    },
    "tags": []
   },
   "outputs": [],
   "source": []
  }
 ],
 "metadata": {
  "kernelspec": {
   "display_name": "Python 3",
   "language": "python",
   "name": "python3"
  },
  "language_info": {
   "codemirror_mode": {
    "name": "ipython",
    "version": 3
   },
   "file_extension": ".py",
   "mimetype": "text/x-python",
   "name": "python",
   "nbconvert_exporter": "python",
   "pygments_lexer": "ipython3",
   "version": "3.7.12"
  },
  "papermill": {
   "default_parameters": {},
   "duration": 5675.188698,
   "end_time": "2023-03-15T09:44:10.875216",
   "environment_variables": {},
   "exception": null,
   "input_path": "__notebook__.ipynb",
   "output_path": "__notebook__.ipynb",
   "parameters": {},
   "start_time": "2023-03-15T08:09:35.686518",
   "version": "2.4.0"
  }
 },
 "nbformat": 4,
 "nbformat_minor": 5
}
