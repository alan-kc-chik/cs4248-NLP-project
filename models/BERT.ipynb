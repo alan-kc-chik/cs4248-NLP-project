{
 "cells": [
  {
   "cell_type": "code",
   "execution_count": 1,
   "id": "8b77bbd9",
   "metadata": {
    "_cell_guid": "b1076dfc-b9ad-4769-8c92-a6c4dae69d19",
    "_uuid": "8f2839f25d086af736a60e9eeb907d3b93b6e0e5",
    "execution": {
     "iopub.execute_input": "2023-03-21T03:29:41.111180Z",
     "iopub.status.busy": "2023-03-21T03:29:41.110708Z",
     "iopub.status.idle": "2023-03-21T03:30:46.723288Z",
     "shell.execute_reply": "2023-03-21T03:30:46.722041Z"
    },
    "papermill": {
     "duration": 65.62443,
     "end_time": "2023-03-21T03:30:46.726238",
     "exception": false,
     "start_time": "2023-03-21T03:29:41.101808",
     "status": "completed"
    },
    "tags": []
   },
   "outputs": [
    {
     "name": "stdout",
     "output_type": "stream",
     "text": [
      "\u001b[31mERROR: pip's dependency resolver does not currently take into account all the packages that are installed. This behaviour is the source of the following dependency conflicts.\r\n",
      "cudf 21.12.2 requires cupy-cuda115, which is not installed.\r\n",
      "tfx-bsl 1.12.0 requires google-api-python-client<2,>=1.7.11, but you have google-api-python-client 2.79.0 which is incompatible.\r\n",
      "tfx-bsl 1.12.0 requires pyarrow<7,>=6, but you have pyarrow 5.0.0 which is incompatible.\r\n",
      "tensorflow-transform 1.12.0 requires pyarrow<7,>=6, but you have pyarrow 5.0.0 which is incompatible.\r\n",
      "onnx 1.13.1 requires protobuf<4,>=3.20.2, but you have protobuf 3.19.6 which is incompatible.\r\n",
      "apache-beam 2.44.0 requires dill<0.3.2,>=0.3.1.1, but you have dill 0.3.6 which is incompatible.\u001b[0m\u001b[31m\r\n",
      "\u001b[0m\u001b[33mWARNING: Running pip as the 'root' user can result in broken permissions and conflicting behaviour with the system package manager. It is recommended to use a virtual environment instead: https://pip.pypa.io/warnings/venv\u001b[0m\u001b[33m\r\n",
      "\u001b[0m\u001b[31mERROR: pip's dependency resolver does not currently take into account all the packages that are installed. This behaviour is the source of the following dependency conflicts.\r\n",
      "dask-cudf 21.12.2 requires cupy-cuda115, which is not installed.\r\n",
      "distributed 2021.11.2 requires dask==2021.11.2, but you have dask 2022.2.0 which is incompatible.\r\n",
      "dask-cudf 21.12.2 requires dask<=2021.11.2,>=2021.11.1, but you have dask 2022.2.0 which is incompatible.\u001b[0m\u001b[31m\r\n",
      "\u001b[0m\u001b[33mWARNING: Running pip as the 'root' user can result in broken permissions and conflicting behaviour with the system package manager. It is recommended to use a virtual environment instead: https://pip.pypa.io/warnings/venv\u001b[0m\u001b[33m\r\n",
      "\u001b[0m"
     ]
    }
   ],
   "source": [
    "!pip install -q tensorflow_text\n",
    "!pip install -q tf-models-official==2.11.0"
   ]
  },
  {
   "cell_type": "code",
   "execution_count": 2,
   "id": "3baa6fe1",
   "metadata": {
    "execution": {
     "iopub.execute_input": "2023-03-21T03:30:46.740452Z",
     "iopub.status.busy": "2023-03-21T03:30:46.740094Z",
     "iopub.status.idle": "2023-03-21T03:30:55.530601Z",
     "shell.execute_reply": "2023-03-21T03:30:55.529488Z"
    },
    "papermill": {
     "duration": 8.800829,
     "end_time": "2023-03-21T03:30:55.533467",
     "exception": false,
     "start_time": "2023-03-21T03:30:46.732638",
     "status": "completed"
    },
    "tags": []
   },
   "outputs": [],
   "source": [
    "import numpy as np\n",
    "import pandas as pd\n",
    "\n",
    "from sklearn import preprocessing\n",
    "from sklearn.model_selection import train_test_split\n",
    "from imblearn.over_sampling import RandomOverSampler\n",
    "\n",
    "import tensorflow as tf\n",
    "import tensorflow_addons as tfa\n",
    "import tensorflow_hub as hub\n",
    "import tensorflow_text as text  # Registers the ops.\n",
    "from keras.utils import to_categorical\n",
    "from official.nlp import optimization  # to create AdamW optimizer\n",
    "from sklearn.preprocessing import LabelEncoder\n",
    "from sklearn.metrics import classification_report, confusion_matrix\n",
    "\n",
    "# Plots\n",
    "import matplotlib.pyplot as plt\n",
    "import seaborn as sns"
   ]
  },
  {
   "cell_type": "code",
   "execution_count": 3,
   "id": "793c75c8",
   "metadata": {
    "execution": {
     "iopub.execute_input": "2023-03-21T03:30:55.551254Z",
     "iopub.status.busy": "2023-03-21T03:30:55.550633Z",
     "iopub.status.idle": "2023-03-21T03:30:58.959389Z",
     "shell.execute_reply": "2023-03-21T03:30:58.958300Z"
    },
    "papermill": {
     "duration": 3.422515,
     "end_time": "2023-03-21T03:30:58.962194",
     "exception": false,
     "start_time": "2023-03-21T03:30:55.539679",
     "status": "completed"
    },
    "tags": []
   },
   "outputs": [],
   "source": [
    "df_train = pd.read_csv('/kaggle/input/labeled-unreliable-news-lun/fulltrain.csv', encoding='utf-8', names=['label', 'text'])\n",
    "df_test = pd.read_csv('/kaggle/input/labeled-unreliable-news-lun/balancedtest.csv', encoding='utf-8', names=['label', 'text'])"
   ]
  },
  {
   "cell_type": "code",
   "execution_count": 4,
   "id": "8a3fcba0",
   "metadata": {
    "execution": {
     "iopub.execute_input": "2023-03-21T03:30:58.980074Z",
     "iopub.status.busy": "2023-03-21T03:30:58.979706Z",
     "iopub.status.idle": "2023-03-21T03:30:59.004314Z",
     "shell.execute_reply": "2023-03-21T03:30:59.003314Z"
    },
    "papermill": {
     "duration": 0.035463,
     "end_time": "2023-03-21T03:30:59.007057",
     "exception": false,
     "start_time": "2023-03-21T03:30:58.971594",
     "status": "completed"
    },
    "tags": []
   },
   "outputs": [],
   "source": [
    "TEXT_LABELS = {1: 'Satire', 2: 'Hoax', 3: 'Propaganda', 4: 'Reliable'}\n",
    "df_train['label'] = [TEXT_LABELS[x] for x in df_train['label']]\n",
    "df_test['label'] = [TEXT_LABELS[x] for x in df_test['label']]"
   ]
  },
  {
   "cell_type": "code",
   "execution_count": 5,
   "id": "defa539f",
   "metadata": {
    "execution": {
     "iopub.execute_input": "2023-03-21T03:30:59.021786Z",
     "iopub.status.busy": "2023-03-21T03:30:59.021423Z",
     "iopub.status.idle": "2023-03-21T03:30:59.037049Z",
     "shell.execute_reply": "2023-03-21T03:30:59.035852Z"
    },
    "papermill": {
     "duration": 0.026313,
     "end_time": "2023-03-21T03:30:59.040086",
     "exception": false,
     "start_time": "2023-03-21T03:30:59.013773",
     "status": "completed"
    },
    "tags": []
   },
   "outputs": [
    {
     "data": {
      "text/html": [
       "<div>\n",
       "<style scoped>\n",
       "    .dataframe tbody tr th:only-of-type {\n",
       "        vertical-align: middle;\n",
       "    }\n",
       "\n",
       "    .dataframe tbody tr th {\n",
       "        vertical-align: top;\n",
       "    }\n",
       "\n",
       "    .dataframe thead th {\n",
       "        text-align: right;\n",
       "    }\n",
       "</style>\n",
       "<table border=\"1\" class=\"dataframe\">\n",
       "  <thead>\n",
       "    <tr style=\"text-align: right;\">\n",
       "      <th></th>\n",
       "      <th>label</th>\n",
       "      <th>text</th>\n",
       "    </tr>\n",
       "  </thead>\n",
       "  <tbody>\n",
       "    <tr>\n",
       "      <th>0</th>\n",
       "      <td>Satire</td>\n",
       "      <td>A little less than a decade ago, hockey fans w...</td>\n",
       "    </tr>\n",
       "    <tr>\n",
       "      <th>1</th>\n",
       "      <td>Satire</td>\n",
       "      <td>The writers of the HBO series The Sopranos too...</td>\n",
       "    </tr>\n",
       "    <tr>\n",
       "      <th>2</th>\n",
       "      <td>Satire</td>\n",
       "      <td>Despite claims from the TV news outlet to offe...</td>\n",
       "    </tr>\n",
       "    <tr>\n",
       "      <th>3</th>\n",
       "      <td>Satire</td>\n",
       "      <td>After receiving 'subpar' service and experienc...</td>\n",
       "    </tr>\n",
       "    <tr>\n",
       "      <th>4</th>\n",
       "      <td>Satire</td>\n",
       "      <td>After watching his beloved Seattle Mariners pr...</td>\n",
       "    </tr>\n",
       "  </tbody>\n",
       "</table>\n",
       "</div>"
      ],
      "text/plain": [
       "    label                                               text\n",
       "0  Satire  A little less than a decade ago, hockey fans w...\n",
       "1  Satire  The writers of the HBO series The Sopranos too...\n",
       "2  Satire  Despite claims from the TV news outlet to offe...\n",
       "3  Satire  After receiving 'subpar' service and experienc...\n",
       "4  Satire  After watching his beloved Seattle Mariners pr..."
      ]
     },
     "execution_count": 5,
     "metadata": {},
     "output_type": "execute_result"
    }
   ],
   "source": [
    "df_train.head()"
   ]
  },
  {
   "cell_type": "code",
   "execution_count": 6,
   "id": "dd857ed0",
   "metadata": {
    "execution": {
     "iopub.execute_input": "2023-03-21T03:30:59.054810Z",
     "iopub.status.busy": "2023-03-21T03:30:59.054493Z",
     "iopub.status.idle": "2023-03-21T03:30:59.063697Z",
     "shell.execute_reply": "2023-03-21T03:30:59.062613Z"
    },
    "papermill": {
     "duration": 0.01912,
     "end_time": "2023-03-21T03:30:59.065934",
     "exception": false,
     "start_time": "2023-03-21T03:30:59.046814",
     "status": "completed"
    },
    "tags": []
   },
   "outputs": [
    {
     "data": {
      "text/html": [
       "<div>\n",
       "<style scoped>\n",
       "    .dataframe tbody tr th:only-of-type {\n",
       "        vertical-align: middle;\n",
       "    }\n",
       "\n",
       "    .dataframe tbody tr th {\n",
       "        vertical-align: top;\n",
       "    }\n",
       "\n",
       "    .dataframe thead th {\n",
       "        text-align: right;\n",
       "    }\n",
       "</style>\n",
       "<table border=\"1\" class=\"dataframe\">\n",
       "  <thead>\n",
       "    <tr style=\"text-align: right;\">\n",
       "      <th></th>\n",
       "      <th>label</th>\n",
       "      <th>text</th>\n",
       "    </tr>\n",
       "  </thead>\n",
       "  <tbody>\n",
       "    <tr>\n",
       "      <th>0</th>\n",
       "      <td>Satire</td>\n",
       "      <td>When so many actors seem content to churn out ...</td>\n",
       "    </tr>\n",
       "    <tr>\n",
       "      <th>1</th>\n",
       "      <td>Satire</td>\n",
       "      <td>In what football insiders are calling an unex...</td>\n",
       "    </tr>\n",
       "    <tr>\n",
       "      <th>2</th>\n",
       "      <td>Satire</td>\n",
       "      <td>In a freak accident following Game 3 of the N....</td>\n",
       "    </tr>\n",
       "    <tr>\n",
       "      <th>3</th>\n",
       "      <td>Satire</td>\n",
       "      <td>North Koreas official news agency announced to...</td>\n",
       "    </tr>\n",
       "    <tr>\n",
       "      <th>4</th>\n",
       "      <td>Satire</td>\n",
       "      <td>The former Alaska Governor Sarah Palin would b...</td>\n",
       "    </tr>\n",
       "  </tbody>\n",
       "</table>\n",
       "</div>"
      ],
      "text/plain": [
       "    label                                               text\n",
       "0  Satire  When so many actors seem content to churn out ...\n",
       "1  Satire   In what football insiders are calling an unex...\n",
       "2  Satire  In a freak accident following Game 3 of the N....\n",
       "3  Satire  North Koreas official news agency announced to...\n",
       "4  Satire  The former Alaska Governor Sarah Palin would b..."
      ]
     },
     "execution_count": 6,
     "metadata": {},
     "output_type": "execute_result"
    }
   ],
   "source": [
    "df_test.head()"
   ]
  },
  {
   "cell_type": "code",
   "execution_count": 7,
   "id": "c6885ccc",
   "metadata": {
    "execution": {
     "iopub.execute_input": "2023-03-21T03:30:59.081224Z",
     "iopub.status.busy": "2023-03-21T03:30:59.080308Z",
     "iopub.status.idle": "2023-03-21T03:30:59.087315Z",
     "shell.execute_reply": "2023-03-21T03:30:59.086346Z"
    },
    "papermill": {
     "duration": 0.016985,
     "end_time": "2023-03-21T03:30:59.089539",
     "exception": false,
     "start_time": "2023-03-21T03:30:59.072554",
     "status": "completed"
    },
    "tags": []
   },
   "outputs": [],
   "source": [
    "DOWNSAMPLE = False\n",
    "DOWNSAMPLE_RATIO = 0.01\n",
    "\n",
    "# Use stratify sampling to preserve the original class distribution\n",
    "if DOWNSAMPLE:\n",
    "    df_train, _ = train_test_split(df_train, train_size=DOWNSAMPLE_RATIO, random_state=42, stratify=df_train['label'])\n",
    "    df_test, _ = train_test_split(df_test, train_size=DOWNSAMPLE_RATIO, random_state=42, stratify=df_test['label'])"
   ]
  },
  {
   "cell_type": "code",
   "execution_count": 8,
   "id": "2c2cdc1a",
   "metadata": {
    "execution": {
     "iopub.execute_input": "2023-03-21T03:30:59.105841Z",
     "iopub.status.busy": "2023-03-21T03:30:59.104790Z",
     "iopub.status.idle": "2023-03-21T03:30:59.112138Z",
     "shell.execute_reply": "2023-03-21T03:30:59.111143Z"
    },
    "papermill": {
     "duration": 0.018032,
     "end_time": "2023-03-21T03:30:59.114466",
     "exception": false,
     "start_time": "2023-03-21T03:30:59.096434",
     "status": "completed"
    },
    "tags": []
   },
   "outputs": [
    {
     "name": "stdout",
     "output_type": "stream",
     "text": [
      "Shape of the training data:  (48854, 2)\n",
      "Shape of the test data:  (3000, 2)\n"
     ]
    }
   ],
   "source": [
    "print('Shape of the training data: ', df_train.shape)\n",
    "print('Shape of the test data: ', df_test.shape)"
   ]
  },
  {
   "cell_type": "code",
   "execution_count": 9,
   "id": "91cf8676",
   "metadata": {
    "execution": {
     "iopub.execute_input": "2023-03-21T03:30:59.129321Z",
     "iopub.status.busy": "2023-03-21T03:30:59.129036Z",
     "iopub.status.idle": "2023-03-21T03:30:59.157372Z",
     "shell.execute_reply": "2023-03-21T03:30:59.156424Z"
    },
    "papermill": {
     "duration": 0.038285,
     "end_time": "2023-03-21T03:30:59.159770",
     "exception": false,
     "start_time": "2023-03-21T03:30:59.121485",
     "status": "completed"
    },
    "tags": []
   },
   "outputs": [
    {
     "data": {
      "text/html": [
       "<div>\n",
       "<style scoped>\n",
       "    .dataframe tbody tr th:only-of-type {\n",
       "        vertical-align: middle;\n",
       "    }\n",
       "\n",
       "    .dataframe tbody tr th {\n",
       "        vertical-align: top;\n",
       "    }\n",
       "\n",
       "    .dataframe thead th {\n",
       "        text-align: right;\n",
       "    }\n",
       "</style>\n",
       "<table border=\"1\" class=\"dataframe\">\n",
       "  <thead>\n",
       "    <tr style=\"text-align: right;\">\n",
       "      <th></th>\n",
       "      <th>text</th>\n",
       "    </tr>\n",
       "    <tr>\n",
       "      <th>label</th>\n",
       "      <th></th>\n",
       "    </tr>\n",
       "  </thead>\n",
       "  <tbody>\n",
       "    <tr>\n",
       "      <th>Hoax</th>\n",
       "      <td>6942</td>\n",
       "    </tr>\n",
       "    <tr>\n",
       "      <th>Propaganda</th>\n",
       "      <td>17870</td>\n",
       "    </tr>\n",
       "    <tr>\n",
       "      <th>Reliable</th>\n",
       "      <td>9995</td>\n",
       "    </tr>\n",
       "    <tr>\n",
       "      <th>Satire</th>\n",
       "      <td>14047</td>\n",
       "    </tr>\n",
       "  </tbody>\n",
       "</table>\n",
       "</div>"
      ],
      "text/plain": [
       "             text\n",
       "label            \n",
       "Hoax         6942\n",
       "Propaganda  17870\n",
       "Reliable     9995\n",
       "Satire      14047"
      ]
     },
     "execution_count": 9,
     "metadata": {},
     "output_type": "execute_result"
    }
   ],
   "source": [
    "# Check the class distribution\n",
    "df_train.groupby('label').count()"
   ]
  },
  {
   "cell_type": "code",
   "execution_count": 10,
   "id": "590e3166",
   "metadata": {
    "execution": {
     "iopub.execute_input": "2023-03-21T03:30:59.175539Z",
     "iopub.status.busy": "2023-03-21T03:30:59.175226Z",
     "iopub.status.idle": "2023-03-21T03:30:59.186933Z",
     "shell.execute_reply": "2023-03-21T03:30:59.185799Z"
    },
    "papermill": {
     "duration": 0.022371,
     "end_time": "2023-03-21T03:30:59.189754",
     "exception": false,
     "start_time": "2023-03-21T03:30:59.167383",
     "status": "completed"
    },
    "tags": []
   },
   "outputs": [
    {
     "data": {
      "text/html": [
       "<div>\n",
       "<style scoped>\n",
       "    .dataframe tbody tr th:only-of-type {\n",
       "        vertical-align: middle;\n",
       "    }\n",
       "\n",
       "    .dataframe tbody tr th {\n",
       "        vertical-align: top;\n",
       "    }\n",
       "\n",
       "    .dataframe thead th {\n",
       "        text-align: right;\n",
       "    }\n",
       "</style>\n",
       "<table border=\"1\" class=\"dataframe\">\n",
       "  <thead>\n",
       "    <tr style=\"text-align: right;\">\n",
       "      <th></th>\n",
       "      <th>text</th>\n",
       "    </tr>\n",
       "    <tr>\n",
       "      <th>label</th>\n",
       "      <th></th>\n",
       "    </tr>\n",
       "  </thead>\n",
       "  <tbody>\n",
       "    <tr>\n",
       "      <th>Hoax</th>\n",
       "      <td>750</td>\n",
       "    </tr>\n",
       "    <tr>\n",
       "      <th>Propaganda</th>\n",
       "      <td>750</td>\n",
       "    </tr>\n",
       "    <tr>\n",
       "      <th>Reliable</th>\n",
       "      <td>750</td>\n",
       "    </tr>\n",
       "    <tr>\n",
       "      <th>Satire</th>\n",
       "      <td>750</td>\n",
       "    </tr>\n",
       "  </tbody>\n",
       "</table>\n",
       "</div>"
      ],
      "text/plain": [
       "            text\n",
       "label           \n",
       "Hoax         750\n",
       "Propaganda   750\n",
       "Reliable     750\n",
       "Satire       750"
      ]
     },
     "execution_count": 10,
     "metadata": {},
     "output_type": "execute_result"
    }
   ],
   "source": [
    "# Check the class distribution\n",
    "df_test.groupby('label').count()"
   ]
  },
  {
   "cell_type": "markdown",
   "id": "1db6c711",
   "metadata": {
    "papermill": {
     "duration": 0.006873,
     "end_time": "2023-03-21T03:30:59.203739",
     "exception": false,
     "start_time": "2023-03-21T03:30:59.196866",
     "status": "completed"
    },
    "tags": []
   },
   "source": [
    "## Encode the classes"
   ]
  },
  {
   "cell_type": "code",
   "execution_count": 11,
   "id": "8edc932e",
   "metadata": {
    "execution": {
     "iopub.execute_input": "2023-03-21T03:30:59.219386Z",
     "iopub.status.busy": "2023-03-21T03:30:59.218507Z",
     "iopub.status.idle": "2023-03-21T03:30:59.235785Z",
     "shell.execute_reply": "2023-03-21T03:30:59.234690Z"
    },
    "papermill": {
     "duration": 0.027435,
     "end_time": "2023-03-21T03:30:59.238082",
     "exception": false,
     "start_time": "2023-03-21T03:30:59.210647",
     "status": "completed"
    },
    "tags": []
   },
   "outputs": [],
   "source": [
    "le = LabelEncoder()\n",
    "\n",
    "X_train = df_train['text']\n",
    "y_train = le.fit_transform(df_train['label'])\n",
    "\n",
    "X_test = df_test['text']\n",
    "y_test = le.transform(df_test['label'])"
   ]
  },
  {
   "cell_type": "markdown",
   "id": "1b976a7b",
   "metadata": {
    "papermill": {
     "duration": 0.007044,
     "end_time": "2023-03-21T03:30:59.252300",
     "exception": false,
     "start_time": "2023-03-21T03:30:59.245256",
     "status": "completed"
    },
    "tags": []
   },
   "source": [
    "## Random Oversampling"
   ]
  },
  {
   "cell_type": "code",
   "execution_count": 12,
   "id": "dc7167e3",
   "metadata": {
    "execution": {
     "iopub.execute_input": "2023-03-21T03:30:59.268089Z",
     "iopub.status.busy": "2023-03-21T03:30:59.267776Z",
     "iopub.status.idle": "2023-03-21T03:30:59.290087Z",
     "shell.execute_reply": "2023-03-21T03:30:59.289097Z"
    },
    "papermill": {
     "duration": 0.032846,
     "end_time": "2023-03-21T03:30:59.292496",
     "exception": false,
     "start_time": "2023-03-21T03:30:59.259650",
     "status": "completed"
    },
    "tags": []
   },
   "outputs": [],
   "source": [
    "ros = RandomOverSampler(random_state=0)\n",
    "X_train, y_train = ros.fit_resample(X_train.values.reshape(-1, 1), y_train)"
   ]
  },
  {
   "cell_type": "code",
   "execution_count": 13,
   "id": "eda04d2f",
   "metadata": {
    "execution": {
     "iopub.execute_input": "2023-03-21T03:30:59.307385Z",
     "iopub.status.busy": "2023-03-21T03:30:59.307085Z",
     "iopub.status.idle": "2023-03-21T03:30:59.322322Z",
     "shell.execute_reply": "2023-03-21T03:30:59.321204Z"
    },
    "papermill": {
     "duration": 0.026816,
     "end_time": "2023-03-21T03:30:59.326138",
     "exception": false,
     "start_time": "2023-03-21T03:30:59.299322",
     "status": "completed"
    },
    "tags": []
   },
   "outputs": [
    {
     "name": "stdout",
     "output_type": "stream",
     "text": [
      "(71480, 1) (71480,)\n",
      "[(0, 17870), (1, 17870), (2, 17870), (3, 17870)]\n"
     ]
    }
   ],
   "source": [
    "from collections import Counter\n",
    "print(X_train.shape, y_train.shape)\n",
    "print(sorted(Counter(y_train).items()))"
   ]
  },
  {
   "cell_type": "markdown",
   "id": "15e4c891",
   "metadata": {
    "papermill": {
     "duration": 0.006702,
     "end_time": "2023-03-21T03:30:59.339571",
     "exception": false,
     "start_time": "2023-03-21T03:30:59.332869",
     "status": "completed"
    },
    "tags": []
   },
   "source": [
    "### Convert to one-hot vectors"
   ]
  },
  {
   "cell_type": "code",
   "execution_count": 14,
   "id": "01c616bb",
   "metadata": {
    "execution": {
     "iopub.execute_input": "2023-03-21T03:30:59.354527Z",
     "iopub.status.busy": "2023-03-21T03:30:59.354194Z",
     "iopub.status.idle": "2023-03-21T03:30:59.361350Z",
     "shell.execute_reply": "2023-03-21T03:30:59.360380Z"
    },
    "papermill": {
     "duration": 0.017148,
     "end_time": "2023-03-21T03:30:59.363598",
     "exception": false,
     "start_time": "2023-03-21T03:30:59.346450",
     "status": "completed"
    },
    "tags": []
   },
   "outputs": [],
   "source": [
    "y_train = to_categorical(y_train, num_classes=4)\n",
    "y_test = to_categorical(y_test, num_classes=4)"
   ]
  },
  {
   "cell_type": "code",
   "execution_count": 15,
   "id": "02a188f3",
   "metadata": {
    "execution": {
     "iopub.execute_input": "2023-03-21T03:30:59.379114Z",
     "iopub.status.busy": "2023-03-21T03:30:59.378264Z",
     "iopub.status.idle": "2023-03-21T03:30:59.384504Z",
     "shell.execute_reply": "2023-03-21T03:30:59.383328Z"
    },
    "papermill": {
     "duration": 0.016421,
     "end_time": "2023-03-21T03:30:59.386899",
     "exception": false,
     "start_time": "2023-03-21T03:30:59.370478",
     "status": "completed"
    },
    "tags": []
   },
   "outputs": [
    {
     "name": "stdout",
     "output_type": "stream",
     "text": [
      "(71480, 4) (3000, 4)\n"
     ]
    }
   ],
   "source": [
    "print(y_train.shape, y_test.shape)"
   ]
  },
  {
   "cell_type": "markdown",
   "id": "fc87f557",
   "metadata": {
    "papermill": {
     "duration": 0.006812,
     "end_time": "2023-03-21T03:30:59.400578",
     "exception": false,
     "start_time": "2023-03-21T03:30:59.393766",
     "status": "completed"
    },
    "tags": []
   },
   "source": [
    "## Split validation set for hyperparameter tuning"
   ]
  },
  {
   "cell_type": "code",
   "execution_count": 16,
   "id": "3906bbf8",
   "metadata": {
    "execution": {
     "iopub.execute_input": "2023-03-21T03:30:59.415982Z",
     "iopub.status.busy": "2023-03-21T03:30:59.415682Z",
     "iopub.status.idle": "2023-03-21T03:30:59.833672Z",
     "shell.execute_reply": "2023-03-21T03:30:59.832557Z"
    },
    "papermill": {
     "duration": 0.428825,
     "end_time": "2023-03-21T03:30:59.836418",
     "exception": false,
     "start_time": "2023-03-21T03:30:59.407593",
     "status": "completed"
    },
    "tags": []
   },
   "outputs": [],
   "source": [
    "X_train, X_val, y_train, y_val = train_test_split(X_train, y_train, random_state=42, test_size=0.1, stratify=y_train)"
   ]
  },
  {
   "cell_type": "markdown",
   "id": "288de03d",
   "metadata": {
    "papermill": {
     "duration": 0.006982,
     "end_time": "2023-03-21T03:30:59.850637",
     "exception": false,
     "start_time": "2023-03-21T03:30:59.843655",
     "status": "completed"
    },
    "tags": []
   },
   "source": [
    "## BERT Model"
   ]
  },
  {
   "cell_type": "code",
   "execution_count": 17,
   "id": "a54e79ad",
   "metadata": {
    "execution": {
     "iopub.execute_input": "2023-03-21T03:30:59.866925Z",
     "iopub.status.busy": "2023-03-21T03:30:59.866074Z",
     "iopub.status.idle": "2023-03-21T03:30:59.882172Z",
     "shell.execute_reply": "2023-03-21T03:30:59.881258Z"
    },
    "papermill": {
     "duration": 0.026551,
     "end_time": "2023-03-21T03:30:59.884263",
     "exception": false,
     "start_time": "2023-03-21T03:30:59.857712",
     "status": "completed"
    },
    "tags": []
   },
   "outputs": [],
   "source": [
    "# Define the optimizer which uses the same learning rate schedule as BERT pre-training\n",
    "epochs = 10\n",
    "batch_size = 32\n",
    "eval_batch_size = 32\n",
    "\n",
    "train_data_size = len(X_train)\n",
    "steps_per_epoch = int(train_data_size / batch_size)\n",
    "num_train_steps = steps_per_epoch * epochs\n",
    "num_warmup_steps = int(0.1*num_train_steps)\n",
    "\n",
    "init_lr = 3e-5\n",
    "\n",
    "# lr_schedule = tf.keras.optimizers.schedules.ExponentialDecay(\n",
    "#     initial_learning_rate=3e-5,\n",
    "#     decay_steps=10000,\n",
    "#     decay_rate=0.9)\n",
    "\n",
    "optimizer = optimization.create_optimizer(init_lr=init_lr,\n",
    "                                          num_train_steps=num_train_steps,\n",
    "                                          num_warmup_steps=num_warmup_steps,\n",
    "                                          optimizer_type='adamw') # by default, 0.01 weight_decay is already included.\n",
    "# optimizer = tfa.optimizers.LAMB(learning_rate=lr_schedule)\n"
   ]
  },
  {
   "cell_type": "code",
   "execution_count": 18,
   "id": "09e34d53",
   "metadata": {
    "execution": {
     "iopub.execute_input": "2023-03-21T03:30:59.898945Z",
     "iopub.status.busy": "2023-03-21T03:30:59.898647Z",
     "iopub.status.idle": "2023-03-21T03:30:59.907664Z",
     "shell.execute_reply": "2023-03-21T03:30:59.906689Z"
    },
    "papermill": {
     "duration": 0.018787,
     "end_time": "2023-03-21T03:30:59.909697",
     "exception": false,
     "start_time": "2023-03-21T03:30:59.890910",
     "status": "completed"
    },
    "tags": []
   },
   "outputs": [],
   "source": [
    "def build_model(num_classes, optimizer, max_seq_length=128):\n",
    "    \n",
    "    \n",
    "    preprocessor = hub.load(\n",
    "    \"https://tfhub.dev/tensorflow/bert_en_uncased_preprocess/3\")\n",
    "\n",
    "    # Step 1: tokenize batches of text inputs.\n",
    "    text_inputs = [tf.keras.layers.Input(shape=(), dtype=tf.string)]\n",
    "    tokenize = hub.KerasLayer(preprocessor.tokenize)\n",
    "    tokenized_inputs = [tokenize(segment) for segment in text_inputs]\n",
    "\n",
    "    # Step 2 (optional): modify tokenized inputs.\n",
    "    pass\n",
    "\n",
    "    # Step 3: pack input sequences for the Transformer encoder.\n",
    "    seq_length = max_seq_length\n",
    "    bert_pack_inputs = hub.KerasLayer(\n",
    "        preprocessor.bert_pack_inputs,\n",
    "        arguments=dict(seq_length=seq_length))  # Optional argument.\n",
    "    encoder_inputs = bert_pack_inputs(tokenized_inputs)\n",
    "         \n",
    "    encoder = hub.KerasLayer(\"https://kaggle.com/models/tensorflow/bert/frameworks/TensorFlow2/variations/bert-en-uncased-l-8-h-768-a-12/versions/2\",\n",
    "                             trainable=False, name='BERT_encoder')\n",
    "    outputs = encoder(encoder_inputs)\n",
    "    net = outputs['pooled_output']\n",
    "    net = tf.keras.layers.Dense(256, activation='relu')(net)\n",
    "    net = tf.keras.layers.Dropout(0.3)(net)\n",
    "    out = tf.keras.layers.Dense(num_classes, activation='softmax', name='classifier')(net)\n",
    "    \n",
    "    \n",
    "    model = tf.keras.models.Model(text_inputs, out)\n",
    "    model.compile(optimizer, loss='categorical_crossentropy', metrics=['accuracy', tfa.metrics.F1Score(num_classes=num_classes, average='macro')])\n",
    "    \n",
    "    return model"
   ]
  },
  {
   "cell_type": "code",
   "execution_count": 19,
   "id": "14f5252a",
   "metadata": {
    "execution": {
     "iopub.execute_input": "2023-03-21T03:30:59.924674Z",
     "iopub.status.busy": "2023-03-21T03:30:59.923794Z",
     "iopub.status.idle": "2023-03-21T03:31:15.030702Z",
     "shell.execute_reply": "2023-03-21T03:31:15.029883Z"
    },
    "papermill": {
     "duration": 15.137428,
     "end_time": "2023-03-21T03:31:15.053766",
     "exception": false,
     "start_time": "2023-03-21T03:30:59.916338",
     "status": "completed"
    },
    "tags": []
   },
   "outputs": [
    {
     "name": "stdout",
     "output_type": "stream",
     "text": [
      "Model: \"model\"\n",
      "__________________________________________________________________________________________________\n",
      " Layer (type)                   Output Shape         Param #     Connected to                     \n",
      "==================================================================================================\n",
      " input_1 (InputLayer)           [(None,)]            0           []                               \n",
      "                                                                                                  \n",
      " keras_layer (KerasLayer)       (None, None, None)   0           ['input_1[0][0]']                \n",
      "                                                                                                  \n",
      " keras_layer_1 (KerasLayer)     {'input_mask': (Non  0           ['keras_layer[0][0]']            \n",
      "                                e, 512),                                                          \n",
      "                                 'input_type_ids':                                                \n",
      "                                (None, 512),                                                      \n",
      "                                 'input_word_ids':                                                \n",
      "                                (None, 512)}                                                      \n",
      "                                                                                                  \n",
      " BERT_encoder (KerasLayer)      {'default': (None,   81130753    ['keras_layer_1[0][0]',          \n",
      "                                768),                             'keras_layer_1[0][1]',          \n",
      "                                 'encoder_outputs':               'keras_layer_1[0][2]']          \n",
      "                                 [(None, 512, 768),                                               \n",
      "                                 (None, 512, 768),                                                \n",
      "                                 (None, 512, 768),                                                \n",
      "                                 (None, 512, 768),                                                \n",
      "                                 (None, 512, 768),                                                \n",
      "                                 (None, 512, 768),                                                \n",
      "                                 (None, 512, 768),                                                \n",
      "                                 (None, 512, 768)],                                               \n",
      "                                 'pooled_output': (                                               \n",
      "                                None, 768),                                                       \n",
      "                                 'sequence_output':                                               \n",
      "                                 (None, 512, 768)}                                                \n",
      "                                                                                                  \n",
      " dense (Dense)                  (None, 256)          196864      ['BERT_encoder[0][9]']           \n",
      "                                                                                                  \n",
      " dropout (Dropout)              (None, 256)          0           ['dense[0][0]']                  \n",
      "                                                                                                  \n",
      " classifier (Dense)             (None, 4)            1028        ['dropout[0][0]']                \n",
      "                                                                                                  \n",
      "==================================================================================================\n",
      "Total params: 81,328,645\n",
      "Trainable params: 197,892\n",
      "Non-trainable params: 81,130,753\n",
      "__________________________________________________________________________________________________\n"
     ]
    }
   ],
   "source": [
    "model = build_model(num_classes=len(TEXT_LABELS), optimizer=optimizer, max_seq_length=512)\n",
    "model.summary()"
   ]
  },
  {
   "cell_type": "code",
   "execution_count": 20,
   "id": "8ffd07f8",
   "metadata": {
    "execution": {
     "iopub.execute_input": "2023-03-21T03:31:15.073210Z",
     "iopub.status.busy": "2023-03-21T03:31:15.072880Z",
     "iopub.status.idle": "2023-03-21T06:59:11.869684Z",
     "shell.execute_reply": "2023-03-21T06:59:11.868701Z"
    },
    "papermill": {
     "duration": 12476.808897,
     "end_time": "2023-03-21T06:59:11.871824",
     "exception": false,
     "start_time": "2023-03-21T03:31:15.062927",
     "status": "completed"
    },
    "tags": []
   },
   "outputs": [
    {
     "name": "stdout",
     "output_type": "stream",
     "text": [
      "Epoch 1/10\n",
      "2011/2011 [==============================] - ETA: 0s - loss: 0.9100 - accuracy: 0.6409 - f1_score: 0.6397\n",
      "Epoch 1: saving model to weights-01-0.42\n",
      "2011/2011 [==============================] - 1259s 621ms/step - loss: 0.9100 - accuracy: 0.6409 - f1_score: 0.6397 - val_loss: 0.4201 - val_accuracy: 0.8713 - val_f1_score: 0.8709\n",
      "Epoch 2/10\n",
      "2011/2011 [==============================] - ETA: 0s - loss: 0.3694 - accuracy: 0.8739 - f1_score: 0.8738\n",
      "Epoch 2: saving model to weights-02-0.29\n",
      "2011/2011 [==============================] - 1250s 622ms/step - loss: 0.3694 - accuracy: 0.8739 - f1_score: 0.8738 - val_loss: 0.2856 - val_accuracy: 0.9064 - val_f1_score: 0.9063\n",
      "Epoch 3/10\n",
      "2011/2011 [==============================] - ETA: 0s - loss: 0.2873 - accuracy: 0.8998 - f1_score: 0.8997\n",
      "Epoch 3: saving model to weights-03-0.24\n",
      "2011/2011 [==============================] - 1251s 622ms/step - loss: 0.2873 - accuracy: 0.8998 - f1_score: 0.8997 - val_loss: 0.2373 - val_accuracy: 0.9224 - val_f1_score: 0.9222\n",
      "Epoch 4/10\n",
      "2011/2011 [==============================] - ETA: 0s - loss: 0.2537 - accuracy: 0.9111 - f1_score: 0.9110\n",
      "Epoch 4: saving model to weights-04-0.22\n",
      "2011/2011 [==============================] - 1253s 623ms/step - loss: 0.2537 - accuracy: 0.9111 - f1_score: 0.9110 - val_loss: 0.2153 - val_accuracy: 0.9299 - val_f1_score: 0.9298\n",
      "Epoch 5/10\n",
      "2011/2011 [==============================] - ETA: 0s - loss: 0.2344 - accuracy: 0.9168 - f1_score: 0.9167\n",
      "Epoch 5: saving model to weights-05-0.20\n",
      "2011/2011 [==============================] - 1233s 613ms/step - loss: 0.2344 - accuracy: 0.9168 - f1_score: 0.9167 - val_loss: 0.2015 - val_accuracy: 0.9328 - val_f1_score: 0.9328\n",
      "Epoch 6/10\n",
      "2011/2011 [==============================] - ETA: 0s - loss: 0.2216 - accuracy: 0.9223 - f1_score: 0.9223\n",
      "Epoch 6: saving model to weights-06-0.19\n",
      "2011/2011 [==============================] - 1253s 623ms/step - loss: 0.2216 - accuracy: 0.9223 - f1_score: 0.9223 - val_loss: 0.1929 - val_accuracy: 0.9368 - val_f1_score: 0.9367\n",
      "Epoch 7/10\n",
      "2011/2011 [==============================] - ETA: 0s - loss: 0.2141 - accuracy: 0.9245 - f1_score: 0.9244\n",
      "Epoch 7: saving model to weights-07-0.19\n",
      "2011/2011 [==============================] - 1251s 622ms/step - loss: 0.2141 - accuracy: 0.9245 - f1_score: 0.9244 - val_loss: 0.1885 - val_accuracy: 0.9354 - val_f1_score: 0.9353\n",
      "Epoch 8/10\n",
      "2011/2011 [==============================] - ETA: 0s - loss: 0.2065 - accuracy: 0.9276 - f1_score: 0.9275\n",
      "Epoch 8: saving model to weights-08-0.18\n",
      "2011/2011 [==============================] - 1255s 624ms/step - loss: 0.2065 - accuracy: 0.9276 - f1_score: 0.9275 - val_loss: 0.1842 - val_accuracy: 0.9380 - val_f1_score: 0.9379\n",
      "Epoch 9/10\n",
      "2011/2011 [==============================] - ETA: 0s - loss: 0.2043 - accuracy: 0.9278 - f1_score: 0.9277\n",
      "Epoch 9: saving model to weights-09-0.18\n",
      "2011/2011 [==============================] - 1235s 614ms/step - loss: 0.2043 - accuracy: 0.9278 - f1_score: 0.9277 - val_loss: 0.1825 - val_accuracy: 0.9379 - val_f1_score: 0.9378\n",
      "Epoch 10/10\n",
      "2011/2011 [==============================] - ETA: 0s - loss: 0.2026 - accuracy: 0.9280 - f1_score: 0.9279\n",
      "Epoch 10: saving model to weights-10-0.18\n",
      "2011/2011 [==============================] - 1237s 615ms/step - loss: 0.2026 - accuracy: 0.9280 - f1_score: 0.9279 - val_loss: 0.1808 - val_accuracy: 0.9390 - val_f1_score: 0.9389\n"
     ]
    }
   ],
   "source": [
    "checkpoint = tf.keras.callbacks.ModelCheckpoint('weights-{epoch:02d}-{val_loss:.2f}', monitor='val_accuracy', save_best_only=False, save_weights_only=False, verbose=1)\n",
    "early_stopping = tf.keras.callbacks.EarlyStopping(monitor='val_accuracy', patience=5, verbose=1)\n",
    "\n",
    "history = model.fit(x=X_train,\n",
    "          y=y_train,\n",
    "          validation_data=(X_val, y_val),\n",
    "          epochs=epochs, \n",
    "          callbacks=[checkpoint, early_stopping], \n",
    "          batch_size=batch_size,\n",
    "          validation_batch_size=eval_batch_size,\n",
    "          verbose=1)"
   ]
  },
  {
   "cell_type": "code",
   "execution_count": 21,
   "id": "09bdcf92",
   "metadata": {
    "execution": {
     "iopub.execute_input": "2023-03-21T06:59:14.202132Z",
     "iopub.status.busy": "2023-03-21T06:59:14.201748Z",
     "iopub.status.idle": "2023-03-21T06:59:14.207721Z",
     "shell.execute_reply": "2023-03-21T06:59:14.206694Z"
    },
    "papermill": {
     "duration": 1.242533,
     "end_time": "2023-03-21T06:59:14.209926",
     "exception": false,
     "start_time": "2023-03-21T06:59:12.967393",
     "status": "completed"
    },
    "tags": []
   },
   "outputs": [],
   "source": [
    "def plot_loss(history):\n",
    "    # plot learning curves\n",
    "    plt.title('Learning Curves')\n",
    "    plt.xlabel('Epoch')\n",
    "    plt.ylabel('Loss')\n",
    "    plt.plot(history.history['loss'], label='train')\n",
    "    plt.plot(history.history['val_loss'], label='val')\n",
    "    plt.legend()\n",
    "    plt.tight_layout()"
   ]
  },
  {
   "cell_type": "code",
   "execution_count": 22,
   "id": "63a39eb1",
   "metadata": {
    "execution": {
     "iopub.execute_input": "2023-03-21T06:59:16.645250Z",
     "iopub.status.busy": "2023-03-21T06:59:16.644876Z",
     "iopub.status.idle": "2023-03-21T06:59:16.965305Z",
     "shell.execute_reply": "2023-03-21T06:59:16.964352Z"
    },
    "papermill": {
     "duration": 1.411298,
     "end_time": "2023-03-21T06:59:16.967593",
     "exception": false,
     "start_time": "2023-03-21T06:59:15.556295",
     "status": "completed"
    },
    "tags": []
   },
   "outputs": [
    {
     "data": {
      "image/png": "[encoded data removed]",
      "text/plain": [
       "<Figure size 640x480 with 1 Axes>"
      ]
     },
     "metadata": {},
     "output_type": "display_data"
    }
   ],
   "source": [
    "plot_loss(history)"
   ]
  },
  {
   "cell_type": "markdown",
   "id": "1f229267",
   "metadata": {
    "papermill": {
     "duration": 1.11587,
     "end_time": "2023-03-21T06:59:19.249759",
     "exception": false,
     "start_time": "2023-03-21T06:59:18.133889",
     "status": "completed"
    },
    "tags": []
   },
   "source": [
    "## Evaluation"
   ]
  },
  {
   "cell_type": "code",
   "execution_count": 23,
   "id": "04ddb4e6",
   "metadata": {
    "execution": {
     "iopub.execute_input": "2023-03-21T06:59:21.561894Z",
     "iopub.status.busy": "2023-03-21T06:59:21.561522Z",
     "iopub.status.idle": "2023-03-21T06:59:21.568391Z",
     "shell.execute_reply": "2023-03-21T06:59:21.567457Z"
    },
    "papermill": {
     "duration": 1.138259,
     "end_time": "2023-03-21T06:59:21.570778",
     "exception": false,
     "start_time": "2023-03-21T06:59:20.432519",
     "status": "completed"
    },
    "tags": []
   },
   "outputs": [],
   "source": [
    "X_test = df_test['text']\n",
    "y_test = le.transform(df_test['label'])"
   ]
  },
  {
   "cell_type": "code",
   "execution_count": 24,
   "id": "15c9f2cc",
   "metadata": {
    "execution": {
     "iopub.execute_input": "2023-03-21T06:59:24.301608Z",
     "iopub.status.busy": "2023-03-21T06:59:24.301182Z",
     "iopub.status.idle": "2023-03-21T07:00:47.088522Z",
     "shell.execute_reply": "2023-03-21T07:00:47.087468Z"
    },
    "papermill": {
     "duration": 84.357431,
     "end_time": "2023-03-21T07:00:47.091130",
     "exception": false,
     "start_time": "2023-03-21T06:59:22.733699",
     "status": "completed"
    },
    "tags": []
   },
   "outputs": [
    {
     "name": "stdout",
     "output_type": "stream",
     "text": [
      "94/94 [==============================] - 51s 543ms/step\n"
     ]
    }
   ],
   "source": [
    "y_proba = model.predict(X_test, batch_size=eval_batch_size)\n",
    "y_pred = np.argmax(y_proba, axis=1)\n",
    "y_pred_labels = le.inverse_transform(y_pred)\n",
    "y_true_labels = le.inverse_transform(y_test)"
   ]
  },
  {
   "cell_type": "code",
   "execution_count": 25,
   "id": "3166d2f4",
   "metadata": {
    "execution": {
     "iopub.execute_input": "2023-03-21T07:00:49.572983Z",
     "iopub.status.busy": "2023-03-21T07:00:49.572604Z",
     "iopub.status.idle": "2023-03-21T07:00:49.641314Z",
     "shell.execute_reply": "2023-03-21T07:00:49.639884Z"
    },
    "papermill": {
     "duration": 1.467711,
     "end_time": "2023-03-21T07:00:49.643600",
     "exception": false,
     "start_time": "2023-03-21T07:00:48.175889",
     "status": "completed"
    },
    "tags": []
   },
   "outputs": [
    {
     "name": "stdout",
     "output_type": "stream",
     "text": [
      "              precision    recall  f1-score   support\n",
      "\n",
      "        Hoax       0.52      0.37      0.44       750\n",
      "  Propaganda       0.44      0.52      0.48       750\n",
      "    Reliable       0.66      0.88      0.75       750\n",
      "      Satire       0.74      0.55      0.63       750\n",
      "\n",
      "    accuracy                           0.58      3000\n",
      "   macro avg       0.59      0.58      0.57      3000\n",
      "weighted avg       0.59      0.58      0.57      3000\n",
      "\n",
      "[[281 442  15  12]\n",
      " [  8 392 264  86]\n",
      " [ 11  30 661  48]\n",
      " [241  27  69 413]]\n"
     ]
    }
   ],
   "source": [
    "print(classification_report(y_true=y_true_labels, y_pred=y_pred_labels))\n",
    "print(confusion_matrix(y_true_labels, y_pred_labels))"
   ]
  },
  {
   "cell_type": "code",
   "execution_count": null,
   "id": "4038753c",
   "metadata": {
    "papermill": {
     "duration": 1.157317,
     "end_time": "2023-03-21T07:00:51.879120",
     "exception": false,
     "start_time": "2023-03-21T07:00:50.721803",
     "status": "completed"
    },
    "tags": []
   },
   "outputs": [],
   "source": []
  }
 ],
 "metadata": {
  "kernelspec": {
   "display_name": "Python 3",
   "language": "python",
   "name": "python3"
  },
  "language_info": {
   "codemirror_mode": {
    "name": "ipython",
    "version": 3
   },
   "file_extension": ".py",
   "mimetype": "text/x-python",
   "name": "python",
   "nbconvert_exporter": "python",
   "pygments_lexer": "ipython3",
   "version": "3.7.12"
  },
  "papermill": {
   "default_parameters": {},
   "duration": 12684.827568,
   "end_time": "2023-03-21T07:00:56.348922",
   "environment_variables": {},
   "exception": null,
   "input_path": "__notebook__.ipynb",
   "output_path": "__notebook__.ipynb",
   "parameters": {},
   "start_time": "2023-03-21T03:29:31.521354",
   "version": "2.4.0"
  }
 },
 "nbformat": 4,
 "nbformat_minor": 5
}
