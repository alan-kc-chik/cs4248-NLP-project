{
 "cells": [
  {
   "cell_type": "code",
   "execution_count": 1,
   "id": "75b42086",
   "metadata": {
    "execution": {
     "iopub.execute_input": "2023-03-26T07:16:05.745463Z",
     "iopub.status.busy": "2023-03-26T07:16:05.745073Z",
     "iopub.status.idle": "2023-03-26T07:16:05.755050Z",
     "shell.execute_reply": "2023-03-26T07:16:05.754169Z"
    },
    "papermill": {
     "duration": 0.020803,
     "end_time": "2023-03-26T07:16:05.757156",
     "exception": false,
     "start_time": "2023-03-26T07:16:05.736353",
     "status": "completed"
    },
    "tags": []
   },
   "outputs": [],
   "source": [
    "PRETRAINED = True\n",
    "DOWNSAMPLE = False"
   ]
  },
  {
   "cell_type": "code",
   "execution_count": 2,
   "id": "4834a837",
   "metadata": {
    "_cell_guid": "b1076dfc-b9ad-4769-8c92-a6c4dae69d19",
    "_uuid": "8f2839f25d086af736a60e9eeb907d3b93b6e0e5",
    "execution": {
     "iopub.execute_input": "2023-03-26T07:16:05.770889Z",
     "iopub.status.busy": "2023-03-26T07:16:05.770616Z",
     "iopub.status.idle": "2023-03-26T07:17:08.417287Z",
     "shell.execute_reply": "2023-03-26T07:17:08.416073Z"
    },
    "papermill": {
     "duration": 62.656733,
     "end_time": "2023-03-26T07:17:08.420275",
     "exception": false,
     "start_time": "2023-03-26T07:16:05.763542",
     "status": "completed"
    },
    "tags": []
   },
   "outputs": [
    {
     "name": "stdout",
     "output_type": "stream",
     "text": [
      "\u001b[31mERROR: pip's dependency resolver does not currently take into account all the packages that are installed. This behaviour is the source of the following dependency conflicts.\r\n",
      "cudf 21.12.2 requires cupy-cuda115, which is not installed.\r\n",
      "tfx-bsl 1.12.0 requires google-api-python-client<2,>=1.7.11, but you have google-api-python-client 2.79.0 which is incompatible.\r\n",
      "tfx-bsl 1.12.0 requires pyarrow<7,>=6, but you have pyarrow 5.0.0 which is incompatible.\r\n",
      "tensorflow-transform 1.12.0 requires pyarrow<7,>=6, but you have pyarrow 5.0.0 which is incompatible.\r\n",
      "onnx 1.13.1 requires protobuf<4,>=3.20.2, but you have protobuf 3.19.6 which is incompatible.\r\n",
      "apache-beam 2.44.0 requires dill<0.3.2,>=0.3.1.1, but you have dill 0.3.6 which is incompatible.\u001b[0m\u001b[31m\r\n",
      "\u001b[0m\u001b[33mWARNING: Running pip as the 'root' user can result in broken permissions and conflicting behaviour with the system package manager. It is recommended to use a virtual environment instead: https://pip.pypa.io/warnings/venv\u001b[0m\u001b[33m\r\n",
      "\u001b[0m\u001b[31mERROR: pip's dependency resolver does not currently take into account all the packages that are installed. This behaviour is the source of the following dependency conflicts.\r\n",
      "dask-cudf 21.12.2 requires cupy-cuda115, which is not installed.\r\n",
      "distributed 2021.11.2 requires dask==2021.11.2, but you have dask 2022.2.0 which is incompatible.\r\n",
      "dask-cudf 21.12.2 requires dask<=2021.11.2,>=2021.11.1, but you have dask 2022.2.0 which is incompatible.\u001b[0m\u001b[31m\r\n",
      "\u001b[0m\u001b[33mWARNING: Running pip as the 'root' user can result in broken permissions and conflicting behaviour with the system package manager. It is recommended to use a virtual environment instead: https://pip.pypa.io/warnings/venv\u001b[0m\u001b[33m\r\n",
      "\u001b[0m"
     ]
    }
   ],
   "source": [
    "!pip install -q tensorflow_text\n",
    "!pip install -q tf-models-official==2.11.0"
   ]
  },
  {
   "cell_type": "code",
   "execution_count": 3,
   "id": "b6c274a2",
   "metadata": {
    "execution": {
     "iopub.execute_input": "2023-03-26T07:17:08.435073Z",
     "iopub.status.busy": "2023-03-26T07:17:08.434746Z",
     "iopub.status.idle": "2023-03-26T07:17:15.958405Z",
     "shell.execute_reply": "2023-03-26T07:17:15.957320Z"
    },
    "papermill": {
     "duration": 7.534189,
     "end_time": "2023-03-26T07:17:15.961120",
     "exception": false,
     "start_time": "2023-03-26T07:17:08.426931",
     "status": "completed"
    },
    "tags": []
   },
   "outputs": [],
   "source": [
    "import numpy as np\n",
    "import pandas as pd\n",
    "\n",
    "from sklearn import preprocessing\n",
    "from sklearn.model_selection import train_test_split\n",
    "from imblearn.over_sampling import RandomOverSampler\n",
    "\n",
    "import tensorflow as tf\n",
    "import tensorflow_addons as tfa\n",
    "import tensorflow_hub as hub\n",
    "import tensorflow_text as text  # Registers the ops.\n",
    "from keras.utils import to_categorical\n",
    "from official.nlp import optimization  # to create AdamW optimizer\n",
    "from sklearn.preprocessing import LabelEncoder\n",
    "from sklearn.metrics import classification_report, confusion_matrix\n",
    "\n",
    "# Plots\n",
    "import matplotlib.pyplot as plt\n",
    "import seaborn as sns"
   ]
  },
  {
   "cell_type": "code",
   "execution_count": 4,
   "id": "39130046",
   "metadata": {
    "execution": {
     "iopub.execute_input": "2023-03-26T07:17:15.976411Z",
     "iopub.status.busy": "2023-03-26T07:17:15.975800Z",
     "iopub.status.idle": "2023-03-26T07:17:18.930697Z",
     "shell.execute_reply": "2023-03-26T07:17:18.929577Z"
    },
    "papermill": {
     "duration": 2.965313,
     "end_time": "2023-03-26T07:17:18.933515",
     "exception": false,
     "start_time": "2023-03-26T07:17:15.968202",
     "status": "completed"
    },
    "tags": []
   },
   "outputs": [],
   "source": [
    "df_train = pd.read_csv('/kaggle/input/labeled-unreliable-news-lun/fulltrain.csv', encoding='utf-8', names=['label', 'text'])\n",
    "df_test = pd.read_csv('/kaggle/input/labeled-unreliable-news-lun/balancedtest.csv', encoding='utf-8', names=['label', 'text'])"
   ]
  },
  {
   "cell_type": "code",
   "execution_count": 5,
   "id": "25887cff",
   "metadata": {
    "execution": {
     "iopub.execute_input": "2023-03-26T07:17:18.948517Z",
     "iopub.status.busy": "2023-03-26T07:17:18.947678Z",
     "iopub.status.idle": "2023-03-26T07:17:18.968445Z",
     "shell.execute_reply": "2023-03-26T07:17:18.967539Z"
    },
    "papermill": {
     "duration": 0.030305,
     "end_time": "2023-03-26T07:17:18.970624",
     "exception": false,
     "start_time": "2023-03-26T07:17:18.940319",
     "status": "completed"
    },
    "tags": []
   },
   "outputs": [],
   "source": [
    "TEXT_LABELS = {1: 'Satire', 2: 'Hoax', 3: 'Propaganda', 4: 'Reliable News'}\n",
    "df_train['label'] = [TEXT_LABELS[x] for x in df_train['label']]\n",
    "df_test['label'] = [TEXT_LABELS[x] for x in df_test['label']]"
   ]
  },
  {
   "cell_type": "code",
   "execution_count": 6,
   "id": "42dbc96d",
   "metadata": {
    "execution": {
     "iopub.execute_input": "2023-03-26T07:17:18.984522Z",
     "iopub.status.busy": "2023-03-26T07:17:18.984243Z",
     "iopub.status.idle": "2023-03-26T07:17:18.998718Z",
     "shell.execute_reply": "2023-03-26T07:17:18.997795Z"
    },
    "papermill": {
     "duration": 0.024196,
     "end_time": "2023-03-26T07:17:19.001153",
     "exception": false,
     "start_time": "2023-03-26T07:17:18.976957",
     "status": "completed"
    },
    "tags": []
   },
   "outputs": [
    {
     "data": {
      "text/html": [
       "<div>\n",
       "<style scoped>\n",
       "    .dataframe tbody tr th:only-of-type {\n",
       "        vertical-align: middle;\n",
       "    }\n",
       "\n",
       "    .dataframe tbody tr th {\n",
       "        vertical-align: top;\n",
       "    }\n",
       "\n",
       "    .dataframe thead th {\n",
       "        text-align: right;\n",
       "    }\n",
       "</style>\n",
       "<table border=\"1\" class=\"dataframe\">\n",
       "  <thead>\n",
       "    <tr style=\"text-align: right;\">\n",
       "      <th></th>\n",
       "      <th>label</th>\n",
       "      <th>text</th>\n",
       "    </tr>\n",
       "  </thead>\n",
       "  <tbody>\n",
       "    <tr>\n",
       "      <th>0</th>\n",
       "      <td>Satire</td>\n",
       "      <td>A little less than a decade ago, hockey fans w...</td>\n",
       "    </tr>\n",
       "    <tr>\n",
       "      <th>1</th>\n",
       "      <td>Satire</td>\n",
       "      <td>The writers of the HBO series The Sopranos too...</td>\n",
       "    </tr>\n",
       "    <tr>\n",
       "      <th>2</th>\n",
       "      <td>Satire</td>\n",
       "      <td>Despite claims from the TV news outlet to offe...</td>\n",
       "    </tr>\n",
       "    <tr>\n",
       "      <th>3</th>\n",
       "      <td>Satire</td>\n",
       "      <td>After receiving 'subpar' service and experienc...</td>\n",
       "    </tr>\n",
       "    <tr>\n",
       "      <th>4</th>\n",
       "      <td>Satire</td>\n",
       "      <td>After watching his beloved Seattle Mariners pr...</td>\n",
       "    </tr>\n",
       "  </tbody>\n",
       "</table>\n",
       "</div>"
      ],
      "text/plain": [
       "    label                                               text\n",
       "0  Satire  A little less than a decade ago, hockey fans w...\n",
       "1  Satire  The writers of the HBO series The Sopranos too...\n",
       "2  Satire  Despite claims from the TV news outlet to offe...\n",
       "3  Satire  After receiving 'subpar' service and experienc...\n",
       "4  Satire  After watching his beloved Seattle Mariners pr..."
      ]
     },
     "execution_count": 6,
     "metadata": {},
     "output_type": "execute_result"
    }
   ],
   "source": [
    "df_train.head()"
   ]
  },
  {
   "cell_type": "code",
   "execution_count": 7,
   "id": "003a011e",
   "metadata": {
    "execution": {
     "iopub.execute_input": "2023-03-26T07:17:19.015946Z",
     "iopub.status.busy": "2023-03-26T07:17:19.015110Z",
     "iopub.status.idle": "2023-03-26T07:17:19.026387Z",
     "shell.execute_reply": "2023-03-26T07:17:19.025028Z"
    },
    "papermill": {
     "duration": 0.021755,
     "end_time": "2023-03-26T07:17:19.029471",
     "exception": false,
     "start_time": "2023-03-26T07:17:19.007716",
     "status": "completed"
    },
    "tags": []
   },
   "outputs": [
    {
     "data": {
      "text/html": [
       "<div>\n",
       "<style scoped>\n",
       "    .dataframe tbody tr th:only-of-type {\n",
       "        vertical-align: middle;\n",
       "    }\n",
       "\n",
       "    .dataframe tbody tr th {\n",
       "        vertical-align: top;\n",
       "    }\n",
       "\n",
       "    .dataframe thead th {\n",
       "        text-align: right;\n",
       "    }\n",
       "</style>\n",
       "<table border=\"1\" class=\"dataframe\">\n",
       "  <thead>\n",
       "    <tr style=\"text-align: right;\">\n",
       "      <th></th>\n",
       "      <th>label</th>\n",
       "      <th>text</th>\n",
       "    </tr>\n",
       "  </thead>\n",
       "  <tbody>\n",
       "    <tr>\n",
       "      <th>0</th>\n",
       "      <td>Satire</td>\n",
       "      <td>When so many actors seem content to churn out ...</td>\n",
       "    </tr>\n",
       "    <tr>\n",
       "      <th>1</th>\n",
       "      <td>Satire</td>\n",
       "      <td>In what football insiders are calling an unex...</td>\n",
       "    </tr>\n",
       "    <tr>\n",
       "      <th>2</th>\n",
       "      <td>Satire</td>\n",
       "      <td>In a freak accident following Game 3 of the N....</td>\n",
       "    </tr>\n",
       "    <tr>\n",
       "      <th>3</th>\n",
       "      <td>Satire</td>\n",
       "      <td>North Koreas official news agency announced to...</td>\n",
       "    </tr>\n",
       "    <tr>\n",
       "      <th>4</th>\n",
       "      <td>Satire</td>\n",
       "      <td>The former Alaska Governor Sarah Palin would b...</td>\n",
       "    </tr>\n",
       "  </tbody>\n",
       "</table>\n",
       "</div>"
      ],
      "text/plain": [
       "    label                                               text\n",
       "0  Satire  When so many actors seem content to churn out ...\n",
       "1  Satire   In what football insiders are calling an unex...\n",
       "2  Satire  In a freak accident following Game 3 of the N....\n",
       "3  Satire  North Koreas official news agency announced to...\n",
       "4  Satire  The former Alaska Governor Sarah Palin would b..."
      ]
     },
     "execution_count": 7,
     "metadata": {},
     "output_type": "execute_result"
    }
   ],
   "source": [
    "df_test.head()"
   ]
  },
  {
   "cell_type": "code",
   "execution_count": 8,
   "id": "86a641fd",
   "metadata": {
    "execution": {
     "iopub.execute_input": "2023-03-26T07:17:19.044388Z",
     "iopub.status.busy": "2023-03-26T07:17:19.044113Z",
     "iopub.status.idle": "2023-03-26T07:17:19.049129Z",
     "shell.execute_reply": "2023-03-26T07:17:19.048116Z"
    },
    "papermill": {
     "duration": 0.014737,
     "end_time": "2023-03-26T07:17:19.051333",
     "exception": false,
     "start_time": "2023-03-26T07:17:19.036596",
     "status": "completed"
    },
    "tags": []
   },
   "outputs": [],
   "source": [
    "DOWNSAMPLE_RATIO = 0.01\n",
    "\n",
    "# Use stratify sampling to preserve the original class distribution\n",
    "if DOWNSAMPLE:\n",
    "    df_train, _ = train_test_split(df_train, train_size=DOWNSAMPLE_RATIO, random_state=42, stratify=df_train['label'])\n",
    "    df_test, _ = train_test_split(df_test, train_size=DOWNSAMPLE_RATIO, random_state=42, stratify=df_test['label'])"
   ]
  },
  {
   "cell_type": "code",
   "execution_count": 9,
   "id": "695ce6ee",
   "metadata": {
    "execution": {
     "iopub.execute_input": "2023-03-26T07:17:19.066078Z",
     "iopub.status.busy": "2023-03-26T07:17:19.065813Z",
     "iopub.status.idle": "2023-03-26T07:17:19.071424Z",
     "shell.execute_reply": "2023-03-26T07:17:19.070414Z"
    },
    "papermill": {
     "duration": 0.016443,
     "end_time": "2023-03-26T07:17:19.074280",
     "exception": false,
     "start_time": "2023-03-26T07:17:19.057837",
     "status": "completed"
    },
    "tags": []
   },
   "outputs": [
    {
     "name": "stdout",
     "output_type": "stream",
     "text": [
      "Shape of the training data:  (48854, 2)\n",
      "Shape of the test data:  (3000, 2)\n"
     ]
    }
   ],
   "source": [
    "print('Shape of the training data: ', df_train.shape)\n",
    "print('Shape of the test data: ', df_test.shape)"
   ]
  },
  {
   "cell_type": "code",
   "execution_count": 10,
   "id": "31d29c64",
   "metadata": {
    "execution": {
     "iopub.execute_input": "2023-03-26T07:17:19.089909Z",
     "iopub.status.busy": "2023-03-26T07:17:19.089118Z",
     "iopub.status.idle": "2023-03-26T07:17:19.113334Z",
     "shell.execute_reply": "2023-03-26T07:17:19.112216Z"
    },
    "papermill": {
     "duration": 0.034517,
     "end_time": "2023-03-26T07:17:19.116174",
     "exception": false,
     "start_time": "2023-03-26T07:17:19.081657",
     "status": "completed"
    },
    "tags": []
   },
   "outputs": [
    {
     "data": {
      "text/html": [
       "<div>\n",
       "<style scoped>\n",
       "    .dataframe tbody tr th:only-of-type {\n",
       "        vertical-align: middle;\n",
       "    }\n",
       "\n",
       "    .dataframe tbody tr th {\n",
       "        vertical-align: top;\n",
       "    }\n",
       "\n",
       "    .dataframe thead th {\n",
       "        text-align: right;\n",
       "    }\n",
       "</style>\n",
       "<table border=\"1\" class=\"dataframe\">\n",
       "  <thead>\n",
       "    <tr style=\"text-align: right;\">\n",
       "      <th></th>\n",
       "      <th>text</th>\n",
       "    </tr>\n",
       "    <tr>\n",
       "      <th>label</th>\n",
       "      <th></th>\n",
       "    </tr>\n",
       "  </thead>\n",
       "  <tbody>\n",
       "    <tr>\n",
       "      <th>Hoax</th>\n",
       "      <td>6942</td>\n",
       "    </tr>\n",
       "    <tr>\n",
       "      <th>Propaganda</th>\n",
       "      <td>17870</td>\n",
       "    </tr>\n",
       "    <tr>\n",
       "      <th>Reliable News</th>\n",
       "      <td>9995</td>\n",
       "    </tr>\n",
       "    <tr>\n",
       "      <th>Satire</th>\n",
       "      <td>14047</td>\n",
       "    </tr>\n",
       "  </tbody>\n",
       "</table>\n",
       "</div>"
      ],
      "text/plain": [
       "                text\n",
       "label               \n",
       "Hoax            6942\n",
       "Propaganda     17870\n",
       "Reliable News   9995\n",
       "Satire         14047"
      ]
     },
     "execution_count": 10,
     "metadata": {},
     "output_type": "execute_result"
    }
   ],
   "source": [
    "# Check the class distribution\n",
    "df_train.groupby('label').count()"
   ]
  },
  {
   "cell_type": "code",
   "execution_count": 11,
   "id": "fe0b8c36",
   "metadata": {
    "execution": {
     "iopub.execute_input": "2023-03-26T07:17:19.131343Z",
     "iopub.status.busy": "2023-03-26T07:17:19.131031Z",
     "iopub.status.idle": "2023-03-26T07:17:19.143189Z",
     "shell.execute_reply": "2023-03-26T07:17:19.141791Z"
    },
    "papermill": {
     "duration": 0.022043,
     "end_time": "2023-03-26T07:17:19.145264",
     "exception": false,
     "start_time": "2023-03-26T07:17:19.123221",
     "status": "completed"
    },
    "tags": []
   },
   "outputs": [
    {
     "data": {
      "text/html": [
       "<div>\n",
       "<style scoped>\n",
       "    .dataframe tbody tr th:only-of-type {\n",
       "        vertical-align: middle;\n",
       "    }\n",
       "\n",
       "    .dataframe tbody tr th {\n",
       "        vertical-align: top;\n",
       "    }\n",
       "\n",
       "    .dataframe thead th {\n",
       "        text-align: right;\n",
       "    }\n",
       "</style>\n",
       "<table border=\"1\" class=\"dataframe\">\n",
       "  <thead>\n",
       "    <tr style=\"text-align: right;\">\n",
       "      <th></th>\n",
       "      <th>text</th>\n",
       "    </tr>\n",
       "    <tr>\n",
       "      <th>label</th>\n",
       "      <th></th>\n",
       "    </tr>\n",
       "  </thead>\n",
       "  <tbody>\n",
       "    <tr>\n",
       "      <th>Hoax</th>\n",
       "      <td>750</td>\n",
       "    </tr>\n",
       "    <tr>\n",
       "      <th>Propaganda</th>\n",
       "      <td>750</td>\n",
       "    </tr>\n",
       "    <tr>\n",
       "      <th>Reliable News</th>\n",
       "      <td>750</td>\n",
       "    </tr>\n",
       "    <tr>\n",
       "      <th>Satire</th>\n",
       "      <td>750</td>\n",
       "    </tr>\n",
       "  </tbody>\n",
       "</table>\n",
       "</div>"
      ],
      "text/plain": [
       "               text\n",
       "label              \n",
       "Hoax            750\n",
       "Propaganda      750\n",
       "Reliable News   750\n",
       "Satire          750"
      ]
     },
     "execution_count": 11,
     "metadata": {},
     "output_type": "execute_result"
    }
   ],
   "source": [
    "# Check the class distribution\n",
    "df_test.groupby('label').count()"
   ]
  },
  {
   "cell_type": "markdown",
   "id": "0dfce71d",
   "metadata": {
    "papermill": {
     "duration": 0.006794,
     "end_time": "2023-03-26T07:17:19.159020",
     "exception": false,
     "start_time": "2023-03-26T07:17:19.152226",
     "status": "completed"
    },
    "tags": []
   },
   "source": [
    "## Encode the classes"
   ]
  },
  {
   "cell_type": "code",
   "execution_count": 12,
   "id": "fc82f800",
   "metadata": {
    "execution": {
     "iopub.execute_input": "2023-03-26T07:17:19.174145Z",
     "iopub.status.busy": "2023-03-26T07:17:19.173567Z",
     "iopub.status.idle": "2023-03-26T07:17:19.189102Z",
     "shell.execute_reply": "2023-03-26T07:17:19.188213Z"
    },
    "papermill": {
     "duration": 0.025371,
     "end_time": "2023-03-26T07:17:19.191229",
     "exception": false,
     "start_time": "2023-03-26T07:17:19.165858",
     "status": "completed"
    },
    "tags": []
   },
   "outputs": [],
   "source": [
    "le = LabelEncoder()\n",
    "\n",
    "X_train = df_train['text']\n",
    "y_train = le.fit_transform(df_train['label'])\n",
    "\n",
    "X_test = df_test['text']\n",
    "y_test = le.transform(df_test['label'])"
   ]
  },
  {
   "cell_type": "markdown",
   "id": "f9358fab",
   "metadata": {
    "papermill": {
     "duration": 0.006758,
     "end_time": "2023-03-26T07:17:19.204844",
     "exception": false,
     "start_time": "2023-03-26T07:17:19.198086",
     "status": "completed"
    },
    "tags": []
   },
   "source": [
    "## Random Oversampling"
   ]
  },
  {
   "cell_type": "code",
   "execution_count": 13,
   "id": "f3c2e660",
   "metadata": {
    "execution": {
     "iopub.execute_input": "2023-03-26T07:17:19.219845Z",
     "iopub.status.busy": "2023-03-26T07:17:19.219549Z",
     "iopub.status.idle": "2023-03-26T07:17:19.240610Z",
     "shell.execute_reply": "2023-03-26T07:17:19.239702Z"
    },
    "papermill": {
     "duration": 0.030888,
     "end_time": "2023-03-26T07:17:19.242699",
     "exception": false,
     "start_time": "2023-03-26T07:17:19.211811",
     "status": "completed"
    },
    "tags": []
   },
   "outputs": [],
   "source": [
    "ros = RandomOverSampler(random_state=0)\n",
    "X_train, y_train = ros.fit_resample(X_train.values.reshape(-1, 1), y_train)"
   ]
  },
  {
   "cell_type": "code",
   "execution_count": 14,
   "id": "81fbe20a",
   "metadata": {
    "execution": {
     "iopub.execute_input": "2023-03-26T07:17:19.257511Z",
     "iopub.status.busy": "2023-03-26T07:17:19.257238Z",
     "iopub.status.idle": "2023-03-26T07:17:19.271790Z",
     "shell.execute_reply": "2023-03-26T07:17:19.270776Z"
    },
    "papermill": {
     "duration": 0.024858,
     "end_time": "2023-03-26T07:17:19.274357",
     "exception": false,
     "start_time": "2023-03-26T07:17:19.249499",
     "status": "completed"
    },
    "tags": []
   },
   "outputs": [
    {
     "name": "stdout",
     "output_type": "stream",
     "text": [
      "(71480, 1) (71480,)\n",
      "[(0, 17870), (1, 17870), (2, 17870), (3, 17870)]\n"
     ]
    }
   ],
   "source": [
    "from collections import Counter\n",
    "print(X_train.shape, y_train.shape)\n",
    "print(sorted(Counter(y_train).items()))"
   ]
  },
  {
   "cell_type": "markdown",
   "id": "d9c39064",
   "metadata": {
    "papermill": {
     "duration": 0.006715,
     "end_time": "2023-03-26T07:17:19.288042",
     "exception": false,
     "start_time": "2023-03-26T07:17:19.281327",
     "status": "completed"
    },
    "tags": []
   },
   "source": [
    "### Convert to one-hot vectors"
   ]
  },
  {
   "cell_type": "code",
   "execution_count": 15,
   "id": "0699893f",
   "metadata": {
    "execution": {
     "iopub.execute_input": "2023-03-26T07:17:19.303225Z",
     "iopub.status.busy": "2023-03-26T07:17:19.302699Z",
     "iopub.status.idle": "2023-03-26T07:17:19.309538Z",
     "shell.execute_reply": "2023-03-26T07:17:19.308648Z"
    },
    "papermill": {
     "duration": 0.016541,
     "end_time": "2023-03-26T07:17:19.311485",
     "exception": false,
     "start_time": "2023-03-26T07:17:19.294944",
     "status": "completed"
    },
    "tags": []
   },
   "outputs": [],
   "source": [
    "y_train = to_categorical(y_train, num_classes=4)\n",
    "y_test = to_categorical(y_test, num_classes=4)"
   ]
  },
  {
   "cell_type": "code",
   "execution_count": 16,
   "id": "45832c52",
   "metadata": {
    "execution": {
     "iopub.execute_input": "2023-03-26T07:17:19.326865Z",
     "iopub.status.busy": "2023-03-26T07:17:19.326090Z",
     "iopub.status.idle": "2023-03-26T07:17:19.331445Z",
     "shell.execute_reply": "2023-03-26T07:17:19.330438Z"
    },
    "papermill": {
     "duration": 0.015867,
     "end_time": "2023-03-26T07:17:19.334285",
     "exception": false,
     "start_time": "2023-03-26T07:17:19.318418",
     "status": "completed"
    },
    "tags": []
   },
   "outputs": [
    {
     "name": "stdout",
     "output_type": "stream",
     "text": [
      "(71480, 4) (3000, 4)\n"
     ]
    }
   ],
   "source": [
    "print(y_train.shape, y_test.shape)"
   ]
  },
  {
   "cell_type": "markdown",
   "id": "0db57e14",
   "metadata": {
    "papermill": {
     "duration": 0.006893,
     "end_time": "2023-03-26T07:17:19.348865",
     "exception": false,
     "start_time": "2023-03-26T07:17:19.341972",
     "status": "completed"
    },
    "tags": []
   },
   "source": [
    "## Split validation set for hyperparameter tuning"
   ]
  },
  {
   "cell_type": "code",
   "execution_count": 17,
   "id": "fe11ab55",
   "metadata": {
    "execution": {
     "iopub.execute_input": "2023-03-26T07:17:19.363862Z",
     "iopub.status.busy": "2023-03-26T07:17:19.363573Z",
     "iopub.status.idle": "2023-03-26T07:17:19.739839Z",
     "shell.execute_reply": "2023-03-26T07:17:19.738784Z"
    },
    "papermill": {
     "duration": 0.38668,
     "end_time": "2023-03-26T07:17:19.742507",
     "exception": false,
     "start_time": "2023-03-26T07:17:19.355827",
     "status": "completed"
    },
    "tags": []
   },
   "outputs": [],
   "source": [
    "X_train, X_val, y_train, y_val = train_test_split(X_train, y_train, random_state=42, test_size=0.1, stratify=y_train)"
   ]
  },
  {
   "cell_type": "markdown",
   "id": "f7dc1051",
   "metadata": {
    "papermill": {
     "duration": 0.007293,
     "end_time": "2023-03-26T07:17:19.757166",
     "exception": false,
     "start_time": "2023-03-26T07:17:19.749873",
     "status": "completed"
    },
    "tags": []
   },
   "source": [
    "## BERT Model"
   ]
  },
  {
   "cell_type": "code",
   "execution_count": 18,
   "id": "c11f3e28",
   "metadata": {
    "execution": {
     "iopub.execute_input": "2023-03-26T07:17:19.772951Z",
     "iopub.status.busy": "2023-03-26T07:17:19.772609Z",
     "iopub.status.idle": "2023-03-26T07:17:19.782118Z",
     "shell.execute_reply": "2023-03-26T07:17:19.781108Z"
    },
    "papermill": {
     "duration": 0.019851,
     "end_time": "2023-03-26T07:17:19.784321",
     "exception": false,
     "start_time": "2023-03-26T07:17:19.764470",
     "status": "completed"
    },
    "tags": []
   },
   "outputs": [],
   "source": [
    "def build_model(num_classes, optimizer, max_seq_length=128):\n",
    "    \n",
    "    \n",
    "    preprocessor = hub.load(\n",
    "    \"https://tfhub.dev/tensorflow/bert_en_uncased_preprocess/3\")\n",
    "\n",
    "    # Step 1: tokenize batches of text inputs.\n",
    "    text_inputs = [tf.keras.layers.Input(shape=(), dtype=tf.string)]\n",
    "    tokenize = hub.KerasLayer(preprocessor.tokenize)\n",
    "    tokenized_inputs = [tokenize(segment) for segment in text_inputs]\n",
    "\n",
    "    # Step 2 (optional): modify tokenized inputs.\n",
    "    pass\n",
    "\n",
    "    # Step 3: pack input sequences for the Transformer encoder.\n",
    "    seq_length = max_seq_length\n",
    "    bert_pack_inputs = hub.KerasLayer(\n",
    "        preprocessor.bert_pack_inputs,\n",
    "        arguments=dict(seq_length=seq_length))  # Optional argument.\n",
    "    encoder_inputs = bert_pack_inputs(tokenized_inputs)\n",
    "         \n",
    "    encoder = hub.KerasLayer(\"https://kaggle.com/models/tensorflow/bert/frameworks/TensorFlow2/variations/bert-en-uncased-l-8-h-768-a-12/versions/2\",\n",
    "                             trainable=False, name='BERT_encoder')\n",
    "    outputs = encoder(encoder_inputs)\n",
    "    net = outputs['pooled_output']\n",
    "    net = tf.keras.layers.Dense(256, activation='relu')(net)\n",
    "    net = tf.keras.layers.Dropout(0.3)(net)\n",
    "    out = tf.keras.layers.Dense(num_classes, activation='softmax', name='classifier')(net)\n",
    "    \n",
    "    \n",
    "    model = tf.keras.models.Model(text_inputs, out)\n",
    "    model.compile(optimizer, loss='categorical_crossentropy', metrics=['accuracy', tfa.metrics.F1Score(num_classes=num_classes, average='macro')])\n",
    "    \n",
    "    return model"
   ]
  },
  {
   "cell_type": "code",
   "execution_count": 19,
   "id": "e2de1357",
   "metadata": {
    "execution": {
     "iopub.execute_input": "2023-03-26T07:17:19.799983Z",
     "iopub.status.busy": "2023-03-26T07:17:19.799199Z",
     "iopub.status.idle": "2023-03-26T07:17:19.805409Z",
     "shell.execute_reply": "2023-03-26T07:17:19.804523Z"
    },
    "papermill": {
     "duration": 0.016271,
     "end_time": "2023-03-26T07:17:19.807511",
     "exception": false,
     "start_time": "2023-03-26T07:17:19.791240",
     "status": "completed"
    },
    "tags": []
   },
   "outputs": [],
   "source": [
    "def plot_loss(history):\n",
    "    # plot learning curves\n",
    "    plt.title('Learning Curves')\n",
    "    plt.xlabel('Epoch')\n",
    "    plt.ylabel('Loss')\n",
    "    plt.plot(history.history['loss'], label='train')\n",
    "    plt.plot(history.history['val_loss'], label='val')\n",
    "    plt.legend()\n",
    "    plt.tight_layout()"
   ]
  },
  {
   "cell_type": "code",
   "execution_count": 20,
   "id": "72d4b012",
   "metadata": {
    "execution": {
     "iopub.execute_input": "2023-03-26T07:17:19.823060Z",
     "iopub.status.busy": "2023-03-26T07:17:19.822269Z",
     "iopub.status.idle": "2023-03-26T07:17:37.962035Z",
     "shell.execute_reply": "2023-03-26T07:17:37.961053Z"
    },
    "papermill": {
     "duration": 18.166749,
     "end_time": "2023-03-26T07:17:37.981176",
     "exception": false,
     "start_time": "2023-03-26T07:17:19.814427",
     "status": "completed"
    },
    "tags": []
   },
   "outputs": [
    {
     "name": "stdout",
     "output_type": "stream",
     "text": [
      "Model: \"model\"\n",
      "__________________________________________________________________________________________________\n",
      " Layer (type)                   Output Shape         Param #     Connected to                     \n",
      "==================================================================================================\n",
      " input_1 (InputLayer)           [(None,)]            0           []                               \n",
      "                                                                                                  \n",
      " keras_layer (KerasLayer)       (None, None, None)   0           ['input_1[0][0]']                \n",
      "                                                                                                  \n",
      " keras_layer_1 (KerasLayer)     {'input_type_ids':   0           ['keras_layer[0][0]']            \n",
      "                                (None, 512),                                                      \n",
      "                                 'input_mask': (Non                                               \n",
      "                                e, 512),                                                          \n",
      "                                 'input_word_ids':                                                \n",
      "                                (None, 512)}                                                      \n",
      "                                                                                                  \n",
      " BERT_encoder (KerasLayer)      {'pooled_output': (  81130753    ['keras_layer_1[0][0]',          \n",
      "                                None, 768),                       'keras_layer_1[0][1]',          \n",
      "                                 'sequence_output':               'keras_layer_1[0][2]']          \n",
      "                                 (None, 512, 768),                                                \n",
      "                                 'default': (None,                                                \n",
      "                                768),                                                             \n",
      "                                 'encoder_outputs':                                               \n",
      "                                 [(None, 512, 768),                                               \n",
      "                                 (None, 512, 768),                                                \n",
      "                                 (None, 512, 768),                                                \n",
      "                                 (None, 512, 768),                                                \n",
      "                                 (None, 512, 768),                                                \n",
      "                                 (None, 512, 768),                                                \n",
      "                                 (None, 512, 768),                                                \n",
      "                                 (None, 512, 768)]}                                               \n",
      "                                                                                                  \n",
      " dense (Dense)                  (None, 256)          196864      ['BERT_encoder[0][9]']           \n",
      "                                                                                                  \n",
      " dropout (Dropout)              (None, 256)          0           ['dense[0][0]']                  \n",
      "                                                                                                  \n",
      " classifier (Dense)             (None, 4)            1028        ['dropout[0][0]']                \n",
      "                                                                                                  \n",
      "==================================================================================================\n",
      "Total params: 81,328,645\n",
      "Trainable params: 197,892\n",
      "Non-trainable params: 81,130,753\n",
      "__________________________________________________________________________________________________\n"
     ]
    }
   ],
   "source": [
    "# Define the optimizer which uses the same learning rate schedule as BERT pre-training\n",
    "epochs = 10\n",
    "batch_size = 32\n",
    "eval_batch_size = 32\n",
    "\n",
    "train_data_size = len(X_train)\n",
    "steps_per_epoch = int(train_data_size / batch_size)\n",
    "num_train_steps = steps_per_epoch * epochs\n",
    "num_warmup_steps = int(0.1*num_train_steps)\n",
    "\n",
    "init_lr = 3e-5\n",
    "\n",
    "# lr_schedule = tf.keras.optimizers.schedules.ExponentialDecay(\n",
    "#     initial_learning_rate=3e-5,\n",
    "#     decay_steps=10000,\n",
    "#     decay_rate=0.9)\n",
    "\n",
    "optimizer = optimization.create_optimizer(init_lr=init_lr,\n",
    "                                          num_train_steps=num_train_steps,\n",
    "                                          num_warmup_steps=num_warmup_steps,\n",
    "                                          optimizer_type='adamw') # by default, 0.01 weight_decay is already included.\n",
    "# optimizer = tfa.optimizers.LAMB(learning_rate=lr_schedule)\n",
    "\n",
    "model = build_model(num_classes=len(TEXT_LABELS), optimizer=optimizer, max_seq_length=512)\n",
    "model.summary()\n",
    "\n",
    "checkpoint = tf.keras.callbacks.ModelCheckpoint('bert-weights', monitor='val_accuracy', save_best_only=True, save_weights_only=False, verbose=1)\n",
    "early_stopping = tf.keras.callbacks.EarlyStopping(monitor='val_accuracy', patience=5, verbose=1)"
   ]
  },
  {
   "cell_type": "code",
   "execution_count": 21,
   "id": "a64c9f16",
   "metadata": {
    "execution": {
     "iopub.execute_input": "2023-03-26T07:17:38.004387Z",
     "iopub.status.busy": "2023-03-26T07:17:38.004012Z",
     "iopub.status.idle": "2023-03-26T07:17:39.042512Z",
     "shell.execute_reply": "2023-03-26T07:17:39.041266Z"
    },
    "papermill": {
     "duration": 1.052851,
     "end_time": "2023-03-26T07:17:39.044940",
     "exception": false,
     "start_time": "2023-03-26T07:17:37.992089",
     "status": "completed"
    },
    "tags": []
   },
   "outputs": [
    {
     "name": "stdout",
     "output_type": "stream",
     "text": [
      "Sun Mar 26 07:17:38 2023       \r\n",
      "+-----------------------------------------------------------------------------+\r\n",
      "| NVIDIA-SMI 470.82.01    Driver Version: 470.82.01    CUDA Version: 11.4     |\r\n",
      "|-------------------------------+----------------------+----------------------+\r\n",
      "| GPU  Name        Persistence-M| Bus-Id        Disp.A | Volatile Uncorr. ECC |\r\n",
      "| Fan  Temp  Perf  Pwr:Usage/Cap|         Memory-Usage | GPU-Util  Compute M. |\r\n",
      "|                               |                      |               MIG M. |\r\n",
      "|===============================+======================+======================|\r\n",
      "|   0  Tesla P100-PCIE...  Off  | 00000000:00:04.0 Off |                    0 |\r\n",
      "| N/A   34C    P0    34W / 250W |  15781MiB / 16280MiB |      0%      Default |\r\n",
      "|                               |                      |                  N/A |\r\n",
      "+-------------------------------+----------------------+----------------------+\r\n",
      "                                                                               \r\n",
      "+-----------------------------------------------------------------------------+\r\n",
      "| Processes:                                                                  |\r\n",
      "|  GPU   GI   CI        PID   Type   Process name                  GPU Memory |\r\n",
      "|        ID   ID                                                   Usage      |\r\n",
      "|=============================================================================|\r\n",
      "+-----------------------------------------------------------------------------+\r\n"
     ]
    }
   ],
   "source": [
    "!nvidia-smi"
   ]
  },
  {
   "cell_type": "code",
   "execution_count": 22,
   "id": "7715733b",
   "metadata": {
    "execution": {
     "iopub.execute_input": "2023-03-26T07:17:39.066163Z",
     "iopub.status.busy": "2023-03-26T07:17:39.065448Z",
     "iopub.status.idle": "2023-03-26T07:17:41.586232Z",
     "shell.execute_reply": "2023-03-26T07:17:41.585142Z"
    },
    "papermill": {
     "duration": 2.534088,
     "end_time": "2023-03-26T07:17:41.588930",
     "exception": false,
     "start_time": "2023-03-26T07:17:39.054842",
     "status": "completed"
    },
    "tags": []
   },
   "outputs": [],
   "source": [
    "if PRETRAINED:\n",
    "    model.load_weights(\"/kaggle/input/labeled-unreliable-news-lun/bert-weights\")\n",
    "else:    \n",
    "    history = model.fit(x=X_train,\n",
    "              y=y_train,\n",
    "              validation_data=(X_val, y_val),\n",
    "              epochs=epochs, \n",
    "              callbacks=[checkpoint, early_stopping], \n",
    "              batch_size=batch_size,\n",
    "              validation_batch_size=eval_batch_size,\n",
    "              verbose=1)\n",
    "\n",
    "    plot_loss(history)"
   ]
  },
  {
   "cell_type": "markdown",
   "id": "e0d3ea97",
   "metadata": {
    "papermill": {
     "duration": 0.009325,
     "end_time": "2023-03-26T07:17:41.608026",
     "exception": false,
     "start_time": "2023-03-26T07:17:41.598701",
     "status": "completed"
    },
    "tags": []
   },
   "source": [
    "## Evaluation"
   ]
  },
  {
   "cell_type": "code",
   "execution_count": 23,
   "id": "fb9d13c4",
   "metadata": {
    "execution": {
     "iopub.execute_input": "2023-03-26T07:17:41.628027Z",
     "iopub.status.busy": "2023-03-26T07:17:41.627675Z",
     "iopub.status.idle": "2023-03-26T07:17:41.633599Z",
     "shell.execute_reply": "2023-03-26T07:17:41.632514Z"
    },
    "papermill": {
     "duration": 0.01849,
     "end_time": "2023-03-26T07:17:41.635857",
     "exception": false,
     "start_time": "2023-03-26T07:17:41.617367",
     "status": "completed"
    },
    "tags": []
   },
   "outputs": [],
   "source": [
    "X_test = df_test['text']\n",
    "y_test = le.transform(df_test['label'])"
   ]
  },
  {
   "cell_type": "code",
   "execution_count": 24,
   "id": "38d3299f",
   "metadata": {
    "execution": {
     "iopub.execute_input": "2023-03-26T07:17:41.675886Z",
     "iopub.status.busy": "2023-03-26T07:17:41.675548Z",
     "iopub.status.idle": "2023-03-26T07:18:34.871283Z",
     "shell.execute_reply": "2023-03-26T07:18:34.870111Z"
    },
    "papermill": {
     "duration": 53.225972,
     "end_time": "2023-03-26T07:18:34.874183",
     "exception": false,
     "start_time": "2023-03-26T07:17:41.648211",
     "status": "completed"
    },
    "tags": []
   },
   "outputs": [
    {
     "name": "stdout",
     "output_type": "stream",
     "text": [
      "94/94 [==============================] - 53s 537ms/step\n"
     ]
    }
   ],
   "source": [
    "y_proba = model.predict(X_test, batch_size=eval_batch_size)\n",
    "y_pred = np.argmax(y_proba, axis=1)\n",
    "y_pred_labels = le.inverse_transform(y_pred)\n",
    "y_true_labels = le.inverse_transform(y_test)"
   ]
  },
  {
   "cell_type": "code",
   "execution_count": 25,
   "id": "19056e89",
   "metadata": {
    "execution": {
     "iopub.execute_input": "2023-03-26T07:18:34.904425Z",
     "iopub.status.busy": "2023-03-26T07:18:34.904088Z",
     "iopub.status.idle": "2023-03-26T07:18:34.976051Z",
     "shell.execute_reply": "2023-03-26T07:18:34.974456Z"
    },
    "papermill": {
     "duration": 0.090984,
     "end_time": "2023-03-26T07:18:34.979861",
     "exception": false,
     "start_time": "2023-03-26T07:18:34.888877",
     "status": "completed"
    },
    "tags": []
   },
   "outputs": [
    {
     "name": "stdout",
     "output_type": "stream",
     "text": [
      "               precision    recall  f1-score   support\n",
      "\n",
      "         Hoax       0.52      0.37      0.44       750\n",
      "   Propaganda       0.44      0.52      0.48       750\n",
      "Reliable News       0.66      0.88      0.75       750\n",
      "       Satire       0.74      0.55      0.63       750\n",
      "\n",
      "     accuracy                           0.58      3000\n",
      "    macro avg       0.59      0.58      0.57      3000\n",
      " weighted avg       0.59      0.58      0.57      3000\n",
      "\n",
      "[[281 442  15  12]\n",
      " [  8 392 264  86]\n",
      " [ 11  30 661  48]\n",
      " [241  27  69 413]]\n"
     ]
    }
   ],
   "source": [
    "print(classification_report(y_true=y_true_labels, y_pred=y_pred_labels))\n",
    "print(confusion_matrix(y_true_labels, y_pred_labels))"
   ]
  },
  {
   "cell_type": "markdown",
   "id": "43f73f1f",
   "metadata": {
    "papermill": {
     "duration": 0.016131,
     "end_time": "2023-03-26T07:18:35.013625",
     "exception": false,
     "start_time": "2023-03-26T07:18:34.997494",
     "status": "completed"
    },
    "tags": []
   },
   "source": [
    "## Evaluation on COVID dataset"
   ]
  },
  {
   "cell_type": "code",
   "execution_count": 26,
   "id": "6199a353",
   "metadata": {
    "execution": {
     "iopub.execute_input": "2023-03-26T07:18:35.045714Z",
     "iopub.status.busy": "2023-03-26T07:18:35.045377Z",
     "iopub.status.idle": "2023-03-26T07:18:37.155391Z",
     "shell.execute_reply": "2023-03-26T07:18:37.153133Z"
    },
    "papermill": {
     "duration": 2.128694,
     "end_time": "2023-03-26T07:18:37.158682",
     "exception": false,
     "start_time": "2023-03-26T07:18:35.029988",
     "status": "completed"
    },
    "tags": []
   },
   "outputs": [
    {
     "name": "stdout",
     "output_type": "stream",
     "text": [
      "4/4 [==============================] - 2s 526ms/step\n",
      "               precision    recall  f1-score   support\n",
      "\n",
      "         Hoax       0.60      0.10      0.17        30\n",
      "   Propaganda       0.34      0.59      0.43        29\n",
      "Reliable News       0.41      0.40      0.41        30\n",
      "       Satire       0.86      1.00      0.93        31\n",
      "\n",
      "     accuracy                           0.53       120\n",
      "    macro avg       0.55      0.52      0.48       120\n",
      " weighted avg       0.56      0.53      0.49       120\n",
      "\n",
      "[[ 3 20  7  0]\n",
      " [ 0 17 10  2]\n",
      " [ 2 13 12  3]\n",
      " [ 0  0  0 31]]\n"
     ]
    }
   ],
   "source": [
    "df_covid = pd.read_csv('/kaggle/input/covid-unreliable-news/covid_unreliable_news_cleaned.csv', encoding='utf-8')\n",
    "\n",
    "y_covid_test = le.transform(df_covid['class'])\n",
    "X_covid_test = df_covid['content_text']\n",
    "\n",
    "y_covid_proba = model.predict(X_covid_test, batch_size=eval_batch_size)\n",
    "y_covid_pred = np.argmax(y_covid_proba, axis=1)\n",
    "y_covid_pred_labels = le.inverse_transform(y_covid_pred)\n",
    "y_covid_true_labels = le.inverse_transform(y_covid_test)\n",
    "\n",
    "print(classification_report(y_true=y_covid_true_labels, y_pred=y_covid_pred_labels))\n",
    "print(confusion_matrix(y_covid_true_labels, y_covid_pred_labels))"
   ]
  },
  {
   "cell_type": "code",
   "execution_count": null,
   "id": "eafcb4fb",
   "metadata": {
    "papermill": {
     "duration": 0.014167,
     "end_time": "2023-03-26T07:18:37.188492",
     "exception": false,
     "start_time": "2023-03-26T07:18:37.174325",
     "status": "completed"
    },
    "tags": []
   },
   "outputs": [],
   "source": []
  }
 ],
 "metadata": {
  "kernelspec": {
   "display_name": "Python 3",
   "language": "python",
   "name": "python3"
  },
  "language_info": {
   "codemirror_mode": {
    "name": "ipython",
    "version": 3
   },
   "file_extension": ".py",
   "mimetype": "text/x-python",
   "name": "python",
   "nbconvert_exporter": "python",
   "pygments_lexer": "ipython3",
   "version": "3.7.12"
  },
  "papermill": {
   "default_parameters": {},
   "duration": 162.820955,
   "end_time": "2023-03-26T07:18:40.175827",
   "environment_variables": {},
   "exception": null,
   "input_path": "__notebook__.ipynb",
   "output_path": "__notebook__.ipynb",
   "parameters": {},
   "start_time": "2023-03-26T07:15:57.354872",
   "version": "2.4.0"
  }
 },
 "nbformat": 4,
 "nbformat_minor": 5
}
