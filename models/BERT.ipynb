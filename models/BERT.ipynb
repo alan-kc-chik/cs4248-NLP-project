{
 "cells": [
  {
   "cell_type": "code",
   "execution_count": 1,
   "id": "c31d4e51",
   "metadata": {
    "execution": {
     "iopub.execute_input": "2023-03-26T12:19:44.251751Z",
     "iopub.status.busy": "2023-03-26T12:19:44.251371Z",
     "iopub.status.idle": "2023-03-26T12:19:44.261204Z",
     "shell.execute_reply": "2023-03-26T12:19:44.260354Z"
    },
    "papermill": {
     "duration": 0.021965,
     "end_time": "2023-03-26T12:19:44.263292",
     "exception": false,
     "start_time": "2023-03-26T12:19:44.241327",
     "status": "completed"
    },
    "tags": []
   },
   "outputs": [],
   "source": [
    "PRETRAINED = True\n",
    "DOWNSAMPLE = False"
   ]
  },
  {
   "cell_type": "code",
   "execution_count": 2,
   "id": "b35963f4",
   "metadata": {
    "_cell_guid": "b1076dfc-b9ad-4769-8c92-a6c4dae69d19",
    "_uuid": "8f2839f25d086af736a60e9eeb907d3b93b6e0e5",
    "execution": {
     "iopub.execute_input": "2023-03-26T12:19:44.278793Z",
     "iopub.status.busy": "2023-03-26T12:19:44.278285Z",
     "iopub.status.idle": "2023-03-26T12:20:48.266889Z",
     "shell.execute_reply": "2023-03-26T12:20:48.265570Z"
    },
    "papermill": {
     "duration": 63.999025,
     "end_time": "2023-03-26T12:20:48.269572",
     "exception": false,
     "start_time": "2023-03-26T12:19:44.270547",
     "status": "completed"
    },
    "tags": []
   },
   "outputs": [
    {
     "name": "stdout",
     "output_type": "stream",
     "text": [
      "\u001b[31mERROR: pip's dependency resolver does not currently take into account all the packages that are installed. This behaviour is the source of the following dependency conflicts.\r\n",
      "cudf 21.12.2 requires cupy-cuda115, which is not installed.\r\n",
      "tfx-bsl 1.12.0 requires google-api-python-client<2,>=1.7.11, but you have google-api-python-client 2.79.0 which is incompatible.\r\n",
      "tfx-bsl 1.12.0 requires pyarrow<7,>=6, but you have pyarrow 5.0.0 which is incompatible.\r\n",
      "tensorflow-transform 1.12.0 requires pyarrow<7,>=6, but you have pyarrow 5.0.0 which is incompatible.\r\n",
      "onnx 1.13.1 requires protobuf<4,>=3.20.2, but you have protobuf 3.19.6 which is incompatible.\r\n",
      "apache-beam 2.44.0 requires dill<0.3.2,>=0.3.1.1, but you have dill 0.3.6 which is incompatible.\u001b[0m\u001b[31m\r\n",
      "\u001b[0m\u001b[33mWARNING: Running pip as the 'root' user can result in broken permissions and conflicting behaviour with the system package manager. It is recommended to use a virtual environment instead: https://pip.pypa.io/warnings/venv\u001b[0m\u001b[33m\r\n",
      "\u001b[0m\u001b[31mERROR: pip's dependency resolver does not currently take into account all the packages that are installed. This behaviour is the source of the following dependency conflicts.\r\n",
      "dask-cudf 21.12.2 requires cupy-cuda115, which is not installed.\r\n",
      "distributed 2021.11.2 requires dask==2021.11.2, but you have dask 2022.2.0 which is incompatible.\r\n",
      "dask-cudf 21.12.2 requires dask<=2021.11.2,>=2021.11.1, but you have dask 2022.2.0 which is incompatible.\u001b[0m\u001b[31m\r\n",
      "\u001b[0m\u001b[33mWARNING: Running pip as the 'root' user can result in broken permissions and conflicting behaviour with the system package manager. It is recommended to use a virtual environment instead: https://pip.pypa.io/warnings/venv\u001b[0m\u001b[33m\r\n",
      "\u001b[0m"
     ]
    }
   ],
   "source": [
    "!pip install -q tensorflow_text\n",
    "!pip install -q tf-models-official==2.11.0"
   ]
  },
  {
   "cell_type": "code",
   "execution_count": 3,
   "id": "83929fce",
   "metadata": {
    "execution": {
     "iopub.execute_input": "2023-03-26T12:20:48.287612Z",
     "iopub.status.busy": "2023-03-26T12:20:48.286043Z",
     "iopub.status.idle": "2023-03-26T12:20:56.517068Z",
     "shell.execute_reply": "2023-03-26T12:20:56.515957Z"
    },
    "papermill": {
     "duration": 8.242265,
     "end_time": "2023-03-26T12:20:56.519730",
     "exception": false,
     "start_time": "2023-03-26T12:20:48.277465",
     "status": "completed"
    },
    "tags": []
   },
   "outputs": [],
   "source": [
    "import numpy as np\n",
    "import pandas as pd\n",
    "\n",
    "from sklearn import preprocessing\n",
    "from sklearn.model_selection import train_test_split\n",
    "from imblearn.over_sampling import RandomOverSampler\n",
    "\n",
    "import tensorflow as tf\n",
    "import tensorflow_addons as tfa\n",
    "import tensorflow_hub as hub\n",
    "import tensorflow_text as text  # Registers the ops.\n",
    "from keras.utils import to_categorical\n",
    "from official.nlp import optimization  # to create AdamW optimizer\n",
    "from sklearn.preprocessing import LabelEncoder\n",
    "from sklearn.metrics import classification_report, confusion_matrix, ConfusionMatrixDisplay\n",
    "\n",
    "# Plots\n",
    "import matplotlib.pyplot as plt\n",
    "import seaborn as sns"
   ]
  },
  {
   "cell_type": "code",
   "execution_count": 4,
   "id": "355dd6d6",
   "metadata": {
    "execution": {
     "iopub.execute_input": "2023-03-26T12:20:56.536620Z",
     "iopub.status.busy": "2023-03-26T12:20:56.535960Z",
     "iopub.status.idle": "2023-03-26T12:20:59.526352Z",
     "shell.execute_reply": "2023-03-26T12:20:59.525327Z"
    },
    "papermill": {
     "duration": 3.001532,
     "end_time": "2023-03-26T12:20:59.528885",
     "exception": false,
     "start_time": "2023-03-26T12:20:56.527353",
     "status": "completed"
    },
    "tags": []
   },
   "outputs": [],
   "source": [
    "df_train = pd.read_csv('/kaggle/input/labeled-unreliable-news-lun/fulltrain.csv', encoding='utf-8', names=['label', 'text'])\n",
    "df_test = pd.read_csv('/kaggle/input/labeled-unreliable-news-lun/balancedtest.csv', encoding='utf-8', names=['label', 'text'])"
   ]
  },
  {
   "cell_type": "code",
   "execution_count": 5,
   "id": "ffe3438a",
   "metadata": {
    "execution": {
     "iopub.execute_input": "2023-03-26T12:20:59.545022Z",
     "iopub.status.busy": "2023-03-26T12:20:59.544713Z",
     "iopub.status.idle": "2023-03-26T12:20:59.565835Z",
     "shell.execute_reply": "2023-03-26T12:20:59.564927Z"
    },
    "papermill": {
     "duration": 0.031261,
     "end_time": "2023-03-26T12:20:59.567830",
     "exception": false,
     "start_time": "2023-03-26T12:20:59.536569",
     "status": "completed"
    },
    "tags": []
   },
   "outputs": [],
   "source": [
    "TEXT_LABELS = {1: 'Satire', 2: 'Hoax', 3: 'Propaganda', 4: 'Reliable News'}\n",
    "df_train['label'] = [TEXT_LABELS[x] for x in df_train['label']]\n",
    "df_test['label'] = [TEXT_LABELS[x] for x in df_test['label']]"
   ]
  },
  {
   "cell_type": "code",
   "execution_count": 6,
   "id": "03ce963e",
   "metadata": {
    "execution": {
     "iopub.execute_input": "2023-03-26T12:20:59.585987Z",
     "iopub.status.busy": "2023-03-26T12:20:59.585703Z",
     "iopub.status.idle": "2023-03-26T12:20:59.598601Z",
     "shell.execute_reply": "2023-03-26T12:20:59.597533Z"
    },
    "papermill": {
     "duration": 0.023441,
     "end_time": "2023-03-26T12:20:59.601117",
     "exception": false,
     "start_time": "2023-03-26T12:20:59.577676",
     "status": "completed"
    },
    "tags": []
   },
   "outputs": [
    {
     "data": {
      "text/html": [
       "<div>\n",
       "<style scoped>\n",
       "    .dataframe tbody tr th:only-of-type {\n",
       "        vertical-align: middle;\n",
       "    }\n",
       "\n",
       "    .dataframe tbody tr th {\n",
       "        vertical-align: top;\n",
       "    }\n",
       "\n",
       "    .dataframe thead th {\n",
       "        text-align: right;\n",
       "    }\n",
       "</style>\n",
       "<table border=\"1\" class=\"dataframe\">\n",
       "  <thead>\n",
       "    <tr style=\"text-align: right;\">\n",
       "      <th></th>\n",
       "      <th>label</th>\n",
       "      <th>text</th>\n",
       "    </tr>\n",
       "  </thead>\n",
       "  <tbody>\n",
       "    <tr>\n",
       "      <th>0</th>\n",
       "      <td>Satire</td>\n",
       "      <td>A little less than a decade ago, hockey fans w...</td>\n",
       "    </tr>\n",
       "    <tr>\n",
       "      <th>1</th>\n",
       "      <td>Satire</td>\n",
       "      <td>The writers of the HBO series The Sopranos too...</td>\n",
       "    </tr>\n",
       "    <tr>\n",
       "      <th>2</th>\n",
       "      <td>Satire</td>\n",
       "      <td>Despite claims from the TV news outlet to offe...</td>\n",
       "    </tr>\n",
       "    <tr>\n",
       "      <th>3</th>\n",
       "      <td>Satire</td>\n",
       "      <td>After receiving 'subpar' service and experienc...</td>\n",
       "    </tr>\n",
       "    <tr>\n",
       "      <th>4</th>\n",
       "      <td>Satire</td>\n",
       "      <td>After watching his beloved Seattle Mariners pr...</td>\n",
       "    </tr>\n",
       "  </tbody>\n",
       "</table>\n",
       "</div>"
      ],
      "text/plain": [
       "    label                                               text\n",
       "0  Satire  A little less than a decade ago, hockey fans w...\n",
       "1  Satire  The writers of the HBO series The Sopranos too...\n",
       "2  Satire  Despite claims from the TV news outlet to offe...\n",
       "3  Satire  After receiving 'subpar' service and experienc...\n",
       "4  Satire  After watching his beloved Seattle Mariners pr..."
      ]
     },
     "execution_count": 6,
     "metadata": {},
     "output_type": "execute_result"
    }
   ],
   "source": [
    "df_train.head()"
   ]
  },
  {
   "cell_type": "code",
   "execution_count": 7,
   "id": "3950cffa",
   "metadata": {
    "execution": {
     "iopub.execute_input": "2023-03-26T12:20:59.617350Z",
     "iopub.status.busy": "2023-03-26T12:20:59.617077Z",
     "iopub.status.idle": "2023-03-26T12:20:59.625897Z",
     "shell.execute_reply": "2023-03-26T12:20:59.624834Z"
    },
    "papermill": {
     "duration": 0.020483,
     "end_time": "2023-03-26T12:20:59.629206",
     "exception": false,
     "start_time": "2023-03-26T12:20:59.608723",
     "status": "completed"
    },
    "tags": []
   },
   "outputs": [
    {
     "data": {
      "text/html": [
       "<div>\n",
       "<style scoped>\n",
       "    .dataframe tbody tr th:only-of-type {\n",
       "        vertical-align: middle;\n",
       "    }\n",
       "\n",
       "    .dataframe tbody tr th {\n",
       "        vertical-align: top;\n",
       "    }\n",
       "\n",
       "    .dataframe thead th {\n",
       "        text-align: right;\n",
       "    }\n",
       "</style>\n",
       "<table border=\"1\" class=\"dataframe\">\n",
       "  <thead>\n",
       "    <tr style=\"text-align: right;\">\n",
       "      <th></th>\n",
       "      <th>label</th>\n",
       "      <th>text</th>\n",
       "    </tr>\n",
       "  </thead>\n",
       "  <tbody>\n",
       "    <tr>\n",
       "      <th>0</th>\n",
       "      <td>Satire</td>\n",
       "      <td>When so many actors seem content to churn out ...</td>\n",
       "    </tr>\n",
       "    <tr>\n",
       "      <th>1</th>\n",
       "      <td>Satire</td>\n",
       "      <td>In what football insiders are calling an unex...</td>\n",
       "    </tr>\n",
       "    <tr>\n",
       "      <th>2</th>\n",
       "      <td>Satire</td>\n",
       "      <td>In a freak accident following Game 3 of the N....</td>\n",
       "    </tr>\n",
       "    <tr>\n",
       "      <th>3</th>\n",
       "      <td>Satire</td>\n",
       "      <td>North Koreas official news agency announced to...</td>\n",
       "    </tr>\n",
       "    <tr>\n",
       "      <th>4</th>\n",
       "      <td>Satire</td>\n",
       "      <td>The former Alaska Governor Sarah Palin would b...</td>\n",
       "    </tr>\n",
       "  </tbody>\n",
       "</table>\n",
       "</div>"
      ],
      "text/plain": [
       "    label                                               text\n",
       "0  Satire  When so many actors seem content to churn out ...\n",
       "1  Satire   In what football insiders are calling an unex...\n",
       "2  Satire  In a freak accident following Game 3 of the N....\n",
       "3  Satire  North Koreas official news agency announced to...\n",
       "4  Satire  The former Alaska Governor Sarah Palin would b..."
      ]
     },
     "execution_count": 7,
     "metadata": {},
     "output_type": "execute_result"
    }
   ],
   "source": [
    "df_test.head()"
   ]
  },
  {
   "cell_type": "code",
   "execution_count": 8,
   "id": "6ec927ae",
   "metadata": {
    "execution": {
     "iopub.execute_input": "2023-03-26T12:20:59.645205Z",
     "iopub.status.busy": "2023-03-26T12:20:59.644937Z",
     "iopub.status.idle": "2023-03-26T12:20:59.649968Z",
     "shell.execute_reply": "2023-03-26T12:20:59.648893Z"
    },
    "papermill": {
     "duration": 0.015874,
     "end_time": "2023-03-26T12:20:59.652525",
     "exception": false,
     "start_time": "2023-03-26T12:20:59.636651",
     "status": "completed"
    },
    "tags": []
   },
   "outputs": [],
   "source": [
    "DOWNSAMPLE_RATIO = 0.01\n",
    "\n",
    "# Use stratify sampling to preserve the original class distribution\n",
    "if DOWNSAMPLE:\n",
    "    df_train, _ = train_test_split(df_train, train_size=DOWNSAMPLE_RATIO, random_state=42, stratify=df_train['label'])\n",
    "    df_test, _ = train_test_split(df_test, train_size=DOWNSAMPLE_RATIO, random_state=42, stratify=df_test['label'])"
   ]
  },
  {
   "cell_type": "code",
   "execution_count": 9,
   "id": "611fdca5",
   "metadata": {
    "execution": {
     "iopub.execute_input": "2023-03-26T12:20:59.669183Z",
     "iopub.status.busy": "2023-03-26T12:20:59.668925Z",
     "iopub.status.idle": "2023-03-26T12:20:59.673957Z",
     "shell.execute_reply": "2023-03-26T12:20:59.672899Z"
    },
    "papermill": {
     "duration": 0.015953,
     "end_time": "2023-03-26T12:20:59.676418",
     "exception": false,
     "start_time": "2023-03-26T12:20:59.660465",
     "status": "completed"
    },
    "tags": []
   },
   "outputs": [
    {
     "name": "stdout",
     "output_type": "stream",
     "text": [
      "Shape of the training data:  (48854, 2)\n",
      "Shape of the test data:  (3000, 2)\n"
     ]
    }
   ],
   "source": [
    "print('Shape of the training data: ', df_train.shape)\n",
    "print('Shape of the test data: ', df_test.shape)"
   ]
  },
  {
   "cell_type": "code",
   "execution_count": 10,
   "id": "064b099e",
   "metadata": {
    "execution": {
     "iopub.execute_input": "2023-03-26T12:20:59.692301Z",
     "iopub.status.busy": "2023-03-26T12:20:59.692044Z",
     "iopub.status.idle": "2023-03-26T12:20:59.715808Z",
     "shell.execute_reply": "2023-03-26T12:20:59.714727Z"
    },
    "papermill": {
     "duration": 0.034253,
     "end_time": "2023-03-26T12:20:59.718152",
     "exception": false,
     "start_time": "2023-03-26T12:20:59.683899",
     "status": "completed"
    },
    "tags": []
   },
   "outputs": [
    {
     "data": {
      "text/html": [
       "<div>\n",
       "<style scoped>\n",
       "    .dataframe tbody tr th:only-of-type {\n",
       "        vertical-align: middle;\n",
       "    }\n",
       "\n",
       "    .dataframe tbody tr th {\n",
       "        vertical-align: top;\n",
       "    }\n",
       "\n",
       "    .dataframe thead th {\n",
       "        text-align: right;\n",
       "    }\n",
       "</style>\n",
       "<table border=\"1\" class=\"dataframe\">\n",
       "  <thead>\n",
       "    <tr style=\"text-align: right;\">\n",
       "      <th></th>\n",
       "      <th>text</th>\n",
       "    </tr>\n",
       "    <tr>\n",
       "      <th>label</th>\n",
       "      <th></th>\n",
       "    </tr>\n",
       "  </thead>\n",
       "  <tbody>\n",
       "    <tr>\n",
       "      <th>Hoax</th>\n",
       "      <td>6942</td>\n",
       "    </tr>\n",
       "    <tr>\n",
       "      <th>Propaganda</th>\n",
       "      <td>17870</td>\n",
       "    </tr>\n",
       "    <tr>\n",
       "      <th>Reliable News</th>\n",
       "      <td>9995</td>\n",
       "    </tr>\n",
       "    <tr>\n",
       "      <th>Satire</th>\n",
       "      <td>14047</td>\n",
       "    </tr>\n",
       "  </tbody>\n",
       "</table>\n",
       "</div>"
      ],
      "text/plain": [
       "                text\n",
       "label               \n",
       "Hoax            6942\n",
       "Propaganda     17870\n",
       "Reliable News   9995\n",
       "Satire         14047"
      ]
     },
     "execution_count": 10,
     "metadata": {},
     "output_type": "execute_result"
    }
   ],
   "source": [
    "# Check the class distribution\n",
    "df_train.groupby('label').count()"
   ]
  },
  {
   "cell_type": "code",
   "execution_count": 11,
   "id": "5e0dd1f3",
   "metadata": {
    "execution": {
     "iopub.execute_input": "2023-03-26T12:20:59.735026Z",
     "iopub.status.busy": "2023-03-26T12:20:59.734751Z",
     "iopub.status.idle": "2023-03-26T12:20:59.745722Z",
     "shell.execute_reply": "2023-03-26T12:20:59.744635Z"
    },
    "papermill": {
     "duration": 0.021842,
     "end_time": "2023-03-26T12:20:59.748004",
     "exception": false,
     "start_time": "2023-03-26T12:20:59.726162",
     "status": "completed"
    },
    "tags": []
   },
   "outputs": [
    {
     "data": {
      "text/html": [
       "<div>\n",
       "<style scoped>\n",
       "    .dataframe tbody tr th:only-of-type {\n",
       "        vertical-align: middle;\n",
       "    }\n",
       "\n",
       "    .dataframe tbody tr th {\n",
       "        vertical-align: top;\n",
       "    }\n",
       "\n",
       "    .dataframe thead th {\n",
       "        text-align: right;\n",
       "    }\n",
       "</style>\n",
       "<table border=\"1\" class=\"dataframe\">\n",
       "  <thead>\n",
       "    <tr style=\"text-align: right;\">\n",
       "      <th></th>\n",
       "      <th>text</th>\n",
       "    </tr>\n",
       "    <tr>\n",
       "      <th>label</th>\n",
       "      <th></th>\n",
       "    </tr>\n",
       "  </thead>\n",
       "  <tbody>\n",
       "    <tr>\n",
       "      <th>Hoax</th>\n",
       "      <td>750</td>\n",
       "    </tr>\n",
       "    <tr>\n",
       "      <th>Propaganda</th>\n",
       "      <td>750</td>\n",
       "    </tr>\n",
       "    <tr>\n",
       "      <th>Reliable News</th>\n",
       "      <td>750</td>\n",
       "    </tr>\n",
       "    <tr>\n",
       "      <th>Satire</th>\n",
       "      <td>750</td>\n",
       "    </tr>\n",
       "  </tbody>\n",
       "</table>\n",
       "</div>"
      ],
      "text/plain": [
       "               text\n",
       "label              \n",
       "Hoax            750\n",
       "Propaganda      750\n",
       "Reliable News   750\n",
       "Satire          750"
      ]
     },
     "execution_count": 11,
     "metadata": {},
     "output_type": "execute_result"
    }
   ],
   "source": [
    "# Check the class distribution\n",
    "df_test.groupby('label').count()"
   ]
  },
  {
   "cell_type": "markdown",
   "id": "98b9f79a",
   "metadata": {
    "papermill": {
     "duration": 0.007482,
     "end_time": "2023-03-26T12:20:59.763707",
     "exception": false,
     "start_time": "2023-03-26T12:20:59.756225",
     "status": "completed"
    },
    "tags": []
   },
   "source": [
    "## Encode the classes"
   ]
  },
  {
   "cell_type": "code",
   "execution_count": 12,
   "id": "48439824",
   "metadata": {
    "execution": {
     "iopub.execute_input": "2023-03-26T12:20:59.780524Z",
     "iopub.status.busy": "2023-03-26T12:20:59.780216Z",
     "iopub.status.idle": "2023-03-26T12:20:59.796277Z",
     "shell.execute_reply": "2023-03-26T12:20:59.795374Z"
    },
    "papermill": {
     "duration": 0.026882,
     "end_time": "2023-03-26T12:20:59.798352",
     "exception": false,
     "start_time": "2023-03-26T12:20:59.771470",
     "status": "completed"
    },
    "tags": []
   },
   "outputs": [],
   "source": [
    "le = LabelEncoder()\n",
    "\n",
    "X_train = df_train['text']\n",
    "y_train = le.fit_transform(df_train['label'])\n",
    "\n",
    "X_test = df_test['text']\n",
    "y_test = le.transform(df_test['label'])"
   ]
  },
  {
   "cell_type": "markdown",
   "id": "56ba8eda",
   "metadata": {
    "papermill": {
     "duration": 0.007499,
     "end_time": "2023-03-26T12:20:59.813664",
     "exception": false,
     "start_time": "2023-03-26T12:20:59.806165",
     "status": "completed"
    },
    "tags": []
   },
   "source": [
    "## Random Oversampling"
   ]
  },
  {
   "cell_type": "code",
   "execution_count": 13,
   "id": "da3e8ed2",
   "metadata": {
    "execution": {
     "iopub.execute_input": "2023-03-26T12:20:59.830502Z",
     "iopub.status.busy": "2023-03-26T12:20:59.830178Z",
     "iopub.status.idle": "2023-03-26T12:20:59.853180Z",
     "shell.execute_reply": "2023-03-26T12:20:59.852189Z"
    },
    "papermill": {
     "duration": 0.034228,
     "end_time": "2023-03-26T12:20:59.855740",
     "exception": false,
     "start_time": "2023-03-26T12:20:59.821512",
     "status": "completed"
    },
    "tags": []
   },
   "outputs": [],
   "source": [
    "ros = RandomOverSampler(random_state=0)\n",
    "X_train, y_train = ros.fit_resample(X_train.values.reshape(-1, 1), y_train)"
   ]
  },
  {
   "cell_type": "code",
   "execution_count": 14,
   "id": "3aa7b76e",
   "metadata": {
    "execution": {
     "iopub.execute_input": "2023-03-26T12:20:59.872839Z",
     "iopub.status.busy": "2023-03-26T12:20:59.872542Z",
     "iopub.status.idle": "2023-03-26T12:20:59.887669Z",
     "shell.execute_reply": "2023-03-26T12:20:59.886628Z"
    },
    "papermill": {
     "duration": 0.026642,
     "end_time": "2023-03-26T12:20:59.890346",
     "exception": false,
     "start_time": "2023-03-26T12:20:59.863704",
     "status": "completed"
    },
    "tags": []
   },
   "outputs": [
    {
     "name": "stdout",
     "output_type": "stream",
     "text": [
      "(71480, 1) (71480,)\n",
      "[(0, 17870), (1, 17870), (2, 17870), (3, 17870)]\n"
     ]
    }
   ],
   "source": [
    "from collections import Counter\n",
    "print(X_train.shape, y_train.shape)\n",
    "print(sorted(Counter(y_train).items()))"
   ]
  },
  {
   "cell_type": "markdown",
   "id": "2bdb619d",
   "metadata": {
    "papermill": {
     "duration": 0.007749,
     "end_time": "2023-03-26T12:20:59.906116",
     "exception": false,
     "start_time": "2023-03-26T12:20:59.898367",
     "status": "completed"
    },
    "tags": []
   },
   "source": [
    "### Convert to one-hot vectors"
   ]
  },
  {
   "cell_type": "code",
   "execution_count": 15,
   "id": "2b3e21be",
   "metadata": {
    "execution": {
     "iopub.execute_input": "2023-03-26T12:20:59.923204Z",
     "iopub.status.busy": "2023-03-26T12:20:59.922886Z",
     "iopub.status.idle": "2023-03-26T12:20:59.928957Z",
     "shell.execute_reply": "2023-03-26T12:20:59.928031Z"
    },
    "papermill": {
     "duration": 0.017272,
     "end_time": "2023-03-26T12:20:59.931218",
     "exception": false,
     "start_time": "2023-03-26T12:20:59.913946",
     "status": "completed"
    },
    "tags": []
   },
   "outputs": [],
   "source": [
    "y_train = to_categorical(y_train, num_classes=4)\n",
    "y_test = to_categorical(y_test, num_classes=4)"
   ]
  },
  {
   "cell_type": "code",
   "execution_count": 16,
   "id": "714b0d43",
   "metadata": {
    "execution": {
     "iopub.execute_input": "2023-03-26T12:20:59.948185Z",
     "iopub.status.busy": "2023-03-26T12:20:59.947909Z",
     "iopub.status.idle": "2023-03-26T12:20:59.952884Z",
     "shell.execute_reply": "2023-03-26T12:20:59.951901Z"
    },
    "papermill": {
     "duration": 0.016258,
     "end_time": "2023-03-26T12:20:59.955367",
     "exception": false,
     "start_time": "2023-03-26T12:20:59.939109",
     "status": "completed"
    },
    "tags": []
   },
   "outputs": [
    {
     "name": "stdout",
     "output_type": "stream",
     "text": [
      "(71480, 4) (3000, 4)\n"
     ]
    }
   ],
   "source": [
    "print(y_train.shape, y_test.shape)"
   ]
  },
  {
   "cell_type": "markdown",
   "id": "e7aa22eb",
   "metadata": {
    "papermill": {
     "duration": 0.008226,
     "end_time": "2023-03-26T12:20:59.971362",
     "exception": false,
     "start_time": "2023-03-26T12:20:59.963136",
     "status": "completed"
    },
    "tags": []
   },
   "source": [
    "## Split validation set for hyperparameter tuning"
   ]
  },
  {
   "cell_type": "code",
   "execution_count": 17,
   "id": "324efe8c",
   "metadata": {
    "execution": {
     "iopub.execute_input": "2023-03-26T12:20:59.988462Z",
     "iopub.status.busy": "2023-03-26T12:20:59.988135Z",
     "iopub.status.idle": "2023-03-26T12:21:00.367596Z",
     "shell.execute_reply": "2023-03-26T12:21:00.366501Z"
    },
    "papermill": {
     "duration": 0.391215,
     "end_time": "2023-03-26T12:21:00.370470",
     "exception": false,
     "start_time": "2023-03-26T12:20:59.979255",
     "status": "completed"
    },
    "tags": []
   },
   "outputs": [],
   "source": [
    "X_train, X_val, y_train, y_val = train_test_split(X_train, y_train, random_state=42, test_size=0.1, stratify=y_train)"
   ]
  },
  {
   "cell_type": "markdown",
   "id": "f70aab05",
   "metadata": {
    "papermill": {
     "duration": 0.00834,
     "end_time": "2023-03-26T12:21:00.387067",
     "exception": false,
     "start_time": "2023-03-26T12:21:00.378727",
     "status": "completed"
    },
    "tags": []
   },
   "source": [
    "## BERT Model"
   ]
  },
  {
   "cell_type": "code",
   "execution_count": 18,
   "id": "5f4bb1c6",
   "metadata": {
    "execution": {
     "iopub.execute_input": "2023-03-26T12:21:00.404090Z",
     "iopub.status.busy": "2023-03-26T12:21:00.403747Z",
     "iopub.status.idle": "2023-03-26T12:21:00.413356Z",
     "shell.execute_reply": "2023-03-26T12:21:00.412429Z"
    },
    "papermill": {
     "duration": 0.020496,
     "end_time": "2023-03-26T12:21:00.415429",
     "exception": false,
     "start_time": "2023-03-26T12:21:00.394933",
     "status": "completed"
    },
    "tags": []
   },
   "outputs": [],
   "source": [
    "def build_model(num_classes, optimizer, max_seq_length=128):\n",
    "    \n",
    "    \n",
    "    preprocessor = hub.load(\n",
    "    \"https://tfhub.dev/tensorflow/bert_en_uncased_preprocess/3\")\n",
    "\n",
    "    # Step 1: tokenize batches of text inputs.\n",
    "    text_inputs = [tf.keras.layers.Input(shape=(), dtype=tf.string)]\n",
    "    tokenize = hub.KerasLayer(preprocessor.tokenize)\n",
    "    tokenized_inputs = [tokenize(segment) for segment in text_inputs]\n",
    "\n",
    "    # Step 2 (optional): modify tokenized inputs.\n",
    "    pass\n",
    "\n",
    "    # Step 3: pack input sequences for the Transformer encoder.\n",
    "    seq_length = max_seq_length\n",
    "    bert_pack_inputs = hub.KerasLayer(\n",
    "        preprocessor.bert_pack_inputs,\n",
    "        arguments=dict(seq_length=seq_length))  # Optional argument.\n",
    "    encoder_inputs = bert_pack_inputs(tokenized_inputs)\n",
    "         \n",
    "    encoder = hub.KerasLayer(\"https://kaggle.com/models/tensorflow/bert/frameworks/TensorFlow2/variations/bert-en-uncased-l-8-h-768-a-12/versions/2\",\n",
    "                             trainable=False, name='BERT_encoder')\n",
    "    outputs = encoder(encoder_inputs)\n",
    "    net = outputs['pooled_output']\n",
    "    net = tf.keras.layers.Dense(256, activation='relu')(net)\n",
    "    net = tf.keras.layers.Dropout(0.3)(net)\n",
    "    out = tf.keras.layers.Dense(num_classes, activation='softmax', name='classifier')(net)\n",
    "    \n",
    "    \n",
    "    model = tf.keras.models.Model(text_inputs, out)\n",
    "    model.compile(optimizer, loss='categorical_crossentropy', metrics=['accuracy', tfa.metrics.F1Score(num_classes=num_classes, average='macro')])\n",
    "    \n",
    "    return model"
   ]
  },
  {
   "cell_type": "code",
   "execution_count": 19,
   "id": "2ae95a5d",
   "metadata": {
    "execution": {
     "iopub.execute_input": "2023-03-26T12:21:00.432267Z",
     "iopub.status.busy": "2023-03-26T12:21:00.431987Z",
     "iopub.status.idle": "2023-03-26T12:21:00.437588Z",
     "shell.execute_reply": "2023-03-26T12:21:00.436471Z"
    },
    "papermill": {
     "duration": 0.016865,
     "end_time": "2023-03-26T12:21:00.439984",
     "exception": false,
     "start_time": "2023-03-26T12:21:00.423119",
     "status": "completed"
    },
    "tags": []
   },
   "outputs": [],
   "source": [
    "def plot_loss(history):\n",
    "    # plot learning curves\n",
    "    plt.title('Learning Curves')\n",
    "    plt.xlabel('Epoch')\n",
    "    plt.ylabel('Loss')\n",
    "    plt.plot(history.history['loss'], label='train')\n",
    "    plt.plot(history.history['val_loss'], label='val')\n",
    "    plt.legend()\n",
    "    plt.tight_layout()"
   ]
  },
  {
   "cell_type": "code",
   "execution_count": 20,
   "id": "b8ddb4fd",
   "metadata": {
    "execution": {
     "iopub.execute_input": "2023-03-26T12:21:00.456964Z",
     "iopub.status.busy": "2023-03-26T12:21:00.456692Z",
     "iopub.status.idle": "2023-03-26T12:21:14.587962Z",
     "shell.execute_reply": "2023-03-26T12:21:14.587116Z"
    },
    "papermill": {
     "duration": 14.170027,
     "end_time": "2023-03-26T12:21:14.618045",
     "exception": false,
     "start_time": "2023-03-26T12:21:00.448018",
     "status": "completed"
    },
    "tags": []
   },
   "outputs": [
    {
     "name": "stdout",
     "output_type": "stream",
     "text": [
      "Model: \"model\"\n",
      "__________________________________________________________________________________________________\n",
      " Layer (type)                   Output Shape         Param #     Connected to                     \n",
      "==================================================================================================\n",
      " input_1 (InputLayer)           [(None,)]            0           []                               \n",
      "                                                                                                  \n",
      " keras_layer (KerasLayer)       (None, None, None)   0           ['input_1[0][0]']                \n",
      "                                                                                                  \n",
      " keras_layer_1 (KerasLayer)     {'input_word_ids':   0           ['keras_layer[0][0]']            \n",
      "                                (None, 512),                                                      \n",
      "                                 'input_type_ids':                                                \n",
      "                                (None, 512),                                                      \n",
      "                                 'input_mask': (Non                                               \n",
      "                                e, 512)}                                                          \n",
      "                                                                                                  \n",
      " BERT_encoder (KerasLayer)      {'sequence_output':  81130753    ['keras_layer_1[0][0]',          \n",
      "                                 (None, 512, 768),                'keras_layer_1[0][1]',          \n",
      "                                 'default': (None,                'keras_layer_1[0][2]']          \n",
      "                                768),                                                             \n",
      "                                 'pooled_output': (                                               \n",
      "                                None, 768),                                                       \n",
      "                                 'encoder_outputs':                                               \n",
      "                                 [(None, 512, 768),                                               \n",
      "                                 (None, 512, 768),                                                \n",
      "                                 (None, 512, 768),                                                \n",
      "                                 (None, 512, 768),                                                \n",
      "                                 (None, 512, 768),                                                \n",
      "                                 (None, 512, 768),                                                \n",
      "                                 (None, 512, 768),                                                \n",
      "                                 (None, 512, 768)]}                                               \n",
      "                                                                                                  \n",
      " dense (Dense)                  (None, 256)          196864      ['BERT_encoder[0][9]']           \n",
      "                                                                                                  \n",
      " dropout (Dropout)              (None, 256)          0           ['dense[0][0]']                  \n",
      "                                                                                                  \n",
      " classifier (Dense)             (None, 4)            1028        ['dropout[0][0]']                \n",
      "                                                                                                  \n",
      "==================================================================================================\n",
      "Total params: 81,328,645\n",
      "Trainable params: 197,892\n",
      "Non-trainable params: 81,130,753\n",
      "__________________________________________________________________________________________________\n"
     ]
    }
   ],
   "source": [
    "# Define the optimizer which uses the same learning rate schedule as BERT pre-training\n",
    "epochs = 10\n",
    "batch_size = 32\n",
    "eval_batch_size = 32\n",
    "\n",
    "train_data_size = len(X_train)\n",
    "steps_per_epoch = int(train_data_size / batch_size)\n",
    "num_train_steps = steps_per_epoch * epochs\n",
    "num_warmup_steps = int(0.1*num_train_steps)\n",
    "\n",
    "init_lr = 3e-5\n",
    "\n",
    "optimizer = optimization.create_optimizer(init_lr=init_lr,\n",
    "                                          num_train_steps=num_train_steps,\n",
    "                                          num_warmup_steps=num_warmup_steps,\n",
    "                                          optimizer_type='adamw') # by default, 0.01 weight_decay is already included.\n",
    "\n",
    "model = build_model(num_classes=len(TEXT_LABELS), optimizer=optimizer, max_seq_length=512)\n",
    "model.summary()\n",
    "\n",
    "checkpoint = tf.keras.callbacks.ModelCheckpoint('bert-weights', monitor='val_accuracy', save_best_only=True, save_weights_only=False, verbose=1)\n",
    "early_stopping = tf.keras.callbacks.EarlyStopping(monitor='val_accuracy', patience=5, verbose=1)"
   ]
  },
  {
   "cell_type": "code",
   "execution_count": 21,
   "id": "4b50b4c9",
   "metadata": {
    "execution": {
     "iopub.execute_input": "2023-03-26T12:21:14.639979Z",
     "iopub.status.busy": "2023-03-26T12:21:14.639665Z",
     "iopub.status.idle": "2023-03-26T12:21:15.692025Z",
     "shell.execute_reply": "2023-03-26T12:21:15.690871Z"
    },
    "papermill": {
     "duration": 1.066054,
     "end_time": "2023-03-26T12:21:15.694534",
     "exception": false,
     "start_time": "2023-03-26T12:21:14.628480",
     "status": "completed"
    },
    "tags": []
   },
   "outputs": [
    {
     "name": "stdout",
     "output_type": "stream",
     "text": [
      "Sun Mar 26 12:21:15 2023       \r\n",
      "+-----------------------------------------------------------------------------+\r\n",
      "| NVIDIA-SMI 470.82.01    Driver Version: 470.82.01    CUDA Version: 11.4     |\r\n",
      "|-------------------------------+----------------------+----------------------+\r\n",
      "| GPU  Name        Persistence-M| Bus-Id        Disp.A | Volatile Uncorr. ECC |\r\n",
      "| Fan  Temp  Perf  Pwr:Usage/Cap|         Memory-Usage | GPU-Util  Compute M. |\r\n",
      "|                               |                      |               MIG M. |\r\n",
      "|===============================+======================+======================|\r\n",
      "|   0  Tesla P100-PCIE...  Off  | 00000000:00:04.0 Off |                    0 |\r\n",
      "| N/A   35C    P0    34W / 250W |  15781MiB / 16280MiB |      0%      Default |\r\n",
      "|                               |                      |                  N/A |\r\n",
      "+-------------------------------+----------------------+----------------------+\r\n",
      "                                                                               \r\n",
      "+-----------------------------------------------------------------------------+\r\n",
      "| Processes:                                                                  |\r\n",
      "|  GPU   GI   CI        PID   Type   Process name                  GPU Memory |\r\n",
      "|        ID   ID                                                   Usage      |\r\n",
      "|=============================================================================|\r\n",
      "+-----------------------------------------------------------------------------+\r\n"
     ]
    }
   ],
   "source": [
    "!nvidia-smi"
   ]
  },
  {
   "cell_type": "code",
   "execution_count": 22,
   "id": "e412fa58",
   "metadata": {
    "execution": {
     "iopub.execute_input": "2023-03-26T12:21:15.716945Z",
     "iopub.status.busy": "2023-03-26T12:21:15.716619Z",
     "iopub.status.idle": "2023-03-26T12:21:18.471808Z",
     "shell.execute_reply": "2023-03-26T12:21:18.470735Z"
    },
    "papermill": {
     "duration": 2.769699,
     "end_time": "2023-03-26T12:21:18.474709",
     "exception": false,
     "start_time": "2023-03-26T12:21:15.705010",
     "status": "completed"
    },
    "tags": []
   },
   "outputs": [],
   "source": [
    "if PRETRAINED:\n",
    "    model.load_weights(\"/kaggle/input/labeled-unreliable-news-lun/bert-weights\")\n",
    "else:    \n",
    "    history = model.fit(x=X_train,\n",
    "              y=y_train,\n",
    "              validation_data=(X_val, y_val),\n",
    "              epochs=epochs, \n",
    "              callbacks=[checkpoint, early_stopping], \n",
    "              batch_size=batch_size,\n",
    "              validation_batch_size=eval_batch_size,\n",
    "              verbose=1)\n",
    "\n",
    "    plot_loss(history)"
   ]
  },
  {
   "cell_type": "markdown",
   "id": "357807ad",
   "metadata": {
    "papermill": {
     "duration": 0.010189,
     "end_time": "2023-03-26T12:21:18.495714",
     "exception": false,
     "start_time": "2023-03-26T12:21:18.485525",
     "status": "completed"
    },
    "tags": []
   },
   "source": [
    "## Evaluation"
   ]
  },
  {
   "cell_type": "code",
   "execution_count": 23,
   "id": "7188e2f2",
   "metadata": {
    "execution": {
     "iopub.execute_input": "2023-03-26T12:21:18.518023Z",
     "iopub.status.busy": "2023-03-26T12:21:18.517715Z",
     "iopub.status.idle": "2023-03-26T12:21:18.523489Z",
     "shell.execute_reply": "2023-03-26T12:21:18.522448Z"
    },
    "papermill": {
     "duration": 0.019665,
     "end_time": "2023-03-26T12:21:18.525825",
     "exception": false,
     "start_time": "2023-03-26T12:21:18.506160",
     "status": "completed"
    },
    "tags": []
   },
   "outputs": [],
   "source": [
    "X_test = df_test['text']\n",
    "y_test = le.transform(df_test['label'])"
   ]
  },
  {
   "cell_type": "code",
   "execution_count": 24,
   "id": "4470403d",
   "metadata": {
    "execution": {
     "iopub.execute_input": "2023-03-26T12:21:18.548041Z",
     "iopub.status.busy": "2023-03-26T12:21:18.547364Z",
     "iopub.status.idle": "2023-03-26T12:22:12.121755Z",
     "shell.execute_reply": "2023-03-26T12:22:12.120673Z"
    },
    "papermill": {
     "duration": 53.588265,
     "end_time": "2023-03-26T12:22:12.124307",
     "exception": false,
     "start_time": "2023-03-26T12:21:18.536042",
     "status": "completed"
    },
    "tags": []
   },
   "outputs": [
    {
     "name": "stdout",
     "output_type": "stream",
     "text": [
      "94/94 [==============================] - 53s 538ms/step\n"
     ]
    }
   ],
   "source": [
    "y_proba = model.predict(X_test, batch_size=eval_batch_size)\n",
    "y_pred = np.argmax(y_proba, axis=1)\n",
    "y_pred_labels = le.inverse_transform(y_pred)\n",
    "y_true_labels = le.inverse_transform(y_test)"
   ]
  },
  {
   "cell_type": "code",
   "execution_count": 25,
   "id": "718985db",
   "metadata": {
    "execution": {
     "iopub.execute_input": "2023-03-26T12:22:12.155904Z",
     "iopub.status.busy": "2023-03-26T12:22:12.155591Z",
     "iopub.status.idle": "2023-03-26T12:22:12.212301Z",
     "shell.execute_reply": "2023-03-26T12:22:12.211205Z"
    },
    "papermill": {
     "duration": 0.075442,
     "end_time": "2023-03-26T12:22:12.215095",
     "exception": false,
     "start_time": "2023-03-26T12:22:12.139653",
     "status": "completed"
    },
    "tags": []
   },
   "outputs": [
    {
     "name": "stdout",
     "output_type": "stream",
     "text": [
      "               precision    recall  f1-score   support\n",
      "\n",
      "         Hoax       0.52      0.37      0.44       750\n",
      "   Propaganda       0.44      0.52      0.48       750\n",
      "Reliable News       0.66      0.88      0.75       750\n",
      "       Satire       0.74      0.55      0.63       750\n",
      "\n",
      "     accuracy                           0.58      3000\n",
      "    macro avg       0.59      0.58      0.57      3000\n",
      " weighted avg       0.59      0.58      0.57      3000\n",
      "\n"
     ]
    }
   ],
   "source": [
    "print(classification_report(y_true=y_true_labels, y_pred=y_pred_labels))"
   ]
  },
  {
   "cell_type": "code",
   "execution_count": 26,
   "id": "3bddbdad",
   "metadata": {
    "execution": {
     "iopub.execute_input": "2023-03-26T12:22:12.246700Z",
     "iopub.status.busy": "2023-03-26T12:22:12.246395Z",
     "iopub.status.idle": "2023-03-26T12:22:12.601344Z",
     "shell.execute_reply": "2023-03-26T12:22:12.600371Z"
    },
    "papermill": {
     "duration": 0.372978,
     "end_time": "2023-03-26T12:22:12.603664",
     "exception": false,
     "start_time": "2023-03-26T12:22:12.230686",
     "status": "completed"
    },
    "tags": []
   },
   "outputs": [
    {
     "data": {
      "image/png": "[encoded data removed]",
      "text/plain": [
       "<Figure size 640x480 with 2 Axes>"
      ]
     },
     "metadata": {},
     "output_type": "display_data"
    }
   ],
   "source": [
    "cm = confusion_matrix(y_true_labels, y_pred_labels)\n",
    "disp = ConfusionMatrixDisplay(confusion_matrix=cm, display_labels=le.classes_)\n",
    "disp.plot(cmap='Blues')\n",
    "plt.tight_layout()"
   ]
  },
  {
   "cell_type": "markdown",
   "id": "ed8ab54d",
   "metadata": {
    "papermill": {
     "duration": 0.015544,
     "end_time": "2023-03-26T12:22:12.634695",
     "exception": false,
     "start_time": "2023-03-26T12:22:12.619151",
     "status": "completed"
    },
    "tags": []
   },
   "source": [
    "### Incorrect Examples"
   ]
  },
  {
   "cell_type": "code",
   "execution_count": 27,
   "id": "a5d3e1aa",
   "metadata": {
    "execution": {
     "iopub.execute_input": "2023-03-26T12:22:12.667214Z",
     "iopub.status.busy": "2023-03-26T12:22:12.666856Z",
     "iopub.status.idle": "2023-03-26T12:22:12.683695Z",
     "shell.execute_reply": "2023-03-26T12:22:12.682472Z"
    },
    "papermill": {
     "duration": 0.035789,
     "end_time": "2023-03-26T12:22:12.685820",
     "exception": false,
     "start_time": "2023-03-26T12:22:12.650031",
     "status": "completed"
    },
    "tags": []
   },
   "outputs": [
    {
     "name": "stdout",
     "output_type": "stream",
     "text": [
      "(1): Hoax but predicted as Propaganda:\n",
      "--------------------\n",
      "Ferguson Protesters Take Advantage Of Cop-Involved Shooting In South St. Louis With Unrest Here we go again. We in St. Louis are getting really tired of this. Last evening at about 7:30 in the Shaw Neighborhood of the City of St. Louis, so named for being the area around the Missouri Botanical Garden or Shaws Garden, an off-duty St. Louis City cop who was working a second shift or security for a private firm with permission, shot and killed a suspect who physically threatened him according to reports. A simple narrative of the incident is posted on the KMOV website, the local CBS television affiliate: Authorities said the shooting occurred in the 4100 block of Shaw around 7:30 p.m. According to police, an off-duty police officer was patrolling for a private security company in the Shaw neighborhood. As he drove by the intersection of Klemm and Shaw, he noticed three men. Police said the men started to run and the officer chased after them. Authorities said the officer eventually got ou\n",
      "--------------------\n",
      "\n",
      "(2): Propaganda but predicted as Reliable News:\n",
      "--------------------\n",
      " Water fluoridation may cause hypothyroidism at levels dramatically lower than the maximum level allowed by the U.S. Environmental Protection Agency (EPA), according to a new study conducted by researchers from the University of Kent and published in the Journal of Epidemiology and Community Health , a British Medical Journal ( BMJ ) publication. The thyroid gland plays a key role in regulating metabolism and several other bodily systems. Hypothyroidism, or an underactive thyroid gland, can produce serious problems including weight gain and depression. 'Underactive thyroid is a particularly nasty thing to have and it can lead to other long term health problems,' lead author Stephen Peckham said. 'I do think councils need to think again about putting fluoride in the water. There are far safer ways to improve dental health.' Hypothyroidism cases nearly doubled A number of studies have suggested that fluoride ingestion may lead to hypothyroidism. Among other things, research has shown tha\n",
      "--------------------\n",
      "\n",
      "(3): Propaganda but predicted as Satire:\n",
      "--------------------\n",
      " Hundreds of Alaska Airlines flight attendants have filed a formal complaint about uniforms they suspect might be causing their skin to rash and develop lesions, and their hair to fall out. But based on the timing of the symptoms and their relation to similar symptoms in local marine life and polar bear populations, it appears as though radiation from the Fukushima Daiichi nuclear disaster may also be a potential culprit. KING 5 News in Seattle, Wash., first broke the news about the 'mystery illness' that has reportedly affected at least 280 flight attendants thus far. According to accounts, those afflicted by the condition say they have developed persistently itchy skin, skin lesions, and hair loss, all of which they suspect may have to do with newer flight uniforms that allegedly contain tributyl phosphate, a toxic organophosphorus compound linked to skin problems ( http://www.rightdiagnosis.com ). But not everyone is convinced that the uniforms are to blame, including Alexander Higg\n",
      "--------------------\n",
      "\n",
      "(4): Satire but predicted as Hoax:\n",
      "--------------------\n",
      "When so many actors seem content to churn out performances for a quick paycheck, a performer who adheres to his principles really stands out. Thats why Jeff Bridges made waves this week when he announced that from now on, he will only perform nude scenes. In an interview in this months GQ, the Big Lebowski star made it clear that he was more than ready to move on to a new phase in his career, leaving his clothed roles in the past. Ive been there and Ive done that, said Bridges, rattling off a laundry list of the films hes appeared in covered up. Now, I can finally afford to only take on roles that excite me. Right now, those are roles with nude scenes. Why waste my time with anything else? Powerful. Though he made it clear that he doesnt regret his previous non-nude roles, Jeff admitted that hed always struggled with pressure from directors and studios to stay clothed on camera. No more towels; no more bathrobes; no more carefully placed plants, he added. Even if my character isnt writ\n",
      "--------------------\n",
      "\n"
     ]
    }
   ],
   "source": [
    "df_test['predicted'] = y_pred_labels\n",
    "\n",
    "for i, (true, pred) in enumerate([\n",
    "    ('Hoax', 'Propaganda'), \n",
    "    ('Propaganda', 'Reliable News'),\n",
    "    ('Propaganda', 'Satire'), \n",
    "    ('Satire', 'Hoax')]):\n",
    "    \n",
    "    print(f\"({i+1}): {true} but predicted as {pred}:\")\n",
    "    print(\"-\"*20)\n",
    "    print(df_test[(df_test['label'] == true) & (df_test['predicted'] == pred)].iloc[0]['text'][:1000])\n",
    "    print(\"-\"*20)\n",
    "    print()"
   ]
  },
  {
   "cell_type": "markdown",
   "id": "b2f89e82",
   "metadata": {
    "papermill": {
     "duration": 0.015543,
     "end_time": "2023-03-26T12:22:12.717668",
     "exception": false,
     "start_time": "2023-03-26T12:22:12.702125",
     "status": "completed"
    },
    "tags": []
   },
   "source": [
    "## Evaluation on COVID dataset"
   ]
  },
  {
   "cell_type": "code",
   "execution_count": 28,
   "id": "a32a82bf",
   "metadata": {
    "execution": {
     "iopub.execute_input": "2023-03-26T12:22:12.750714Z",
     "iopub.status.busy": "2023-03-26T12:22:12.750329Z",
     "iopub.status.idle": "2023-03-26T12:22:15.378166Z",
     "shell.execute_reply": "2023-03-26T12:22:15.376898Z"
    },
    "papermill": {
     "duration": 2.647711,
     "end_time": "2023-03-26T12:22:15.381197",
     "exception": false,
     "start_time": "2023-03-26T12:22:12.733486",
     "status": "completed"
    },
    "tags": []
   },
   "outputs": [
    {
     "name": "stdout",
     "output_type": "stream",
     "text": [
      "4/4 [==============================] - 2s 529ms/step\n",
      "               precision    recall  f1-score   support\n",
      "\n",
      "         Hoax       0.60      0.10      0.17        30\n",
      "   Propaganda       0.34      0.59      0.43        29\n",
      "Reliable News       0.41      0.40      0.41        30\n",
      "       Satire       0.86      1.00      0.93        31\n",
      "\n",
      "     accuracy                           0.53       120\n",
      "    macro avg       0.55      0.52      0.48       120\n",
      " weighted avg       0.56      0.53      0.49       120\n",
      "\n"
     ]
    }
   ],
   "source": [
    "df_covid = pd.read_csv('/kaggle/input/covid-unreliable-news/covid_unreliable_news_cleaned.csv', encoding='utf-8')\n",
    "\n",
    "y_covid_test = le.transform(df_covid['class'])\n",
    "X_covid_test = df_covid['content_text']\n",
    "\n",
    "y_covid_proba = model.predict(X_covid_test, batch_size=eval_batch_size)\n",
    "y_covid_pred = np.argmax(y_covid_proba, axis=1)\n",
    "y_covid_pred_labels = le.inverse_transform(y_covid_pred)\n",
    "y_covid_true_labels = le.inverse_transform(y_covid_test)\n",
    "\n",
    "print(classification_report(y_true=y_covid_true_labels, y_pred=y_covid_pred_labels))"
   ]
  },
  {
   "cell_type": "code",
   "execution_count": 29,
   "id": "39f25dfc",
   "metadata": {
    "execution": {
     "iopub.execute_input": "2023-03-26T12:22:15.416584Z",
     "iopub.status.busy": "2023-03-26T12:22:15.415011Z",
     "iopub.status.idle": "2023-03-26T12:22:15.746363Z",
     "shell.execute_reply": "2023-03-26T12:22:15.745296Z"
    },
    "papermill": {
     "duration": 0.350705,
     "end_time": "2023-03-26T12:22:15.748713",
     "exception": false,
     "start_time": "2023-03-26T12:22:15.398008",
     "status": "completed"
    },
    "tags": []
   },
   "outputs": [
    {
     "data": {
      "image/png": "[encoded data removed]",
      "text/plain": [
       "<Figure size 640x480 with 2 Axes>"
      ]
     },
     "metadata": {},
     "output_type": "display_data"
    }
   ],
   "source": [
    "cm = confusion_matrix(y_covid_true_labels, y_covid_pred_labels)\n",
    "disp = ConfusionMatrixDisplay(confusion_matrix=cm, display_labels=le.classes_)\n",
    "disp.plot(cmap='Blues')\n",
    "plt.tight_layout()"
   ]
  },
  {
   "cell_type": "code",
   "execution_count": 30,
   "id": "7c988f56",
   "metadata": {
    "execution": {
     "iopub.execute_input": "2023-03-26T12:22:15.783495Z",
     "iopub.status.busy": "2023-03-26T12:22:15.783181Z",
     "iopub.status.idle": "2023-03-26T12:22:15.794099Z",
     "shell.execute_reply": "2023-03-26T12:22:15.793098Z"
    },
    "papermill": {
     "duration": 0.031066,
     "end_time": "2023-03-26T12:22:15.796746",
     "exception": false,
     "start_time": "2023-03-26T12:22:15.765680",
     "status": "completed"
    },
    "tags": []
   },
   "outputs": [
    {
     "name": "stdout",
     "output_type": "stream",
     "text": [
      "(1): Hoax but predicted as Propaganda:\n",
      "--------------------\n",
      " Is 5G to partially blame for coronavirus deaths? Can 5G cause the blood that’s circulating in your body to be unable to carry oxygen?What’s especially horrifying about the critical care of coronavirus patients is that they aren’t suffering from “viral pneumonia,” but rather from an inability to absorb or carry oxygen in the blood.This has been confirmed by NYC ICU emergency physician Cameron Kyle-Sidell, who has released several videos detailing how coronavirus is not a kind of viral pneumonia. “We’re treating the wrong disease,” he says. And the ventilators are damaging the lungs of patients. He explains:COVID-19 lung disease, as far as I can see, is not a pneumonia and should not be treated as one. Rather, it appears as if some kind of viral-induced disease most resembling high altitude sickness. Is it as if tens of thousands of my fellow New Yorkers are on a plane at 30,000 feet at the cabin pressure is slowly being let out. These patients are slowly being starved of oxygen.Watch h\n",
      "--------------------\n",
      "\n",
      "(2): Propaganda but predicted as Reliable News:\n",
      "--------------------\n",
      "The health board for Nevada’s Elko County voted to defer banning the Wuhan coronavirus (COVID-19) and flu vaccines in the county. Members of the board unanimously agreed that they lacked authority to impose such ban.  But they’re also not forcing people to get vaccinated.  \"It’s important for us to remember that people need to be in charge of their own health care from the beginning,\" said Commissioner Delmo Andreozzi, a member of the health board. Elko County Health Officer Dr. Bryce Putnam, also a member of the health board, noted that receiving a vaccine is a personal choice even though he himself is a profound advocate for vaccination.  Commissioner Rex Steninger agreed with his colleagues. \"We can’t order people to wear masks. I feel the same way about this moratorium,\" he said. \"If somebody wants to take the vaccine, that’s their decision.\"  County commissioners earlier took hard stances against what they considered \"government overreach.\" They voted to disregard a mask mandate r\n",
      "--------------------\n",
      "\n",
      "(3): Reliable News but predicted as Propaganda:\n",
      "--------------------\n",
      "It is likely that eventually it will become endemic, and most of us will get infected. But one question is super important: How long will it take for that to happen? If it happens in a few months, every hospital will be overwhelmed and people will not be treated for coronavirus or other diseases. If it happens that fast, it will be an unprecedented disaster. However, if we do our best in terms of prevention by practicing social distancing, reducing travel, not going to work when we’re sick, we could slow spread of the disease. If the same 60-70% infection of the global population is spread over 3 years, then hospitals don’t get overwhelmed, people can get treated, and we have time to develop a vaccine—it’s a completely different story.The difference between it happening fast or slow is potentially the difference between a 1918 flu level event and a bad flu season level event. We have control over that.\n",
      "--------------------\n",
      "\n"
     ]
    }
   ],
   "source": [
    "df_covid['predicted'] = y_covid_pred_labels\n",
    "for i, (true, pred) in enumerate([\n",
    "    ('Hoax', 'Propaganda'), \n",
    "    ('Propaganda', 'Reliable News'),\n",
    "    ('Reliable News', 'Propaganda')]):\n",
    "    \n",
    "    print(f\"({i+1}): {true} but predicted as {pred}:\")\n",
    "    print(\"-\"*20)\n",
    "    print(df_covid[(df_covid['class'] == true) & (df_covid['predicted'] == pred)].iloc[0]['content_text'][:1000])\n",
    "    print(\"-\"*20)\n",
    "    print()"
   ]
  },
  {
   "cell_type": "code",
   "execution_count": null,
   "id": "6d0b5724",
   "metadata": {
    "papermill": {
     "duration": 0.016157,
     "end_time": "2023-03-26T12:22:15.829310",
     "exception": false,
     "start_time": "2023-03-26T12:22:15.813153",
     "status": "completed"
    },
    "tags": []
   },
   "outputs": [],
   "source": []
  }
 ],
 "metadata": {
  "kernelspec": {
   "display_name": "Python 3",
   "language": "python",
   "name": "python3"
  },
  "language_info": {
   "codemirror_mode": {
    "name": "ipython",
    "version": 3
   },
   "file_extension": ".py",
   "mimetype": "text/x-python",
   "name": "python",
   "nbconvert_exporter": "python",
   "pygments_lexer": "ipython3",
   "version": "3.7.12"
  },
  "papermill": {
   "default_parameters": {},
   "duration": 163.871829,
   "end_time": "2023-03-26T12:22:19.180694",
   "environment_variables": {},
   "exception": null,
   "input_path": "__notebook__.ipynb",
   "output_path": "__notebook__.ipynb",
   "parameters": {},
   "start_time": "2023-03-26T12:19:35.308865",
   "version": "2.4.0"
  }
 },
 "nbformat": 4,
 "nbformat_minor": 5
}
