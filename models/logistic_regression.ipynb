{
 "cells": [
  {
   "cell_type": "code",
   "execution_count": 1,
   "id": "8a64b945",
   "metadata": {},
   "outputs": [],
   "source": [
    "import pandas as pd\n",
    "import numpy as np\n",
    "from sklearn.linear_model import LogisticRegression\n",
    "from sklearn.model_selection import GridSearchCV\n",
    "from sklearn.metrics import f1_score, make_scorer\n",
    "from sklearn.metrics import confusion_matrix, classification_report"
   ]
  },
  {
   "cell_type": "code",
   "execution_count": 2,
   "id": "1c2a788f",
   "metadata": {},
   "outputs": [],
   "source": [
    "train = pd.read_csv('feature_train.csv')\n",
    "y_train = train['label']\n",
    "X_train = train.drop('id', axis=1)\n",
    "X_train = X_train.drop('label', axis=1)"
   ]
  },
  {
   "cell_type": "code",
   "execution_count": 3,
   "id": "3e6ddd86",
   "metadata": {},
   "outputs": [],
   "source": [
    "test = pd.read_csv('feature_test.csv')\n",
    "y_test = test['label']\n",
    "X_test = test.drop('id', axis=1)\n",
    "X_test = X_test.drop('label', axis=1)"
   ]
  },
  {
   "cell_type": "code",
   "execution_count": 4,
   "id": "96c6cf69",
   "metadata": {},
   "outputs": [
    {
     "name": "stderr",
     "output_type": "stream",
     "text": [
      "[Parallel(n_jobs=8)]: Using backend LokyBackend with 8 concurrent workers.\n",
      "[Parallel(n_jobs=8)]: Done   1 out of   1 | elapsed:  3.2min finished\n"
     ]
    },
    {
     "data": {
      "text/plain": [
       "LogisticRegression(C=1, class_weight='balanced', max_iter=5000,\n",
       "                   multi_class='multinomial', n_jobs=8, random_state=10,\n",
       "                   verbose=2)"
      ]
     },
     "execution_count": 4,
     "metadata": {},
     "output_type": "execute_result"
    }
   ],
   "source": [
    "lr0 = LogisticRegression(max_iter=5000, C=1, class_weight='balanced', multi_class='multinomial' , n_jobs=8, verbose=2, random_state=10)\n",
    "lr0.fit(X_train, y_train)"
   ]
  },
  {
   "cell_type": "code",
   "execution_count": 5,
   "id": "a2cacf53",
   "metadata": {},
   "outputs": [],
   "source": [
    "y_pred = lr0.predict(X_test)"
   ]
  },
  {
   "cell_type": "code",
   "execution_count": 6,
   "id": "dd14148d",
   "metadata": {},
   "outputs": [],
   "source": [
    "def eval(y_pred):\n",
    "    cm = confusion_matrix(y_test, y_pred)\n",
    "    accuracies = np.diag(cm) / cm.sum(axis=1)\n",
    "    f1 = f1_score(y_test, y_pred, average='macro')\n",
    "    for i, accuracy in enumerate(accuracies):\n",
    "        print(f\"Accuracy of class {i}: {accuracy:.2f}\")\n",
    "    print(f\"Weighted F1 score: {f1:.2f}\")"
   ]
  },
  {
   "cell_type": "code",
   "execution_count": 7,
   "id": "fa1c5023",
   "metadata": {},
   "outputs": [
    {
     "name": "stdout",
     "output_type": "stream",
     "text": [
      "Accuracy of class 0: 0.63\n",
      "Accuracy of class 1: 0.33\n",
      "Accuracy of class 2: 0.69\n",
      "Accuracy of class 3: 0.80\n",
      "Weighted F1 score: 0.60\n"
     ]
    }
   ],
   "source": [
    "eval(y_pred)"
   ]
  },
  {
   "cell_type": "markdown",
   "id": "4491db8e",
   "metadata": {},
   "source": [
    "### Some other parameters setting"
   ]
  },
  {
   "cell_type": "code",
   "execution_count": 14,
   "id": "ec2f046d",
   "metadata": {},
   "outputs": [
    {
     "name": "stderr",
     "output_type": "stream",
     "text": [
      "[Parallel(n_jobs=8)]: Using backend LokyBackend with 8 concurrent workers.\n",
      "[Parallel(n_jobs=8)]: Done   1 out of   1 | elapsed:  3.5min finished\n"
     ]
    },
    {
     "data": {
      "text/plain": [
       "LogisticRegression(C=10, class_weight='balanced', max_iter=5000,\n",
       "                   multi_class='multinomial', n_jobs=8, random_state=10,\n",
       "                   verbose=2)"
      ]
     },
     "execution_count": 14,
     "metadata": {},
     "output_type": "execute_result"
    }
   ],
   "source": [
    "lr = LogisticRegression(max_iter=5000, C=10, class_weight='balanced', multi_class='multinomial' , n_jobs=8, verbose=2, random_state=10)\n",
    "lr.fit(X_train, y_train)"
   ]
  },
  {
   "cell_type": "code",
   "execution_count": 15,
   "id": "9809bca8",
   "metadata": {},
   "outputs": [
    {
     "name": "stdout",
     "output_type": "stream",
     "text": [
      "Accuracy of class 0: 0.63\n",
      "Accuracy of class 1: 0.32\n",
      "Accuracy of class 2: 0.67\n",
      "Accuracy of class 3: 0.80\n",
      "Weighted F1 score: 0.59\n"
     ]
    }
   ],
   "source": [
    "y_pred = lr.predict(X_test)\n",
    "eval(y_pred)"
   ]
  },
  {
   "cell_type": "code",
   "execution_count": 16,
   "id": "65e231f4",
   "metadata": {},
   "outputs": [
    {
     "name": "stderr",
     "output_type": "stream",
     "text": [
      "[Parallel(n_jobs=8)]: Using backend LokyBackend with 8 concurrent workers.\n",
      "[Parallel(n_jobs=8)]: Done   1 out of   1 | elapsed:  2.2min finished\n"
     ]
    },
    {
     "name": "stdout",
     "output_type": "stream",
     "text": [
      "Accuracy of class 0: 0.64\n",
      "Accuracy of class 1: 0.33\n",
      "Accuracy of class 2: 0.70\n",
      "Accuracy of class 3: 0.79\n",
      "Weighted F1 score: 0.60\n"
     ]
    }
   ],
   "source": [
    "lr = LogisticRegression(max_iter=5000, C=0.1, class_weight='balanced', multi_class='multinomial' , n_jobs=8, verbose=2, random_state=10)\n",
    "lr.fit(X_train, y_train)\n",
    "y_pred = lr.predict(X_test)\n",
    "eval(y_pred)"
   ]
  },
  {
   "cell_type": "markdown",
   "id": "501fe735",
   "metadata": {},
   "source": [
    "### Evaluation on COVID dataset"
   ]
  },
  {
   "cell_type": "code",
   "execution_count": 8,
   "id": "f7d2f877",
   "metadata": {},
   "outputs": [],
   "source": [
    "data = pd.read_csv('covid_test.csv')"
   ]
  },
  {
   "cell_type": "code",
   "execution_count": 9,
   "id": "2f15fa0a",
   "metadata": {},
   "outputs": [],
   "source": [
    "data.drop(['id'], axis=1, inplace=True)\n",
    "replace_dict = {'Satire': 1, 'Hoax': 2, 'Propaganda': 3, 'Reliable News': 4}\n",
    "data['label'] = data['label'].replace(replace_dict)"
   ]
  },
  {
   "cell_type": "code",
   "execution_count": 10,
   "id": "aa592221",
   "metadata": {},
   "outputs": [
    {
     "data": {
      "text/html": [
       "<div>\n",
       "<style scoped>\n",
       "    .dataframe tbody tr th:only-of-type {\n",
       "        vertical-align: middle;\n",
       "    }\n",
       "\n",
       "    .dataframe tbody tr th {\n",
       "        vertical-align: top;\n",
       "    }\n",
       "\n",
       "    .dataframe thead th {\n",
       "        text-align: right;\n",
       "    }\n",
       "</style>\n",
       "<table border=\"1\" class=\"dataframe\">\n",
       "  <thead>\n",
       "    <tr style=\"text-align: right;\">\n",
       "      <th></th>\n",
       "      <th>d1</th>\n",
       "      <th>d2</th>\n",
       "      <th>d3</th>\n",
       "      <th>d4</th>\n",
       "      <th>d5</th>\n",
       "      <th>d6</th>\n",
       "      <th>d7</th>\n",
       "      <th>d8</th>\n",
       "      <th>d9</th>\n",
       "      <th>d10</th>\n",
       "      <th>...</th>\n",
       "      <th>d144</th>\n",
       "      <th>d145</th>\n",
       "      <th>d146</th>\n",
       "      <th>d147</th>\n",
       "      <th>d148</th>\n",
       "      <th>d149</th>\n",
       "      <th>d150</th>\n",
       "      <th>d151</th>\n",
       "      <th>d152</th>\n",
       "      <th>label</th>\n",
       "    </tr>\n",
       "  </thead>\n",
       "  <tbody>\n",
       "    <tr>\n",
       "      <th>0</th>\n",
       "      <td>0.0</td>\n",
       "      <td>0.000000</td>\n",
       "      <td>0.00000</td>\n",
       "      <td>0.000000</td>\n",
       "      <td>0.0</td>\n",
       "      <td>0.000000</td>\n",
       "      <td>0.00000</td>\n",
       "      <td>0.000000</td>\n",
       "      <td>0.000000</td>\n",
       "      <td>0.0</td>\n",
       "      <td>...</td>\n",
       "      <td>0.000000</td>\n",
       "      <td>0.0</td>\n",
       "      <td>0.132239</td>\n",
       "      <td>0.0</td>\n",
       "      <td>0.000000</td>\n",
       "      <td>0.0</td>\n",
       "      <td>0.111579</td>\n",
       "      <td>79</td>\n",
       "      <td>0</td>\n",
       "      <td>4</td>\n",
       "    </tr>\n",
       "    <tr>\n",
       "      <th>1</th>\n",
       "      <td>0.0</td>\n",
       "      <td>0.000000</td>\n",
       "      <td>0.00000</td>\n",
       "      <td>0.225661</td>\n",
       "      <td>0.0</td>\n",
       "      <td>0.000000</td>\n",
       "      <td>0.00000</td>\n",
       "      <td>0.150991</td>\n",
       "      <td>0.000000</td>\n",
       "      <td>0.0</td>\n",
       "      <td>...</td>\n",
       "      <td>0.137182</td>\n",
       "      <td>0.0</td>\n",
       "      <td>0.000000</td>\n",
       "      <td>0.0</td>\n",
       "      <td>0.000000</td>\n",
       "      <td>0.0</td>\n",
       "      <td>0.000000</td>\n",
       "      <td>458</td>\n",
       "      <td>0</td>\n",
       "      <td>4</td>\n",
       "    </tr>\n",
       "    <tr>\n",
       "      <th>2</th>\n",
       "      <td>0.0</td>\n",
       "      <td>0.039538</td>\n",
       "      <td>0.09156</td>\n",
       "      <td>0.062778</td>\n",
       "      <td>0.0</td>\n",
       "      <td>0.000000</td>\n",
       "      <td>0.00000</td>\n",
       "      <td>0.000000</td>\n",
       "      <td>0.043025</td>\n",
       "      <td>0.0</td>\n",
       "      <td>...</td>\n",
       "      <td>0.038163</td>\n",
       "      <td>0.0</td>\n",
       "      <td>0.000000</td>\n",
       "      <td>0.0</td>\n",
       "      <td>0.060505</td>\n",
       "      <td>0.0</td>\n",
       "      <td>0.030551</td>\n",
       "      <td>484</td>\n",
       "      <td>0</td>\n",
       "      <td>4</td>\n",
       "    </tr>\n",
       "    <tr>\n",
       "      <th>3</th>\n",
       "      <td>0.0</td>\n",
       "      <td>0.000000</td>\n",
       "      <td>0.00000</td>\n",
       "      <td>0.000000</td>\n",
       "      <td>0.0</td>\n",
       "      <td>0.000000</td>\n",
       "      <td>0.00000</td>\n",
       "      <td>0.000000</td>\n",
       "      <td>0.000000</td>\n",
       "      <td>0.0</td>\n",
       "      <td>...</td>\n",
       "      <td>0.000000</td>\n",
       "      <td>0.0</td>\n",
       "      <td>0.000000</td>\n",
       "      <td>0.0</td>\n",
       "      <td>0.000000</td>\n",
       "      <td>0.0</td>\n",
       "      <td>0.000000</td>\n",
       "      <td>12</td>\n",
       "      <td>0</td>\n",
       "      <td>4</td>\n",
       "    </tr>\n",
       "    <tr>\n",
       "      <th>4</th>\n",
       "      <td>0.0</td>\n",
       "      <td>0.000000</td>\n",
       "      <td>0.00000</td>\n",
       "      <td>0.000000</td>\n",
       "      <td>0.0</td>\n",
       "      <td>0.000000</td>\n",
       "      <td>0.00000</td>\n",
       "      <td>0.000000</td>\n",
       "      <td>0.000000</td>\n",
       "      <td>0.0</td>\n",
       "      <td>...</td>\n",
       "      <td>0.086459</td>\n",
       "      <td>0.0</td>\n",
       "      <td>0.000000</td>\n",
       "      <td>0.0</td>\n",
       "      <td>0.000000</td>\n",
       "      <td>0.0</td>\n",
       "      <td>0.000000</td>\n",
       "      <td>156</td>\n",
       "      <td>0</td>\n",
       "      <td>4</td>\n",
       "    </tr>\n",
       "    <tr>\n",
       "      <th>...</th>\n",
       "      <td>...</td>\n",
       "      <td>...</td>\n",
       "      <td>...</td>\n",
       "      <td>...</td>\n",
       "      <td>...</td>\n",
       "      <td>...</td>\n",
       "      <td>...</td>\n",
       "      <td>...</td>\n",
       "      <td>...</td>\n",
       "      <td>...</td>\n",
       "      <td>...</td>\n",
       "      <td>...</td>\n",
       "      <td>...</td>\n",
       "      <td>...</td>\n",
       "      <td>...</td>\n",
       "      <td>...</td>\n",
       "      <td>...</td>\n",
       "      <td>...</td>\n",
       "      <td>...</td>\n",
       "      <td>...</td>\n",
       "      <td>...</td>\n",
       "    </tr>\n",
       "    <tr>\n",
       "      <th>115</th>\n",
       "      <td>0.0</td>\n",
       "      <td>0.181346</td>\n",
       "      <td>0.00000</td>\n",
       "      <td>0.000000</td>\n",
       "      <td>0.0</td>\n",
       "      <td>0.193119</td>\n",
       "      <td>0.22575</td>\n",
       "      <td>0.000000</td>\n",
       "      <td>0.000000</td>\n",
       "      <td>0.0</td>\n",
       "      <td>...</td>\n",
       "      <td>0.000000</td>\n",
       "      <td>0.0</td>\n",
       "      <td>0.000000</td>\n",
       "      <td>0.0</td>\n",
       "      <td>0.277511</td>\n",
       "      <td>0.0</td>\n",
       "      <td>0.000000</td>\n",
       "      <td>91</td>\n",
       "      <td>0</td>\n",
       "      <td>1</td>\n",
       "    </tr>\n",
       "    <tr>\n",
       "      <th>116</th>\n",
       "      <td>0.0</td>\n",
       "      <td>0.332461</td>\n",
       "      <td>0.00000</td>\n",
       "      <td>0.175957</td>\n",
       "      <td>0.0</td>\n",
       "      <td>0.000000</td>\n",
       "      <td>0.00000</td>\n",
       "      <td>0.000000</td>\n",
       "      <td>0.000000</td>\n",
       "      <td>0.0</td>\n",
       "      <td>...</td>\n",
       "      <td>0.000000</td>\n",
       "      <td>0.0</td>\n",
       "      <td>0.101486</td>\n",
       "      <td>0.0</td>\n",
       "      <td>0.254379</td>\n",
       "      <td>0.0</td>\n",
       "      <td>0.000000</td>\n",
       "      <td>150</td>\n",
       "      <td>0</td>\n",
       "      <td>1</td>\n",
       "    </tr>\n",
       "    <tr>\n",
       "      <th>117</th>\n",
       "      <td>0.0</td>\n",
       "      <td>0.191076</td>\n",
       "      <td>0.00000</td>\n",
       "      <td>0.000000</td>\n",
       "      <td>0.0</td>\n",
       "      <td>0.000000</td>\n",
       "      <td>0.00000</td>\n",
       "      <td>0.000000</td>\n",
       "      <td>0.000000</td>\n",
       "      <td>0.0</td>\n",
       "      <td>...</td>\n",
       "      <td>0.000000</td>\n",
       "      <td>0.0</td>\n",
       "      <td>0.000000</td>\n",
       "      <td>0.0</td>\n",
       "      <td>0.146200</td>\n",
       "      <td>0.0</td>\n",
       "      <td>0.000000</td>\n",
       "      <td>95</td>\n",
       "      <td>1</td>\n",
       "      <td>1</td>\n",
       "    </tr>\n",
       "    <tr>\n",
       "      <th>118</th>\n",
       "      <td>0.0</td>\n",
       "      <td>0.000000</td>\n",
       "      <td>0.00000</td>\n",
       "      <td>0.077492</td>\n",
       "      <td>0.0</td>\n",
       "      <td>0.000000</td>\n",
       "      <td>0.00000</td>\n",
       "      <td>0.000000</td>\n",
       "      <td>0.000000</td>\n",
       "      <td>0.0</td>\n",
       "      <td>...</td>\n",
       "      <td>0.094216</td>\n",
       "      <td>0.0</td>\n",
       "      <td>0.000000</td>\n",
       "      <td>0.0</td>\n",
       "      <td>0.149372</td>\n",
       "      <td>0.0</td>\n",
       "      <td>0.000000</td>\n",
       "      <td>120</td>\n",
       "      <td>0</td>\n",
       "      <td>1</td>\n",
       "    </tr>\n",
       "    <tr>\n",
       "      <th>119</th>\n",
       "      <td>0.0</td>\n",
       "      <td>0.215209</td>\n",
       "      <td>0.00000</td>\n",
       "      <td>0.000000</td>\n",
       "      <td>0.0</td>\n",
       "      <td>0.000000</td>\n",
       "      <td>0.00000</td>\n",
       "      <td>0.000000</td>\n",
       "      <td>0.000000</td>\n",
       "      <td>0.0</td>\n",
       "      <td>...</td>\n",
       "      <td>0.000000</td>\n",
       "      <td>0.0</td>\n",
       "      <td>0.000000</td>\n",
       "      <td>0.0</td>\n",
       "      <td>0.164665</td>\n",
       "      <td>0.0</td>\n",
       "      <td>0.000000</td>\n",
       "      <td>114</td>\n",
       "      <td>0</td>\n",
       "      <td>1</td>\n",
       "    </tr>\n",
       "  </tbody>\n",
       "</table>\n",
       "<p>120 rows × 153 columns</p>\n",
       "</div>"
      ],
      "text/plain": [
       "      d1        d2       d3        d4   d5        d6       d7        d8  \\\n",
       "0    0.0  0.000000  0.00000  0.000000  0.0  0.000000  0.00000  0.000000   \n",
       "1    0.0  0.000000  0.00000  0.225661  0.0  0.000000  0.00000  0.150991   \n",
       "2    0.0  0.039538  0.09156  0.062778  0.0  0.000000  0.00000  0.000000   \n",
       "3    0.0  0.000000  0.00000  0.000000  0.0  0.000000  0.00000  0.000000   \n",
       "4    0.0  0.000000  0.00000  0.000000  0.0  0.000000  0.00000  0.000000   \n",
       "..   ...       ...      ...       ...  ...       ...      ...       ...   \n",
       "115  0.0  0.181346  0.00000  0.000000  0.0  0.193119  0.22575  0.000000   \n",
       "116  0.0  0.332461  0.00000  0.175957  0.0  0.000000  0.00000  0.000000   \n",
       "117  0.0  0.191076  0.00000  0.000000  0.0  0.000000  0.00000  0.000000   \n",
       "118  0.0  0.000000  0.00000  0.077492  0.0  0.000000  0.00000  0.000000   \n",
       "119  0.0  0.215209  0.00000  0.000000  0.0  0.000000  0.00000  0.000000   \n",
       "\n",
       "           d9  d10  ...      d144  d145      d146  d147      d148  d149  \\\n",
       "0    0.000000  0.0  ...  0.000000   0.0  0.132239   0.0  0.000000   0.0   \n",
       "1    0.000000  0.0  ...  0.137182   0.0  0.000000   0.0  0.000000   0.0   \n",
       "2    0.043025  0.0  ...  0.038163   0.0  0.000000   0.0  0.060505   0.0   \n",
       "3    0.000000  0.0  ...  0.000000   0.0  0.000000   0.0  0.000000   0.0   \n",
       "4    0.000000  0.0  ...  0.086459   0.0  0.000000   0.0  0.000000   0.0   \n",
       "..        ...  ...  ...       ...   ...       ...   ...       ...   ...   \n",
       "115  0.000000  0.0  ...  0.000000   0.0  0.000000   0.0  0.277511   0.0   \n",
       "116  0.000000  0.0  ...  0.000000   0.0  0.101486   0.0  0.254379   0.0   \n",
       "117  0.000000  0.0  ...  0.000000   0.0  0.000000   0.0  0.146200   0.0   \n",
       "118  0.000000  0.0  ...  0.094216   0.0  0.000000   0.0  0.149372   0.0   \n",
       "119  0.000000  0.0  ...  0.000000   0.0  0.000000   0.0  0.164665   0.0   \n",
       "\n",
       "         d150  d151  d152  label  \n",
       "0    0.111579    79     0      4  \n",
       "1    0.000000   458     0      4  \n",
       "2    0.030551   484     0      4  \n",
       "3    0.000000    12     0      4  \n",
       "4    0.000000   156     0      4  \n",
       "..        ...   ...   ...    ...  \n",
       "115  0.000000    91     0      1  \n",
       "116  0.000000   150     0      1  \n",
       "117  0.000000    95     1      1  \n",
       "118  0.000000   120     0      1  \n",
       "119  0.000000   114     0      1  \n",
       "\n",
       "[120 rows x 153 columns]"
      ]
     },
     "execution_count": 10,
     "metadata": {},
     "output_type": "execute_result"
    }
   ],
   "source": [
    "data"
   ]
  },
  {
   "cell_type": "code",
   "execution_count": 11,
   "id": "8847c5fc",
   "metadata": {},
   "outputs": [],
   "source": [
    "y = data['label']\n",
    "x = data.drop('label', axis=1)"
   ]
  },
  {
   "cell_type": "code",
   "execution_count": 20,
   "id": "55f9a347",
   "metadata": {},
   "outputs": [],
   "source": [
    "y_pred = lr0.predict(x)"
   ]
  },
  {
   "cell_type": "code",
   "execution_count": 21,
   "id": "814185fd",
   "metadata": {},
   "outputs": [
    {
     "data": {
      "text/plain": [
       "0      4\n",
       "1      4\n",
       "2      4\n",
       "3      4\n",
       "4      4\n",
       "      ..\n",
       "115    1\n",
       "116    1\n",
       "117    1\n",
       "118    1\n",
       "119    1\n",
       "Name: label, Length: 120, dtype: int64"
      ]
     },
     "execution_count": 21,
     "metadata": {},
     "output_type": "execute_result"
    }
   ],
   "source": [
    "y"
   ]
  },
  {
   "cell_type": "code",
   "execution_count": 24,
   "id": "fbe7ab4b",
   "metadata": {},
   "outputs": [
    {
     "name": "stdout",
     "output_type": "stream",
     "text": [
      "Accuracy of class 0: 0.58\n",
      "Accuracy of class 1: 0.07\n",
      "Accuracy of class 2: 0.45\n",
      "Accuracy of class 3: 0.13\n",
      "F1 score: 0.29\n",
      "              precision    recall  f1-score   support\n",
      "\n",
      "           1       0.58      0.69      0.63        26\n",
      "           2       0.07      0.40      0.11         5\n",
      "           3       0.45      0.22      0.29        60\n",
      "           4       0.13      0.14      0.14        29\n",
      "\n",
      "    accuracy                           0.31       120\n",
      "   macro avg       0.31      0.36      0.29       120\n",
      "weighted avg       0.38      0.31      0.32       120\n",
      "\n"
     ]
    }
   ],
   "source": [
    "cm = confusion_matrix(y, y_pred)\n",
    "accuracies = np.diag(cm) / cm.sum(axis=1)\n",
    "f1 = f1_score(y, y_pred, average='macro')\n",
    "for i, accuracy in enumerate(accuracies):\n",
    "    print(f\"Accuracy of class {i}: {accuracy:.2f}\")\n",
    "print(f\"F1 score: {f1:.2f}\")\n",
    "print(classification_report(y_pred, y))"
   ]
  },
  {
   "cell_type": "code",
   "execution_count": 23,
   "id": "5f0ee771",
   "metadata": {},
   "outputs": [
    {
     "data": {
      "text/plain": [
       "array([[18,  2,  8,  3],\n",
       "       [ 6,  2, 15,  7],\n",
       "       [ 0,  1, 13, 15],\n",
       "       [ 2,  0, 24,  4]], dtype=int64)"
      ]
     },
     "execution_count": 23,
     "metadata": {},
     "output_type": "execute_result"
    }
   ],
   "source": [
    "cm\n"
   ]
  }
 ],
 "metadata": {
  "kernelspec": {
   "display_name": "Python 3 (ipykernel)",
   "language": "python",
   "name": "python3"
  },
  "language_info": {
   "codemirror_mode": {
    "name": "ipython",
    "version": 3
   },
   "file_extension": ".py",
   "mimetype": "text/x-python",
   "name": "python",
   "nbconvert_exporter": "python",
   "pygments_lexer": "ipython3",
   "version": "3.9.13"
  }
 },
 "nbformat": 4,
 "nbformat_minor": 5
}
