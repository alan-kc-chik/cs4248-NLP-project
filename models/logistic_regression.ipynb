{
 "cells": [
  {
   "cell_type": "code",
   "execution_count": 9,
   "id": "8a64b945",
   "metadata": {},
   "outputs": [],
   "source": [
    "import pandas as pd\n",
    "import numpy as np\n",
    "from sklearn.linear_model import LogisticRegression\n",
    "from sklearn.model_selection import GridSearchCV\n",
    "from sklearn.metrics import f1_score, make_scorer\n",
    "from sklearn.metrics import confusion_matrix, classification_report"
   ]
  },
  {
   "cell_type": "code",
   "execution_count": 2,
   "id": "1c2a788f",
   "metadata": {},
   "outputs": [],
   "source": [
    "train = pd.read_csv('feature_train.csv')\n",
    "y_train = train['label']\n",
    "X_train = train.drop('id', axis=1)\n",
    "X_train = X_train.drop('label', axis=1)"
   ]
  },
  {
   "cell_type": "code",
   "execution_count": 3,
   "id": "3e6ddd86",
   "metadata": {},
   "outputs": [],
   "source": [
    "test = pd.read_csv('feature_test.csv')\n",
    "y_test = test['label']\n",
    "X_test = test.drop('id', axis=1)\n",
    "X_test = X_test.drop('label', axis=1)"
   ]
  },
  {
   "cell_type": "code",
   "execution_count": 4,
   "id": "96c6cf69",
   "metadata": {},
   "outputs": [
    {
     "name": "stderr",
     "output_type": "stream",
     "text": [
      "[Parallel(n_jobs=8)]: Using backend LokyBackend with 8 concurrent workers.\n",
      "[Parallel(n_jobs=8)]: Done   1 out of   1 | elapsed:  3.4min finished\n"
     ]
    },
    {
     "data": {
      "text/plain": [
       "LogisticRegression(C=1, class_weight='balanced', max_iter=5000,\n",
       "                   multi_class='multinomial', n_jobs=8, verbose=2)"
      ]
     },
     "execution_count": 4,
     "metadata": {},
     "output_type": "execute_result"
    }
   ],
   "source": [
    "lr = LogisticRegression(max_iter=5000, C=1, class_weight='balanced', multi_class='multinomial' , n_jobs=8, verbose=2)\n",
    "lr.fit(X_train, y_train)"
   ]
  },
  {
   "cell_type": "code",
   "execution_count": 6,
   "id": "a2cacf53",
   "metadata": {},
   "outputs": [],
   "source": [
    "y_pred = lr.predict(X_test)"
   ]
  },
  {
   "cell_type": "code",
   "execution_count": 15,
   "id": "dd14148d",
   "metadata": {},
   "outputs": [],
   "source": [
    "def eval(y_pred):\n",
    "    cm = confusion_matrix(y_test, y_pred)\n",
    "    accuracies = np.diag(cm) / cm.sum(axis=1)\n",
    "    f1 = f1_score(y_test, y_pred, average='macro')\n",
    "    for i, accuracy in enumerate(accuracies):\n",
    "        print(f\"Accuracy of class {i}: {accuracy:.2f}\")\n",
    "    print(f\"Weighted F1 score: {f1:.2f}\")"
   ]
  },
  {
   "cell_type": "code",
   "execution_count": 16,
   "id": "fa1c5023",
   "metadata": {},
   "outputs": [
    {
     "name": "stdout",
     "output_type": "stream",
     "text": [
      "Accuracy of class 0: 0.56\n",
      "Accuracy of class 1: 0.25\n",
      "Accuracy of class 2: 0.62\n",
      "Accuracy of class 3: 0.77\n",
      "Weighted F1 score: 0.53\n"
     ]
    }
   ],
   "source": [
    "eval(y_pred)"
   ]
  },
  {
   "cell_type": "code",
   "execution_count": null,
   "id": "bffb1dbd",
   "metadata": {},
   "outputs": [],
   "source": []
  },
  {
   "cell_type": "code",
   "execution_count": null,
   "id": "ec2f046d",
   "metadata": {},
   "outputs": [],
   "source": []
  },
  {
   "cell_type": "code",
   "execution_count": null,
   "id": "9809bca8",
   "metadata": {},
   "outputs": [],
   "source": []
  }
 ],
 "metadata": {
  "kernelspec": {
   "display_name": "Python 3 (ipykernel)",
   "language": "python",
   "name": "python3"
  },
  "language_info": {
   "codemirror_mode": {
    "name": "ipython",
    "version": 3
   },
   "file_extension": ".py",
   "mimetype": "text/x-python",
   "name": "python",
   "nbconvert_exporter": "python",
   "pygments_lexer": "ipython3",
   "version": "3.9.13"
  }
 },
 "nbformat": 4,
 "nbformat_minor": 5
}
