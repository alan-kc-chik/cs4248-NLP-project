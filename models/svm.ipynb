{
 "cells": [
  {
   "cell_type": "markdown",
   "id": "c7f720d8",
   "metadata": {},
   "source": [
    "# CS4248 Project - SVM classifier"
   ]
  },
  {
   "cell_type": "markdown",
   "id": "42e3dfe5",
   "metadata": {},
   "source": [
    "### Import dependencies"
   ]
  },
  {
   "cell_type": "code",
   "execution_count": 10,
   "id": "d3415fb9",
   "metadata": {},
   "outputs": [],
   "source": [
    "import pandas as pd\n",
    "import numpy as np\n",
    "from sklearn.feature_extraction.text import TfidfVectorizer\n",
    "import re\n",
    "import string\n",
    "import time\n",
    "import csv\n",
    "import os\n",
    "import sys\n",
    "from nltk.corpus import stopwords\n",
    "from sklearn import svm\n",
    "from sklearn.metrics import f1_score, classification_report"
   ]
  },
  {
   "cell_type": "markdown",
   "id": "a4e51558",
   "metadata": {},
   "source": [
    "### Feature Engineering\n",
    "Tools to read and encode data"
   ]
  },
  {
   "cell_type": "code",
   "execution_count": 2,
   "id": "4b7973d2",
   "metadata": {},
   "outputs": [],
   "source": [
    "class FeatureEngineer:\n",
    "    def __init__(self, tfidf=True, number_of_words=False, number_of_exclamatory=False):\n",
    "        self.tfidf = tfidf\n",
    "        self.number_of_words = number_of_words\n",
    "        self.number_of_exclamatory = number_of_exclamatory\n",
    "        self.tfidf_vectorizer = TfidfVectorizer(max_df=0.85,min_df=0.15)\n",
    "    \n",
    "    def encode(self, process_input_filename=None, original_input_filename=None, output_filename=None, istrain=True):\n",
    "        data, labels = self.read_data(process_input_filename, col1='text', col2='label')\n",
    "        odata, olabels = self.read_data(original_input_filename, col1=1, col2=0, header=False)\n",
    "        combination = []\n",
    "        if self.tfidf:\n",
    "            tf = self.tf(data, labels, istrain)\n",
    "            combination.append(tf)\n",
    "        if self.number_of_words:\n",
    "            combination.append(self.numofwords(data))\n",
    "        if self.number_of_exclamatory:\n",
    "            combination.append(self.numofexclam(odata))\n",
    "            \n",
    "        matrix = [[] for _ in range(len(data))]\n",
    "        for k in range(len(combination)):\n",
    "            for i in range(len(combination[k])):\n",
    "                for j in combination[k][i]:\n",
    "                    matrix[i].append(j)   \n",
    "        self.generate(matrix, labels, output_filename)\n",
    "        return tf, labels\n",
    "    \n",
    "    def generate(self, matrix, labels, output_filename):\n",
    "        with open(output_filename, mode='w', newline='') as file:\n",
    "            writer = csv.writer(file)\n",
    "            fieldnames = ['id'] + [('d' + str(i)) for i in range(1, len(matrix[0]) + 1)] + ['label']\n",
    "            writer.writerow(fieldnames)\n",
    "            for i, row in enumerate(matrix):\n",
    "                new_row = [i]\n",
    "                for r in row:\n",
    "                    new_row.append(r)\n",
    "                new_row.append(labels[i])\n",
    "                writer.writerow(new_row)\n",
    "    \n",
    "    def read_data(self, filename, col1, col2, header=True):\n",
    "        if not header:\n",
    "            raw_data = pd.read_csv(filename, header=None)\n",
    "        else:\n",
    "            raw_data = pd.read_csv(filename)\n",
    "        data,labels=raw_data[col1].tolist(), raw_data[col2].tolist()\n",
    "        return data, labels\n",
    "    \n",
    "    def tf(self, data, labels, istrain):\n",
    "        if istrain:\n",
    "            tfidf_matrix = self.tfidf_vectorizer.fit_transform(data)\n",
    "            tfidf_matrix = tfidf_matrix.toarray()\n",
    "        else:\n",
    "            tfidf_matrix = self.tfidf_vectorizer.transform(data)\n",
    "            tfidf_matrix = tfidf_matrix.toarray()\n",
    "        return tfidf_matrix\n",
    "    \n",
    "    def numofwords(self, data):\n",
    "        res = [[len(data[i].split())] for i in range(len(data))]\n",
    "        return res\n",
    "    \n",
    "    def numofexclam(self, data):\n",
    "        res = [[0] for i in range(len(data))]\n",
    "        for i in range(len(data)):\n",
    "            for ch in data[i]:\n",
    "                if ch == '!':\n",
    "                    res[i][0] += 1\n",
    "        return res"
   ]
  },
  {
   "cell_type": "markdown",
   "id": "21ec1b8b",
   "metadata": {},
   "source": [
    "### Processing the data and encoding training and testing sets"
   ]
  },
  {
   "cell_type": "code",
   "execution_count": null,
   "id": "f64acbd2",
   "metadata": {},
   "outputs": [],
   "source": [
    "fe = FeatureEngineer(tfidf=True, number_of_words=True, number_of_exclamatory=True)"
   ]
  },
  {
   "cell_type": "code",
   "execution_count": 5,
   "id": "13a2187c",
   "metadata": {},
   "outputs": [],
   "source": [
    "train_tfidf, train_labels = fe.encode(process_input_filename='process_train.csv', original_input_filename='../dataset/fulltrain.csv', output_filename='../dataset/feature_train.csv')"
   ]
  },
  {
   "cell_type": "code",
   "execution_count": 6,
   "id": "e885c481",
   "metadata": {},
   "outputs": [],
   "source": [
    "test_tfidf, test_labels = fe.encode(process_input_filename='process_test.csv', original_input_filename='../dataset/balancedtest.csv', output_filename='../dataset/feature_test.csv',istrain=False)"
   ]
  },
  {
   "cell_type": "markdown",
   "id": "bd3543f1",
   "metadata": {},
   "source": [
    "### Training the SVM model with several kernel methods\n",
    "The best results are provided using `kernel='rbf'`"
   ]
  },
  {
   "cell_type": "code",
   "execution_count": 16,
   "id": "d6a4d5b2",
   "metadata": {},
   "outputs": [
    {
     "name": "stdout",
     "output_type": "stream",
     "text": [
      "Started SVM training ...\n",
      "Started SVM testing ...\n",
      "F1 score : 0.5218411741284723\n"
     ]
    }
   ],
   "source": [
    "SVM = svm.SVC(kernel='rbf')\n",
    "print('Started SVM training ...')\n",
    "SVM.fit(train_tfidf, train_labels)\n",
    "print('Started SVM testing ...')\n",
    "predictions = SVM.predict(test_tfidf)\n",
    "print('F1 score :', f1_score(predictions, test_labels, average='macro'))"
   ]
  },
  {
   "cell_type": "markdown",
   "id": "248b4251",
   "metadata": {},
   "source": [
    "### Testing the model with F1-score"
   ]
  },
  {
   "cell_type": "code",
   "execution_count": 11,
   "id": "c038bd23",
   "metadata": {},
   "outputs": [
    {
     "name": "stdout",
     "output_type": "stream",
     "text": [
      "              precision    recall  f1-score   support\n",
      "\n",
      "      Satire       0.60      0.56      0.57       805\n",
      "        Hoax       0.16      0.49      0.25       251\n",
      "  Propaganda       0.68      0.52      0.59       985\n",
      "    Reliable       0.78      0.61      0.68       959\n",
      "\n",
      "    accuracy                           0.55      3000\n",
      "   macro avg       0.55      0.54      0.52      3000\n",
      "weighted avg       0.64      0.55      0.58      3000\n",
      "\n"
     ]
    }
   ],
   "source": [
    "TEXT_LABELS = {0: 'Satire', 1: 'Hoax', 2: 'Propaganda', 3: 'Reliable'}\n",
    "class_names = list(TEXT_LABELS.values())\n",
    "print(classification_report(y_pred, test_labels, target_names=class_names))"
   ]
  },
  {
   "cell_type": "markdown",
   "id": "53f84cf5",
   "metadata": {},
   "source": [
    "### Training and testing the model with other `kernel` values"
   ]
  },
  {
   "cell_type": "code",
   "execution_count": 9,
   "id": "407e5417",
   "metadata": {},
   "outputs": [
    {
     "name": "stdout",
     "output_type": "stream",
     "text": [
      "Started SVM training ...\n",
      "Started SVM testing ...\n",
      "F1 score : 0.4812646952702081\n"
     ]
    }
   ],
   "source": [
    "SVM = svm.SVC(kernel='linear')\n",
    "print('Started SVM training ...')\n",
    "SVM.fit(train_tfidf, train_labels)\n",
    "print('Started SVM testing ...')\n",
    "predictions = SVM.predict(test_tfidf)\n",
    "print('F1 score :', f1_score(predictions, test_labels, average='macro'))"
   ]
  },
  {
   "cell_type": "code",
   "execution_count": 10,
   "id": "b3c0bce6",
   "metadata": {},
   "outputs": [
    {
     "name": "stdout",
     "output_type": "stream",
     "text": [
      "Started SVM training ...\n",
      "Started SVM testing ...\n",
      "F1 score : 0.5174559993447944\n"
     ]
    }
   ],
   "source": [
    "SVM = svm.SVC(kernel='poly')\n",
    "print('Started SVM training ...')\n",
    "SVM.fit(train_tfidf, train_labels)\n",
    "print('Started SVM testing ...')\n",
    "predictions = SVM.predict(test_tfidf)\n",
    "print('F1 score :', f1_score(predictions, test_labels, average='macro'))"
   ]
  },
  {
   "cell_type": "code",
   "execution_count": 11,
   "id": "72261855",
   "metadata": {},
   "outputs": [
    {
     "name": "stdout",
     "output_type": "stream",
     "text": [
      "Started SVM training ...\n",
      "Started SVM testing ...\n",
      "F1 score : 0.40418482283010543\n"
     ]
    }
   ],
   "source": [
    "SVM = svm.SVC(kernel='sigmoid')\n",
    "print('Started SVM training ...')\n",
    "SVM.fit(train_tfidf, train_labels)\n",
    "print('Started SVM testing ...')\n",
    "predictions = SVM.predict(test_tfidf)\n",
    "print('F1 score :', f1_score(predictions, test_labels, average='macro'))"
   ]
  }
 ],
 "metadata": {
  "kernelspec": {
   "display_name": "Python 3",
   "language": "python",
   "name": "python3"
  },
  "language_info": {
   "codemirror_mode": {
    "name": "ipython",
    "version": 3
   },
   "file_extension": ".py",
   "mimetype": "text/x-python",
   "name": "python",
   "nbconvert_exporter": "python",
   "pygments_lexer": "ipython3",
   "version": "3.8.8"
  }
 },
 "nbformat": 4,
 "nbformat_minor": 5
}
