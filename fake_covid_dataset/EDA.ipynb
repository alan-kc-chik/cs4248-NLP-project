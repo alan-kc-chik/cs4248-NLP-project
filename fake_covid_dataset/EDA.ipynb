{
 "cells": [
  {
   "cell_type": "code",
   "execution_count": 1,
   "metadata": {},
   "outputs": [],
   "source": [
    "import pandas as pd"
   ]
  },
  {
   "cell_type": "code",
   "execution_count": 12,
   "metadata": {},
   "outputs": [
    {
     "data": {
      "text/html": [
       "<div>\n",
       "<style scoped>\n",
       "    .dataframe tbody tr th:only-of-type {\n",
       "        vertical-align: middle;\n",
       "    }\n",
       "\n",
       "    .dataframe tbody tr th {\n",
       "        vertical-align: top;\n",
       "    }\n",
       "\n",
       "    .dataframe thead th {\n",
       "        text-align: right;\n",
       "    }\n",
       "</style>\n",
       "<table border=\"1\" class=\"dataframe\">\n",
       "  <thead>\n",
       "    <tr style=\"text-align: right;\">\n",
       "      <th></th>\n",
       "      <th>class</th>\n",
       "      <th>content_text</th>\n",
       "    </tr>\n",
       "  </thead>\n",
       "  <tbody>\n",
       "    <tr>\n",
       "      <th>0</th>\n",
       "      <td>false</td>\n",
       "      <td>The fact behind every news!, Ever since the Wo...</td>\n",
       "    </tr>\n",
       "    <tr>\n",
       "      <th>1</th>\n",
       "      <td>misleading</td>\n",
       "      <td>AUTHOR, VERA Files, DATE, May 08, 2020, SHARE,...</td>\n",
       "    </tr>\n",
       "    <tr>\n",
       "      <th>2</th>\n",
       "      <td>mostly true</td>\n",
       "      <td>Source: Dr Anthony Nsiah Asare, Verdict: Mostl...</td>\n",
       "    </tr>\n",
       "    <tr>\n",
       "      <th>3</th>\n",
       "      <td>false</td>\n",
       "      <td>More Info, Trying to focus on school work at h...</td>\n",
       "    </tr>\n",
       "    <tr>\n",
       "      <th>4</th>\n",
       "      <td>false</td>\n",
       "      <td>A photo of hundreds of neat piles of bedding a...</td>\n",
       "    </tr>\n",
       "  </tbody>\n",
       "</table>\n",
       "</div>"
      ],
      "text/plain": [
       "         class                                       content_text\n",
       "0        false  The fact behind every news!, Ever since the Wo...\n",
       "1   misleading  AUTHOR, VERA Files, DATE, May 08, 2020, SHARE,...\n",
       "2  mostly true  Source: Dr Anthony Nsiah Asare, Verdict: Mostl...\n",
       "3        false  More Info, Trying to focus on school work at h...\n",
       "4        false  A photo of hundreds of neat piles of bedding a..."
      ]
     },
     "execution_count": 12,
     "metadata": {},
     "output_type": "execute_result"
    }
   ],
   "source": [
    "df = pd.read_csv('FakeCovid_July2020_eng_only.txt', encoding='utf-8')\n",
    "df = df[['class', 'content_text']]\n",
    "df.head()"
   ]
  },
  {
   "cell_type": "code",
   "execution_count": 13,
   "metadata": {},
   "outputs": [
    {
     "data": {
      "text/plain": [
       "false                          2266\n",
       "misleading                      233\n",
       "mostly false                    117\n",
       "mixture                          41\n",
       "true                             34\n",
       "partly false                     26\n",
       "news                             23\n",
       "mostly true                      15\n",
       "correct attribution              12\n",
       "half true                        11\n",
       "miscaptioned                     10\n",
       "unproven                         10\n",
       "no evidence                       9\n",
       "misattributed                     7\n",
       "(org. doesn't apply rating)       7\n",
       "labeled satire                    5\n",
       "two pinocchios                    3\n",
       "scam                              3\n",
       "partly true                       2\n",
       "not true                          2\n",
       "partially false                   1\n",
       "fake                              1\n",
       "pants on fire                     1\n",
       "in dispute                        1\n",
       "partially correct                 1\n",
       "unlikely                          1\n",
       "collections                       1\n",
       "mixed                             1\n",
       "partially true                    1\n",
       "Name: class, dtype: int64"
      ]
     },
     "execution_count": 13,
     "metadata": {},
     "output_type": "execute_result"
    }
   ],
   "source": [
    "df['class'].value_counts()"
   ]
  },
  {
   "cell_type": "code",
   "execution_count": 4,
   "metadata": {},
   "outputs": [
    {
     "data": {
      "text/html": [
       "<div>\n",
       "<style scoped>\n",
       "    .dataframe tbody tr th:only-of-type {\n",
       "        vertical-align: middle;\n",
       "    }\n",
       "\n",
       "    .dataframe tbody tr th {\n",
       "        vertical-align: top;\n",
       "    }\n",
       "\n",
       "    .dataframe thead th {\n",
       "        text-align: right;\n",
       "    }\n",
       "</style>\n",
       "<table border=\"1\" class=\"dataframe\">\n",
       "  <thead>\n",
       "    <tr style=\"text-align: right;\">\n",
       "      <th></th>\n",
       "      <th>class</th>\n",
       "      <th>content_text</th>\n",
       "    </tr>\n",
       "  </thead>\n",
       "  <tbody>\n",
       "    <tr>\n",
       "      <th>0</th>\n",
       "      <td>false</td>\n",
       "      <td>The fact behind every news!, Ever since the Wo...</td>\n",
       "    </tr>\n",
       "    <tr>\n",
       "      <th>1</th>\n",
       "      <td>misleading</td>\n",
       "      <td>AUTHOR, VERA Files, DATE, May 08, 2020, SHARE,...</td>\n",
       "    </tr>\n",
       "    <tr>\n",
       "      <th>2</th>\n",
       "      <td>mostly true</td>\n",
       "      <td>Source: Dr Anthony Nsiah Asare, Verdict: Mostl...</td>\n",
       "    </tr>\n",
       "    <tr>\n",
       "      <th>3</th>\n",
       "      <td>false</td>\n",
       "      <td>More Info, Trying to focus on school work at h...</td>\n",
       "    </tr>\n",
       "    <tr>\n",
       "      <th>4</th>\n",
       "      <td>false</td>\n",
       "      <td>A photo of hundreds of neat piles of bedding a...</td>\n",
       "    </tr>\n",
       "  </tbody>\n",
       "</table>\n",
       "</div>"
      ],
      "text/plain": [
       "         class                                       content_text\n",
       "0        false  The fact behind every news!, Ever since the Wo...\n",
       "1   misleading  AUTHOR, VERA Files, DATE, May 08, 2020, SHARE,...\n",
       "2  mostly true  Source: Dr Anthony Nsiah Asare, Verdict: Mostl...\n",
       "3        false  More Info, Trying to focus on school work at h...\n",
       "4        false  A photo of hundreds of neat piles of bedding a..."
      ]
     },
     "execution_count": 4,
     "metadata": {},
     "output_type": "execute_result"
    }
   ],
   "source": [
    "df.head()"
   ]
  },
  {
   "cell_type": "code",
   "execution_count": 10,
   "metadata": {},
   "outputs": [
    {
     "data": {
      "text/html": [
       "<div>\n",
       "<style scoped>\n",
       "    .dataframe tbody tr th:only-of-type {\n",
       "        vertical-align: middle;\n",
       "    }\n",
       "\n",
       "    .dataframe tbody tr th {\n",
       "        vertical-align: top;\n",
       "    }\n",
       "\n",
       "    .dataframe thead th {\n",
       "        text-align: right;\n",
       "    }\n",
       "</style>\n",
       "<table border=\"1\" class=\"dataframe\">\n",
       "  <thead>\n",
       "    <tr style=\"text-align: right;\">\n",
       "      <th></th>\n",
       "      <th>class</th>\n",
       "      <th>content_text</th>\n",
       "    </tr>\n",
       "  </thead>\n",
       "  <tbody>\n",
       "    <tr>\n",
       "      <th>0</th>\n",
       "      <td>Propaganda</td>\n",
       "      <td>For months, the mainstream media has been pret...</td>\n",
       "    </tr>\n",
       "    <tr>\n",
       "      <th>1</th>\n",
       "      <td>Propaganda</td>\n",
       "      <td>In case you have not noticed, the \"old normal\"...</td>\n",
       "    </tr>\n",
       "    <tr>\n",
       "      <th>2</th>\n",
       "      <td>Propaganda</td>\n",
       "      <td>Scientists initially thought that the Wuhan co...</td>\n",
       "    </tr>\n",
       "    <tr>\n",
       "      <th>3</th>\n",
       "      <td>Propaganda</td>\n",
       "      <td>Walker says that Directed Evolution is differe...</td>\n",
       "    </tr>\n",
       "    <tr>\n",
       "      <th>4</th>\n",
       "      <td>Propaganda</td>\n",
       "      <td>Discussing a New England Journal of Medicine a...</td>\n",
       "    </tr>\n",
       "  </tbody>\n",
       "</table>\n",
       "</div>"
      ],
      "text/plain": [
       "        class                                       content_text\n",
       "0  Propaganda  For months, the mainstream media has been pret...\n",
       "1  Propaganda  In case you have not noticed, the \"old normal\"...\n",
       "2  Propaganda  Scientists initially thought that the Wuhan co...\n",
       "3  Propaganda  Walker says that Directed Evolution is differe...\n",
       "4  Propaganda  Discussing a New England Journal of Medicine a..."
      ]
     },
     "execution_count": 10,
     "metadata": {},
     "output_type": "execute_result"
    }
   ],
   "source": [
    "propaganda = pd.read_csv('covid_propaganda_articles.csv', encoding='utf-8')\n",
    "propaganda.head()"
   ]
  },
  {
   "cell_type": "code",
   "execution_count": 11,
   "metadata": {},
   "outputs": [
    {
     "data": {
      "text/html": [
       "<div>\n",
       "<style scoped>\n",
       "    .dataframe tbody tr th:only-of-type {\n",
       "        vertical-align: middle;\n",
       "    }\n",
       "\n",
       "    .dataframe tbody tr th {\n",
       "        vertical-align: top;\n",
       "    }\n",
       "\n",
       "    .dataframe thead th {\n",
       "        text-align: right;\n",
       "    }\n",
       "</style>\n",
       "<table border=\"1\" class=\"dataframe\">\n",
       "  <thead>\n",
       "    <tr style=\"text-align: right;\">\n",
       "      <th></th>\n",
       "      <th>class</th>\n",
       "      <th>content_text</th>\n",
       "    </tr>\n",
       "  </thead>\n",
       "  <tbody>\n",
       "    <tr>\n",
       "      <th>0</th>\n",
       "      <td>Satire</td>\n",
       "      <td>Pining after a woman it acknowledged it might ...</td>\n",
       "    </tr>\n",
       "    <tr>\n",
       "      <th>1</th>\n",
       "      <td>Satire</td>\n",
       "      <td>After conducting a nationwide survey of distri...</td>\n",
       "    </tr>\n",
       "    <tr>\n",
       "      <th>2</th>\n",
       "      <td>Satire</td>\n",
       "      <td>In an effort to keep the public abreast of the...</td>\n",
       "    </tr>\n",
       "    <tr>\n",
       "      <th>3</th>\n",
       "      <td>Satire</td>\n",
       "      <td>As the 10-month-old pandemic continued its ram...</td>\n",
       "    </tr>\n",
       "    <tr>\n",
       "      <th>4</th>\n",
       "      <td>Satire</td>\n",
       "      <td>After consulting with an interagency panel of ...</td>\n",
       "    </tr>\n",
       "  </tbody>\n",
       "</table>\n",
       "</div>"
      ],
      "text/plain": [
       "    class                                       content_text\n",
       "0  Satire  Pining after a woman it acknowledged it might ...\n",
       "1  Satire  After conducting a nationwide survey of distri...\n",
       "2  Satire  In an effort to keep the public abreast of the...\n",
       "3  Satire  As the 10-month-old pandemic continued its ram...\n",
       "4  Satire  After consulting with an interagency panel of ..."
      ]
     },
     "execution_count": 11,
     "metadata": {},
     "output_type": "execute_result"
    }
   ],
   "source": [
    "satire = pd.read_csv('covid_satire_articles.csv', encoding='utf-8')\n",
    "satire.head()"
   ]
  },
  {
   "cell_type": "code",
   "execution_count": 34,
   "metadata": {},
   "outputs": [
    {
     "data": {
      "text/html": [
       "<div>\n",
       "<style scoped>\n",
       "    .dataframe tbody tr th:only-of-type {\n",
       "        vertical-align: middle;\n",
       "    }\n",
       "\n",
       "    .dataframe tbody tr th {\n",
       "        vertical-align: top;\n",
       "    }\n",
       "\n",
       "    .dataframe thead th {\n",
       "        text-align: right;\n",
       "    }\n",
       "</style>\n",
       "<table border=\"1\" class=\"dataframe\">\n",
       "  <thead>\n",
       "    <tr style=\"text-align: right;\">\n",
       "      <th></th>\n",
       "      <th>class</th>\n",
       "      <th>content_text</th>\n",
       "    </tr>\n",
       "  </thead>\n",
       "  <tbody>\n",
       "    <tr>\n",
       "      <th>0</th>\n",
       "      <td>Hoax</td>\n",
       "      <td>You just need to add water, and the drugs and ...</td>\n",
       "    </tr>\n",
       "    <tr>\n",
       "      <th>1</th>\n",
       "      <td>Hoax</td>\n",
       "      <td>Hydroxychloroquine has been shown to have a 10...</td>\n",
       "    </tr>\n",
       "    <tr>\n",
       "      <th>2</th>\n",
       "      <td>Hoax</td>\n",
       "      <td>Fact: Hydroxychloroquine has been shown to hav...</td>\n",
       "    </tr>\n",
       "    <tr>\n",
       "      <th>3</th>\n",
       "      <td>Hoax</td>\n",
       "      <td>The Corona virus is a man made virus created i...</td>\n",
       "    </tr>\n",
       "    <tr>\n",
       "      <th>4</th>\n",
       "      <td>Hoax</td>\n",
       "      <td>Doesn’t @BillGates finance research at the Wuh...</td>\n",
       "    </tr>\n",
       "  </tbody>\n",
       "</table>\n",
       "</div>"
      ],
      "text/plain": [
       "  class                                       content_text\n",
       "0  Hoax  You just need to add water, and the drugs and ...\n",
       "1  Hoax  Hydroxychloroquine has been shown to have a 10...\n",
       "2  Hoax  Fact: Hydroxychloroquine has been shown to hav...\n",
       "3  Hoax  The Corona virus is a man made virus created i...\n",
       "4  Hoax  Doesn’t @BillGates finance research at the Wuh..."
      ]
     },
     "execution_count": 34,
     "metadata": {},
     "output_type": "execute_result"
    }
   ],
   "source": [
    "real_or_fake = pd.read_csv('corona_fake_cleaned.csv', encoding='utf-8')\n",
    "real_or_fake.head()\n"
   ]
  },
  {
   "cell_type": "code",
   "execution_count": 36,
   "metadata": {},
   "outputs": [
    {
     "data": {
      "text/plain": [
       "Reliable News    584\n",
       "Hoax             575\n",
       "Name: class, dtype: int64"
      ]
     },
     "execution_count": 36,
     "metadata": {},
     "output_type": "execute_result"
    }
   ],
   "source": [
    "real_or_fake['class'].value_counts()"
   ]
  },
  {
   "cell_type": "code",
   "execution_count": null,
   "metadata": {},
   "outputs": [],
   "source": []
  }
 ],
 "metadata": {
  "kernelspec": {
   "display_name": "Python 3",
   "language": "python",
   "name": "python3"
  },
  "language_info": {
   "codemirror_mode": {
    "name": "ipython",
    "version": 3
   },
   "file_extension": ".py",
   "mimetype": "text/x-python",
   "name": "python",
   "nbconvert_exporter": "python",
   "pygments_lexer": "ipython3",
   "version": "3.10.10"
  },
  "orig_nbformat": 4
 },
 "nbformat": 4,
 "nbformat_minor": 2
}
