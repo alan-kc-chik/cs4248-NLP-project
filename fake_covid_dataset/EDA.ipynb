{
 "cells": [
  {
   "cell_type": "code",
   "execution_count": 1,
   "metadata": {},
   "outputs": [],
   "source": [
    "import pandas as pd"
   ]
  },
  {
   "cell_type": "code",
   "execution_count": 2,
   "metadata": {},
   "outputs": [
    {
     "data": {
      "text/html": [
       "<div>\n",
       "<style scoped>\n",
       "    .dataframe tbody tr th:only-of-type {\n",
       "        vertical-align: middle;\n",
       "    }\n",
       "\n",
       "    .dataframe tbody tr th {\n",
       "        vertical-align: top;\n",
       "    }\n",
       "\n",
       "    .dataframe thead th {\n",
       "        text-align: right;\n",
       "    }\n",
       "</style>\n",
       "<table border=\"1\" class=\"dataframe\">\n",
       "  <thead>\n",
       "    <tr style=\"text-align: right;\">\n",
       "      <th></th>\n",
       "      <th>class</th>\n",
       "      <th>title</th>\n",
       "      <th>content_text</th>\n",
       "    </tr>\n",
       "  </thead>\n",
       "  <tbody>\n",
       "    <tr>\n",
       "      <th>0</th>\n",
       "      <td>false</td>\n",
       "      <td>Chinese converting to Islam after realizing t...</td>\n",
       "      <td>The fact behind every news!, Ever since the Wo...</td>\n",
       "    </tr>\n",
       "    <tr>\n",
       "      <th>1</th>\n",
       "      <td>misleading</td>\n",
       "      <td>Captions on a reuploaded video about the U.S....</td>\n",
       "      <td>AUTHOR, VERA Files, DATE, May 08, 2020, SHARE,...</td>\n",
       "    </tr>\n",
       "    <tr>\n",
       "      <th>2</th>\n",
       "      <td>mostly true</td>\n",
       "      <td>Ghana has 307 ambulances with mobile ventilat...</td>\n",
       "      <td>Source: Dr Anthony Nsiah Asare, Verdict: Mostl...</td>\n",
       "    </tr>\n",
       "    <tr>\n",
       "      <th>3</th>\n",
       "      <td>false</td>\n",
       "      <td>“Governor Andy Beshear has authorized Kentuck...</td>\n",
       "      <td>More Info, Trying to focus on school work at h...</td>\n",
       "    </tr>\n",
       "    <tr>\n",
       "      <th>4</th>\n",
       "      <td>false</td>\n",
       "      <td>Photo shows food being distributed to Rwandan...</td>\n",
       "      <td>A photo of hundreds of neat piles of bedding a...</td>\n",
       "    </tr>\n",
       "  </tbody>\n",
       "</table>\n",
       "</div>"
      ],
      "text/plain": [
       "         class                                              title  \\\n",
       "0        false   Chinese converting to Islam after realizing t...   \n",
       "1   misleading   Captions on a reuploaded video about the U.S....   \n",
       "2  mostly true   Ghana has 307 ambulances with mobile ventilat...   \n",
       "3        false   “Governor Andy Beshear has authorized Kentuck...   \n",
       "4        false   Photo shows food being distributed to Rwandan...   \n",
       "\n",
       "                                        content_text  \n",
       "0  The fact behind every news!, Ever since the Wo...  \n",
       "1  AUTHOR, VERA Files, DATE, May 08, 2020, SHARE,...  \n",
       "2  Source: Dr Anthony Nsiah Asare, Verdict: Mostl...  \n",
       "3  More Info, Trying to focus on school work at h...  \n",
       "4  A photo of hundreds of neat piles of bedding a...  "
      ]
     },
     "execution_count": 2,
     "metadata": {},
     "output_type": "execute_result"
    }
   ],
   "source": [
    "df = pd.read_csv('FakeCovid_July2020_eng_only.txt', encoding='utf-8')\n",
    "df.head()"
   ]
  },
  {
   "cell_type": "code",
   "execution_count": 3,
   "metadata": {},
   "outputs": [
    {
     "data": {
      "text/plain": [
       "false                          2266\n",
       "misleading                      233\n",
       "mostly false                    117\n",
       "mixture                          41\n",
       "true                             34\n",
       "partly false                     26\n",
       "news                             23\n",
       "mostly true                      15\n",
       "correct attribution              12\n",
       "half true                        11\n",
       "miscaptioned                     10\n",
       "unproven                         10\n",
       "no evidence                       9\n",
       "misattributed                     7\n",
       "(org. doesn't apply rating)       7\n",
       "labeled satire                    5\n",
       "two pinocchios                    3\n",
       "scam                              3\n",
       "partly true                       2\n",
       "not true                          2\n",
       "partially false                   1\n",
       "fake                              1\n",
       "pants on fire                     1\n",
       "in dispute                        1\n",
       "partially correct                 1\n",
       "unlikely                          1\n",
       "collections                       1\n",
       "mixed                             1\n",
       "partially true                    1\n",
       "Name: class, dtype: int64"
      ]
     },
     "execution_count": 3,
     "metadata": {},
     "output_type": "execute_result"
    }
   ],
   "source": [
    "df['class'].value_counts()"
   ]
  },
  {
   "cell_type": "code",
   "execution_count": null,
   "metadata": {},
   "outputs": [],
   "source": []
  }
 ],
 "metadata": {
  "kernelspec": {
   "display_name": "Python 3",
   "language": "python",
   "name": "python3"
  },
  "language_info": {
   "codemirror_mode": {
    "name": "ipython",
    "version": 3
   },
   "file_extension": ".py",
   "mimetype": "text/x-python",
   "name": "python",
   "nbconvert_exporter": "python",
   "pygments_lexer": "ipython3",
   "version": "3.10.10"
  },
  "orig_nbformat": 4
 },
 "nbformat": 4,
 "nbformat_minor": 2
}
