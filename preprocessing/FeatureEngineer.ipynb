{
 "cells": [
  {
   "cell_type": "code",
   "execution_count": 42,
   "id": "a88aaefd",
   "metadata": {},
   "outputs": [],
   "source": [
    "import pandas as pd\n",
    "import numpy as np\n",
    "from sklearn.feature_extraction.text import TfidfVectorizer\n",
    "import re\n",
    "import string\n",
    "import time\n",
    "import csv\n",
    "import os\n",
    "import sys\n",
    "from nltk.corpus import stopwords\n",
    "import tensorflow as tf\n",
    "import tensorflow_hub as hub\n",
    "import tensorflow_text"
   ]
  },
  {
   "cell_type": "code",
   "execution_count": 46,
   "id": "ead3318d",
   "metadata": {},
   "outputs": [],
   "source": [
    "class FeatureEngineer:\n",
    "    def __init__(self, tfidf=True, number_of_words=False, number_of_exclamatory=False):\n",
    "        self.tfidf = tfidf\n",
    "        self.number_of_words = number_of_words\n",
    "        self.number_of_exclamatory = number_of_exclamatory\n",
    "        self.tfidf_vectorizer = TfidfVectorizer(max_df=0.85,min_df=0.15)\n",
    "    \n",
    "    def encode(self, process_input_filename=None, original_input_filename=None, output_filename=None, istrain=True):\n",
    "        data, labels = self.read_data(process_input_filename, col1='text', col2='label')\n",
    "        odata, olabels = self.read_data(original_input_filename, col1=1, col2=0, header=False)\n",
    "        combination = []\n",
    "        if self.tfidf:\n",
    "            combination.append(self.tf(data, labels, istrain))\n",
    "        if self.number_of_words:\n",
    "            combination.append(self.numofwords(data))\n",
    "        if self.number_of_exclamatory:\n",
    "            combination.append(self.numofexclam(odata))\n",
    "            \n",
    "        matrix = [[] for _ in range(len(data))]\n",
    "        for k in range(len(combination)):\n",
    "            for i in range(len(combination[k])):\n",
    "                for j in combination[k][i]:\n",
    "                    matrix[i].append(j)   \n",
    "        self.generate(matrix, labels, output_filename)\n",
    "    \n",
    "    def generate(self, matrix, labels, output_filename):\n",
    "        with open(output_filename, mode='w', newline='') as file:\n",
    "            writer = csv.writer(file)\n",
    "            fieldnames = ['id'] + [('d' + str(i)) for i in range(1, len(matrix[0]) + 1)] + ['label']\n",
    "            writer.writerow(fieldnames)\n",
    "            for i, row in enumerate(matrix):\n",
    "                new_row = [i]\n",
    "                for r in row:\n",
    "                    new_row.append(r)\n",
    "                new_row.append(labels[i])\n",
    "                writer.writerow(new_row)\n",
    "    \n",
    "    def read_data(self, filename, col1, col2, header=True):\n",
    "        if not header:\n",
    "            raw_data = pd.read_csv(filename, header=None)\n",
    "        else:\n",
    "            raw_data = pd.read_csv(filename)\n",
    "        data,labels=raw_data[col1].tolist(), raw_data[col2].tolist()\n",
    "        return data, labels\n",
    "    \n",
    "    def tf(self, data, labels, istrain):\n",
    "        if istrain:\n",
    "            tfidf_matrix = self.tfidf_vectorizer.fit_transform(data)\n",
    "            tfidf_matrix = tfidf_matrix.toarray()\n",
    "        else:\n",
    "            tfidf_matrix = self.tfidf_vectorizer.transform(data)\n",
    "            tfidf_matrix = tfidf_matrix.toarray()\n",
    "        return tfidf_matrix\n",
    "    \n",
    "    def numofwords(self, data):\n",
    "        res = [[len(data[i].split())] for i in range(len(data))]\n",
    "        return res\n",
    "    \n",
    "    def numofexclam(self, data):\n",
    "        res = [[0] for i in range(len(data))]\n",
    "        for i in range(len(data)):\n",
    "            for ch in data[i]:\n",
    "                if ch == '!':\n",
    "                    res[i][0] += 1\n",
    "        return res\n",
    "        \n"
   ]
  },
  {
   "cell_type": "code",
   "execution_count": 47,
   "id": "dbbb0a24",
   "metadata": {},
   "outputs": [],
   "source": [
    "fe = FeatureEngineer(tfidf=True, number_of_words=True, number_of_exclamatory=True)"
   ]
  },
  {
   "cell_type": "code",
   "execution_count": 48,
   "id": "5f58bf5d",
   "metadata": {},
   "outputs": [],
   "source": [
    "fe.encode(process_input_filename='../dataset/process_train.csv', original_input_filename='../dataset/fulltrain.csv', output_filename='../dataset/feature_train.csv')"
   ]
  },
  {
   "cell_type": "code",
   "execution_count": 49,
   "id": "ef08d873",
   "metadata": {},
   "outputs": [],
   "source": [
    "fe.encode(process_input_filename='../dataset/process_test.csv', original_input_filename='../dataset/balancedtest.csv', output_filename='../dataset/feature_test.csv',istrain=False)"
   ]
  },
  {
   "cell_type": "code",
   "execution_count": null,
   "id": "eda8beef",
   "metadata": {},
   "outputs": [],
   "source": []
  },
  {
   "cell_type": "code",
   "execution_count": null,
   "id": "d6910d5d",
   "metadata": {},
   "outputs": [],
   "source": []
  },
  {
   "cell_type": "code",
   "execution_count": null,
   "id": "f621a889",
   "metadata": {},
   "outputs": [],
   "source": []
  }
 ],
 "metadata": {
  "kernelspec": {
   "display_name": "Python 3 (ipykernel)",
   "language": "python",
   "name": "python3"
  },
  "language_info": {
   "codemirror_mode": {
    "name": "ipython",
    "version": 3
   },
   "file_extension": ".py",
   "mimetype": "text/x-python",
   "name": "python",
   "nbconvert_exporter": "python",
   "pygments_lexer": "ipython3",
   "version": "3.9.13"
  }
 },
 "nbformat": 4,
 "nbformat_minor": 5
}
